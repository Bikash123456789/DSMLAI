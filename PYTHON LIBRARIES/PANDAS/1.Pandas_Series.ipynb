{
 "cells": [
  {
   "cell_type": "markdown",
   "id": "1341157c",
   "metadata": {},
   "source": [
    "### What is Pandas\n",
    "Pandas is a fast, powerful, flexible and easy to use open source data analysis and manipulation tool, built on top of the Python programming language.\n",
    "\n",
    "### What is a Pandas Series?\n",
    "A Pandas Series is a one-dimensional labeled array that can hold any data type (integers, floats, strings, Python objects, etc.). It is similar to a column in an Excel sheet or a list in Python, but with an associated index for each value."
   ]
  },
  {
   "cell_type": "code",
   "execution_count": 1,
   "id": "37c68463",
   "metadata": {},
   "outputs": [],
   "source": [
    "# import pandas\n",
    "import pandas as pd\n",
    "\n",
    "# import numpy\n",
    "import numpy as np"
   ]
  },
  {
   "cell_type": "markdown",
   "id": "c8567d52",
   "metadata": {},
   "source": [
    "# Creating a Pandas Series"
   ]
  },
  {
   "cell_type": "markdown",
   "id": "6e7cc04d",
   "metadata": {},
   "source": [
    "### Creating a Pandas Series from Python Lists"
   ]
  },
  {
   "cell_type": "code",
   "execution_count": 2,
   "id": "b077c0e1",
   "metadata": {},
   "outputs": [
    {
     "data": {
      "text/plain": [
       "0    1\n",
       "1    2\n",
       "2    3\n",
       "3    4\n",
       "dtype: int64"
      ]
     },
     "execution_count": 2,
     "metadata": {},
     "output_type": "execute_result"
    }
   ],
   "source": [
    "# Creating a Pandas Series with Integer Data\n",
    "\n",
    "num = [1, 2, 3, 4]\n",
    "pd.Series(num)"
   ]
  },
  {
   "cell_type": "code",
   "execution_count": 3,
   "id": "409e1220",
   "metadata": {},
   "outputs": [
    {
     "data": {
      "text/plain": [
       "0        India\n",
       "1     Pakistan\n",
       "2          USA\n",
       "3        Nepal\n",
       "4    Sri Lanka\n",
       "dtype: object"
      ]
     },
     "execution_count": 3,
     "metadata": {},
     "output_type": "execute_result"
    }
   ],
   "source": [
    "# Creating a series with String Data\n",
    "\n",
    "country = [\"India\", \"Pakistan\", \"USA\", \"Nepal\", \"Sri Lanka\"]\n",
    "pd.Series(country)"
   ]
  },
  {
   "cell_type": "code",
   "execution_count": 4,
   "id": "5e4b100a",
   "metadata": {},
   "outputs": [
    {
     "name": "stdout",
     "output_type": "stream",
     "text": [
      "a    1\n",
      "b    2\n",
      "c    3\n",
      "d    4\n",
      "dtype: int64\n",
      "--------------\n",
      "Maths       90\n",
      "Science    100\n",
      "English     85\n",
      "dtype: int64\n"
     ]
    }
   ],
   "source": [
    "# Creating a Series with Custom Index\n",
    "\n",
    "num = [1, 2, 3, 4]\n",
    "num_series = pd.Series(num, index=[\"a\", \"b\", \"c\", \"d\"])\n",
    "\n",
    "marks = [90, 100, 85]\n",
    "subjects = [\"Maths\", \"Science\", \"English\"]\n",
    "marks_series = pd.Series(marks, index=subjects)\n",
    "\n",
    "print(num_series)\n",
    "print(\"--------------\")\n",
    "print(marks_series)"
   ]
  },
  {
   "cell_type": "code",
   "execution_count": 5,
   "id": "56bb94af",
   "metadata": {},
   "outputs": [
    {
     "data": {
      "text/plain": [
       "Maths       90\n",
       "Science    100\n",
       "English     85\n",
       "Name: Student Marks, dtype: int64"
      ]
     },
     "execution_count": 5,
     "metadata": {},
     "output_type": "execute_result"
    }
   ],
   "source": [
    "# Setting a name for the Series\n",
    "\n",
    "marks = pd.Series(marks, index=subjects, name=\"Student Marks\")\n",
    "marks"
   ]
  },
  {
   "cell_type": "markdown",
   "id": "de076ae2",
   "metadata": {},
   "source": [
    "### Creating a Pandas Series from a Dictionary\n",
    "Dictionary keys become the index of the Series, and values are stored as data."
   ]
  },
  {
   "cell_type": "code",
   "execution_count": 6,
   "id": "5106e79d",
   "metadata": {},
   "outputs": [
    {
     "data": {
      "text/plain": [
       "Maths       90\n",
       "Science    100\n",
       "English     85\n",
       "dtype: int64"
      ]
     },
     "execution_count": 6,
     "metadata": {},
     "output_type": "execute_result"
    }
   ],
   "source": [
    "marks = {\"Maths\": 90, \"Science\": 100, \"English\": 85}\n",
    "pd.Series(marks)"
   ]
  },
  {
   "cell_type": "code",
   "execution_count": 7,
   "id": "80eaefa8",
   "metadata": {},
   "outputs": [
    {
     "data": {
      "text/plain": [
       "barelona    95\n",
       "madrid      92\n",
       "man city    90\n",
       "dtype: int64"
      ]
     },
     "execution_count": 7,
     "metadata": {},
     "output_type": "execute_result"
    }
   ],
   "source": [
    "teams = {\"barelona\": 95, \"madrid\": 92, \"man city\": 90}\n",
    "pd.Series(teams)"
   ]
  },
  {
   "cell_type": "markdown",
   "id": "31a704dd",
   "metadata": {},
   "source": [
    "### Creating a Pandas Series from a NumPy Array"
   ]
  },
  {
   "cell_type": "code",
   "execution_count": 8,
   "id": "33b294f2",
   "metadata": {},
   "outputs": [
    {
     "data": {
      "text/plain": [
       "0    1.5\n",
       "1    2.5\n",
       "2    3.5\n",
       "dtype: float64"
      ]
     },
     "execution_count": 8,
     "metadata": {},
     "output_type": "execute_result"
    }
   ],
   "source": [
    "array = np.array([1.5, 2.5, 3.5])\n",
    "\n",
    "series_array = pd.Series(array)\n",
    "series_array"
   ]
  },
  {
   "cell_type": "markdown",
   "id": "22a1dffa",
   "metadata": {},
   "source": [
    "### Creating a Series from a Scalar Value"
   ]
  },
  {
   "cell_type": "code",
   "execution_count": 9,
   "id": "6cf99244",
   "metadata": {},
   "outputs": [
    {
     "data": {
      "text/plain": [
       "a     5\n",
       "b     5\n",
       "c     5\n",
       "2     5\n",
       "6     5\n",
       "88    5\n",
       "dtype: int64"
      ]
     },
     "execution_count": 9,
     "metadata": {},
     "output_type": "execute_result"
    }
   ],
   "source": [
    "# If we provide a single scalar value, Pandas creates a Series by repeating it for the given index.\n",
    "\n",
    "series_5 = pd.Series(5, index=[\"a\", \"b\", \"c\", 2, 6, 88])\n",
    "series_5"
   ]
  },
  {
   "cell_type": "markdown",
   "id": "a4503608",
   "metadata": {},
   "source": [
    "# Series Attibutes"
   ]
  },
  {
   "cell_type": "code",
   "execution_count": 10,
   "id": "70e133b5",
   "metadata": {},
   "outputs": [
    {
     "data": {
      "text/plain": [
       "maths       67\n",
       "english     57\n",
       "science     89\n",
       "hindi      100\n",
       "Name: Student Marks, dtype: int64"
      ]
     },
     "execution_count": 10,
     "metadata": {},
     "output_type": "execute_result"
    }
   ],
   "source": [
    "# Let us consider this series for the following examples.\n",
    "marks = {\"maths\": 67, \"english\": 57, \"science\": 89, \"hindi\": 100}\n",
    "marks_series = pd.Series(marks, name=\"Student Marks\")\n",
    "marks_series"
   ]
  },
  {
   "cell_type": "code",
   "execution_count": 11,
   "id": "8807f366",
   "metadata": {},
   "outputs": [
    {
     "name": "stdout",
     "output_type": "stream",
     "text": [
      "Index Labels : \n",
      "Index(['maths', 'english', 'science', 'hindi'], dtype='object')\n",
      "----------------\n",
      "Series Values : \n",
      "[ 67  57  89 100]\n",
      "----------------\n",
      "Series Name : \n",
      "Student Marks\n",
      "----------------\n",
      "Data Type :\n",
      "int64\n",
      "----------------\n",
      "Number of elements : 4\n",
      "----------------\n",
      "Is Unique :  True\n"
     ]
    }
   ],
   "source": [
    "# s.index\t-> Returns index labels\n",
    "print(\"Index Labels : \")\n",
    "print(marks_series.index)\n",
    "print(\"----------------\")\n",
    "\n",
    "# s.values ->\tReturns Series values\n",
    "print(\"Series Values : \")\n",
    "print(marks_series.values)\n",
    "print(\"----------------\")\n",
    "\n",
    "# s.name\t-> Returns Series name\n",
    "print(\"Series Name : \")\n",
    "print(marks_series.name)\n",
    "print(\"----------------\")\n",
    "\n",
    "# s.dtype\t-> Returns data type of the series\n",
    "print(\"Data Type :\")\n",
    "print(marks_series.dtype)\n",
    "print(\"----------------\")\n",
    "\n",
    "# s.size ->\tReturns number of elements of the series including all null values\n",
    "print(\"Number of elements :\", marks_series.size)\n",
    "print(\"----------------\")\n",
    "\n",
    "# s.isunique -> Returns True if all the elements of the series are unique, else False\n",
    "print(\"Is Unique : \", marks_series.is_unique)"
   ]
  },
  {
   "cell_type": "markdown",
   "id": "eee01641",
   "metadata": {},
   "source": [
    "## Creating Series from csv files"
   ]
  },
  {
   "cell_type": "code",
   "execution_count": 13,
   "id": "288b92bb",
   "metadata": {},
   "outputs": [
    {
     "name": "stdout",
     "output_type": "stream",
     "text": [
      "    age  gender  fever   cough       city has_covid\n",
      "0    60    Male  103.0    Mild    Kolkata        No\n",
      "1    27    Male  100.0    Mild      Delhi       Yes\n",
      "2    42    Male  101.0    Mild      Delhi        No\n",
      "3    31  Female   98.0    Mild    Kolkata        No\n",
      "4    65  Female  101.0    Mild     Mumbai        No\n",
      "..  ...     ...    ...     ...        ...       ...\n",
      "95   12  Female  104.0    Mild  Bangalore        No\n",
      "96   51  Female  101.0  Strong    Kolkata       Yes\n",
      "97   20  Female  101.0    Mild  Bangalore        No\n",
      "98    5  Female   98.0  Strong     Mumbai        No\n",
      "99   10  Female   98.0  Strong    Kolkata       Yes\n",
      "\n",
      "[100 rows x 6 columns]\n",
      "------------------------------------------------------------\n",
      "0     60\n",
      "1     27\n",
      "2     42\n",
      "3     31\n",
      "4     65\n",
      "      ..\n",
      "95    12\n",
      "96    51\n",
      "97    20\n",
      "98     5\n",
      "99    10\n",
      "Name: age, Length: 100, dtype: int64\n"
     ]
    }
   ],
   "source": [
    "# We will learn these methods in the future lessons\n",
    "\n",
    "# Step 1 : Load the csv file in a dataframe using the pd.read_csv function\n",
    "df = pd.read_csv(\"covid_toy.csv\")\n",
    "print(df)\n",
    "print(\"------------------------------------------------------------\")\n",
    "\n",
    "# Step 2 : Extract the required columns into a Series\n",
    "subs_series = df.iloc[:, 0]  # This selects the first column as the series\n",
    "\n",
    "print(subs_series)"
   ]
  },
  {
   "cell_type": "code",
   "execution_count": 21,
   "id": "c383a291",
   "metadata": {},
   "outputs": [
    {
     "name": "stdout",
     "output_type": "stream",
     "text": [
      "     Subscribers gained\n",
      "0                    48\n",
      "1                    57\n",
      "2                    40\n",
      "3                    43\n",
      "4                    44\n",
      "..                  ...\n",
      "360                 231\n",
      "361                 226\n",
      "362                 155\n",
      "363                 144\n",
      "364                 172\n",
      "\n",
      "[365 rows x 1 columns]\n",
      "------------------------------------------------------------\n",
      "0       48\n",
      "1       57\n",
      "2       40\n",
      "3       43\n",
      "4       44\n",
      "      ... \n",
      "360    231\n",
      "361    226\n",
      "362    155\n",
      "363    144\n",
      "364    172\n",
      "Name: Subscribers gained, Length: 365, dtype: int64\n"
     ]
    }
   ],
   "source": [
    "# Step 1 : Load the csv file in a dataframe using the pd.read_csv function\n",
    "df = pd.read_csv(\"subs.csv\")\n",
    "print(df)\n",
    "print(\"------------------------------------------------------------\")\n",
    "\n",
    "# Step 2 : Extract the required columns into a Series\n",
    "subs_series = df.iloc[:, 0]  # This selects the first column as the series\n",
    "\n",
    "print(subs_series)"
   ]
  },
  {
   "cell_type": "code",
   "execution_count": 14,
   "id": "2a1330c8",
   "metadata": {},
   "outputs": [
    {
     "data": {
      "text/html": [
       "<div>\n",
       "<style scoped>\n",
       "    .dataframe tbody tr th:only-of-type {\n",
       "        vertical-align: middle;\n",
       "    }\n",
       "\n",
       "    .dataframe tbody tr th {\n",
       "        vertical-align: top;\n",
       "    }\n",
       "\n",
       "    .dataframe thead th {\n",
       "        text-align: right;\n",
       "    }\n",
       "</style>\n",
       "<table border=\"1\" class=\"dataframe\">\n",
       "  <thead>\n",
       "    <tr style=\"text-align: right;\">\n",
       "      <th></th>\n",
       "      <th>match_no</th>\n",
       "      <th>runs</th>\n",
       "    </tr>\n",
       "  </thead>\n",
       "  <tbody>\n",
       "    <tr>\n",
       "      <th>0</th>\n",
       "      <td>1</td>\n",
       "      <td>1</td>\n",
       "    </tr>\n",
       "    <tr>\n",
       "      <th>1</th>\n",
       "      <td>2</td>\n",
       "      <td>23</td>\n",
       "    </tr>\n",
       "    <tr>\n",
       "      <th>2</th>\n",
       "      <td>3</td>\n",
       "      <td>13</td>\n",
       "    </tr>\n",
       "    <tr>\n",
       "      <th>3</th>\n",
       "      <td>4</td>\n",
       "      <td>12</td>\n",
       "    </tr>\n",
       "    <tr>\n",
       "      <th>4</th>\n",
       "      <td>5</td>\n",
       "      <td>1</td>\n",
       "    </tr>\n",
       "    <tr>\n",
       "      <th>...</th>\n",
       "      <td>...</td>\n",
       "      <td>...</td>\n",
       "    </tr>\n",
       "    <tr>\n",
       "      <th>210</th>\n",
       "      <td>211</td>\n",
       "      <td>0</td>\n",
       "    </tr>\n",
       "    <tr>\n",
       "      <th>211</th>\n",
       "      <td>212</td>\n",
       "      <td>20</td>\n",
       "    </tr>\n",
       "    <tr>\n",
       "      <th>212</th>\n",
       "      <td>213</td>\n",
       "      <td>73</td>\n",
       "    </tr>\n",
       "    <tr>\n",
       "      <th>213</th>\n",
       "      <td>214</td>\n",
       "      <td>25</td>\n",
       "    </tr>\n",
       "    <tr>\n",
       "      <th>214</th>\n",
       "      <td>215</td>\n",
       "      <td>7</td>\n",
       "    </tr>\n",
       "  </tbody>\n",
       "</table>\n",
       "<p>215 rows × 2 columns</p>\n",
       "</div>"
      ],
      "text/plain": [
       "     match_no  runs\n",
       "0           1     1\n",
       "1           2    23\n",
       "2           3    13\n",
       "3           4    12\n",
       "4           5     1\n",
       "..        ...   ...\n",
       "210       211     0\n",
       "211       212    20\n",
       "212       213    73\n",
       "213       214    25\n",
       "214       215     7\n",
       "\n",
       "[215 rows x 2 columns]"
      ]
     },
     "execution_count": 14,
     "metadata": {},
     "output_type": "execute_result"
    }
   ],
   "source": [
    "# Lets load another dataset\n",
    "kohli_dataframe = pd.read_csv(\"kohli_ipl.csv\")\n",
    "kohli_dataframe"
   ]
  },
  {
   "cell_type": "code",
   "execution_count": 15,
   "id": "a3553345",
   "metadata": {},
   "outputs": [
    {
     "name": "stdout",
     "output_type": "stream",
     "text": [
      "[1, 2, 3, 4, 5, 6, 7, 8, 9, 10, 11, 12, 13, 14, 15, 16, 17, 18, 19, 20, 21, 22, 23, 24, 25, 26, 27, 28, 29, 30, 31, 32, 33, 34, 35, 36, 37, 38, 39, 40, 41, 42, 43, 44, 45, 46, 47, 48, 49, 50, 51, 52, 53, 54, 55, 56, 57, 58, 59, 60, 61, 62, 63, 64, 65, 66, 67, 68, 69, 70, 71, 72, 73, 74, 75, 76, 77, 78, 79, 80, 81, 82, 83, 84, 85, 86, 87, 88, 89, 90, 91, 92, 93, 94, 95, 96, 97, 98, 99, 100, 101, 102, 103, 104, 105, 106, 107, 108, 109, 110, 111, 112, 113, 114, 115, 116, 117, 118, 119, 120, 121, 122, 123, 124, 125, 126, 127, 128, 129, 130, 131, 132, 133, 134, 135, 136, 137, 138, 139, 140, 141, 142, 143, 144, 145, 146, 147, 148, 149, 150, 151, 152, 153, 154, 155, 156, 157, 158, 159, 160, 161, 162, 163, 164, 165, 166, 167, 168, 169, 170, 171, 172, 173, 174, 175, 176, 177, 178, 179, 180, 181, 182, 183, 184, 185, 186, 187, 188, 189, 190, 191, 192, 193, 194, 195, 196, 197, 198, 199, 200, 201, 202, 203, 204, 205, 206, 207, 208, 209, 210, 211, 212, 213, 214, 215]\n",
      "----------\n",
      "[1, 23, 13, 12, 1, 9, 34, 0, 21, 3, 10, 38, 3, 11, 50, 2, 22, 19, 16, 15, 20, 38, 19, 24, 7, 2, 16, 17, 24, 38, 34, 42, 13, 58, 3, 14, 37, 9, 23, 12, 71, 35, 30, 56, 67, 27, 27, 39, 15, 11, 31, 70, 8, 35, 8, 6, 57, 22, 16, 4, 16, 18, 45, 9, 36, 9, 3, 73, 42, 24, 51, 35, 58, 65, 1, 11, 1, 32, 25, 57, 93, 99, 17, 14, 56, 49, 0, 31, 21, 4, 0, 35, 0, 4, 10, 27, 67, 38, 73, 13, 41, 18, 51, 62, 35, 1, 34, 48, 32, 82, 19, 44, 1, 12, 12, 75, 79, 33, 80, 100, 14, 52, 108, 20, 7, 109, 75, 113, 54, 0, 54, 62, 28, 64, 0, 10, 55, 20, 6, 5, 58, 31, 21, 57, 92, 30, 18, 68, 32, 8, 39, 70, 48, 12, 4, 6, 46, 3, 23, 84, 41, 67, 8, 100, 9, 13, 23, 25, 16, 18, 9, 7, 29, 1, 72, 43, 43, 90, 48, 14, 33, 50, 8, 6, 33, 33, 5, 72, 8, 12, 35, 5, 25, 5, 4, 25, 51, 53, 39, 41, 12, 5, 48, 1, 12, 0, 0, 9, 58, 30, 0, 20, 73, 25, 7]\n"
     ]
    }
   ],
   "source": [
    "kohli_df_indices = kohli_dataframe.iloc[:, 0].tolist()\n",
    "kohli_df_runs = kohli_dataframe.iloc[:, 1].tolist()\n",
    "\n",
    "print(kohli_df_indices)\n",
    "print(\"----------\")\n",
    "print(kohli_df_runs)"
   ]
  },
  {
   "cell_type": "code",
   "execution_count": 16,
   "id": "73c06e29",
   "metadata": {},
   "outputs": [
    {
     "data": {
      "text/plain": [
       "1       1\n",
       "2      23\n",
       "3      13\n",
       "4      12\n",
       "5       1\n",
       "       ..\n",
       "211     0\n",
       "212    20\n",
       "213    73\n",
       "214    25\n",
       "215     7\n",
       "Length: 215, dtype: int64"
      ]
     },
     "execution_count": 16,
     "metadata": {},
     "output_type": "execute_result"
    }
   ],
   "source": [
    "kohli_runs_series = pd.Series(kohli_df_runs, index=kohli_df_indices)\n",
    "kohli_runs_series"
   ]
  },
  {
   "cell_type": "code",
   "execution_count": 17,
   "id": "7a37c4a3",
   "metadata": {},
   "outputs": [
    {
     "data": {
      "text/html": [
       "<div>\n",
       "<style scoped>\n",
       "    .dataframe tbody tr th:only-of-type {\n",
       "        vertical-align: middle;\n",
       "    }\n",
       "\n",
       "    .dataframe tbody tr th {\n",
       "        vertical-align: top;\n",
       "    }\n",
       "\n",
       "    .dataframe thead th {\n",
       "        text-align: right;\n",
       "    }\n",
       "</style>\n",
       "<table border=\"1\" class=\"dataframe\">\n",
       "  <thead>\n",
       "    <tr style=\"text-align: right;\">\n",
       "      <th></th>\n",
       "      <th>movie</th>\n",
       "      <th>lead</th>\n",
       "    </tr>\n",
       "  </thead>\n",
       "  <tbody>\n",
       "    <tr>\n",
       "      <th>0</th>\n",
       "      <td>Uri: The Surgical Strike</td>\n",
       "      <td>Vicky Kaushal</td>\n",
       "    </tr>\n",
       "    <tr>\n",
       "      <th>1</th>\n",
       "      <td>Battalion 609</td>\n",
       "      <td>Vicky Ahuja</td>\n",
       "    </tr>\n",
       "    <tr>\n",
       "      <th>2</th>\n",
       "      <td>The Accidental Prime Minister (film)</td>\n",
       "      <td>Anupam Kher</td>\n",
       "    </tr>\n",
       "    <tr>\n",
       "      <th>3</th>\n",
       "      <td>Why Cheat India</td>\n",
       "      <td>Emraan Hashmi</td>\n",
       "    </tr>\n",
       "    <tr>\n",
       "      <th>4</th>\n",
       "      <td>Evening Shadows</td>\n",
       "      <td>Mona Ambegaonkar</td>\n",
       "    </tr>\n",
       "    <tr>\n",
       "      <th>...</th>\n",
       "      <td>...</td>\n",
       "      <td>...</td>\n",
       "    </tr>\n",
       "    <tr>\n",
       "      <th>1495</th>\n",
       "      <td>Hum Tumhare Hain Sanam</td>\n",
       "      <td>Shah Rukh Khan</td>\n",
       "    </tr>\n",
       "    <tr>\n",
       "      <th>1496</th>\n",
       "      <td>Aankhen (2002 film)</td>\n",
       "      <td>Amitabh Bachchan</td>\n",
       "    </tr>\n",
       "    <tr>\n",
       "      <th>1497</th>\n",
       "      <td>Saathiya (film)</td>\n",
       "      <td>Vivek Oberoi</td>\n",
       "    </tr>\n",
       "    <tr>\n",
       "      <th>1498</th>\n",
       "      <td>Company (film)</td>\n",
       "      <td>Ajay Devgn</td>\n",
       "    </tr>\n",
       "    <tr>\n",
       "      <th>1499</th>\n",
       "      <td>Awara Paagal Deewana</td>\n",
       "      <td>Akshay Kumar</td>\n",
       "    </tr>\n",
       "  </tbody>\n",
       "</table>\n",
       "<p>1500 rows × 2 columns</p>\n",
       "</div>"
      ],
      "text/plain": [
       "                                     movie              lead\n",
       "0                 Uri: The Surgical Strike     Vicky Kaushal\n",
       "1                            Battalion 609       Vicky Ahuja\n",
       "2     The Accidental Prime Minister (film)       Anupam Kher\n",
       "3                          Why Cheat India     Emraan Hashmi\n",
       "4                          Evening Shadows  Mona Ambegaonkar\n",
       "...                                    ...               ...\n",
       "1495                Hum Tumhare Hain Sanam    Shah Rukh Khan\n",
       "1496                   Aankhen (2002 film)  Amitabh Bachchan\n",
       "1497                       Saathiya (film)      Vivek Oberoi\n",
       "1498                        Company (film)        Ajay Devgn\n",
       "1499                  Awara Paagal Deewana      Akshay Kumar\n",
       "\n",
       "[1500 rows x 2 columns]"
      ]
     },
     "execution_count": 17,
     "metadata": {},
     "output_type": "execute_result"
    }
   ],
   "source": [
    "# Similarly let's create another Pandas Series using bollywood.csv file\n",
    "movies = pd.read_csv(\"bollywood.csv\")\n",
    "movies"
   ]
  },
  {
   "cell_type": "code",
   "execution_count": 20,
   "id": "73e39722",
   "metadata": {},
   "outputs": [
    {
     "data": {
      "text/plain": [
       "Uri: The Surgical Strike                   Vicky Kaushal\n",
       "Battalion 609                                Vicky Ahuja\n",
       "The Accidental Prime Minister (film)         Anupam Kher\n",
       "Why Cheat India                            Emraan Hashmi\n",
       "Evening Shadows                         Mona Ambegaonkar\n",
       "                                              ...       \n",
       "Hum Tumhare Hain Sanam                    Shah Rukh Khan\n",
       "Aankhen (2002 film)                     Amitabh Bachchan\n",
       "Saathiya (film)                             Vivek Oberoi\n",
       "Company (film)                                Ajay Devgn\n",
       "Awara Paagal Deewana                        Akshay Kumar\n",
       "Length: 1500, dtype: object"
      ]
     },
     "execution_count": 20,
     "metadata": {},
     "output_type": "execute_result"
    }
   ],
   "source": [
    "movies_indices = movies.iloc[:,0].tolist()\n",
    "movies_values = movies.iloc[:,1].tolist()\n",
    "\n",
    "movies_series = pd.Series(movies_values, index = movies_indices)\n",
    "movies_series"
   ]
  },
  {
   "cell_type": "markdown",
   "id": "9d90f227",
   "metadata": {},
   "source": [
    "# Series Methods"
   ]
  },
  {
   "cell_type": "code",
   "execution_count": 22,
   "id": "1fcc35de",
   "metadata": {},
   "outputs": [
    {
     "name": "stdout",
     "output_type": "stream",
     "text": [
      "0       48\n",
      "1       57\n",
      "2       40\n",
      "3       43\n",
      "4       44\n",
      "      ... \n",
      "360    231\n",
      "361    226\n",
      "362    155\n",
      "363    144\n",
      "364    172\n",
      "Name: Subscribers gained, Length: 365, dtype: int64\n"
     ]
    }
   ],
   "source": [
    "print(subs_series)"
   ]
  },
  {
   "cell_type": "code",
   "execution_count": 23,
   "id": "118aa69d",
   "metadata": {},
   "outputs": [
    {
     "data": {
      "text/plain": [
       "0    48\n",
       "1    57\n",
       "2    40\n",
       "3    43\n",
       "4    44\n",
       "5    46\n",
       "6    33\n",
       "7    40\n",
       "8    44\n",
       "9    74\n",
       "Name: Subscribers gained, dtype: int64"
      ]
     },
     "execution_count": 23,
     "metadata": {},
     "output_type": "execute_result"
    }
   ],
   "source": [
    "subs_series.head()  # Returns the first 5 rows of the series\n",
    "subs_series.head(10)  # Returns the first 10 rows of the series"
   ]
  },
  {
   "cell_type": "code",
   "execution_count": 24,
   "id": "7d348b10",
   "metadata": {},
   "outputs": [
    {
     "data": {
      "text/plain": [
       "0    48\n",
       "1    57\n",
       "2    40\n",
       "3    43\n",
       "4    44\n",
       "5    46\n",
       "6    33\n",
       "7    40\n",
       "8    44\n",
       "9    74\n",
       "Name: Subscribers gained, dtype: int64"
      ]
     },
     "execution_count": 24,
     "metadata": {},
     "output_type": "execute_result"
    }
   ],
   "source": [
    "subs_series.head()  # Returns the first 5 rows of the series\n",
    "subs_series.head(10)  # Returns the first 10 rows of the series"
   ]
  },
  {
   "cell_type": "code",
   "execution_count": 25,
   "id": "0fea8d01",
   "metadata": {},
   "outputs": [
    {
     "data": {
      "text/plain": [
       "360    231\n",
       "361    226\n",
       "362    155\n",
       "363    144\n",
       "364    172\n",
       "Name: Subscribers gained, dtype: int64"
      ]
     },
     "execution_count": 25,
     "metadata": {},
     "output_type": "execute_result"
    }
   ],
   "source": [
    "subs_series.tail()  # Return the last five rows of the series"
   ]
  },
  {
   "cell_type": "code",
   "execution_count": 26,
   "id": "622d0507",
   "metadata": {},
   "outputs": [
    {
     "data": {
      "text/plain": [
       "362    155\n",
       "363    144\n",
       "364    172\n",
       "Name: Subscribers gained, dtype: int64"
      ]
     },
     "execution_count": 26,
     "metadata": {},
     "output_type": "execute_result"
    }
   ],
   "source": [
    "subs_series.tail(3)  # Return the last 3 rows of the series"
   ]
  },
  {
   "cell_type": "code",
   "execution_count": 27,
   "id": "c335d138",
   "metadata": {},
   "outputs": [
    {
     "data": {
      "text/plain": [
       "173    114\n",
       "59      76\n",
       "105     90\n",
       "185    105\n",
       "179    105\n",
       "Name: Subscribers gained, dtype: int64"
      ]
     },
     "execution_count": 27,
     "metadata": {},
     "output_type": "execute_result"
    }
   ],
   "source": [
    "subs_series.sample(5)  # Return random 5 rows of the series"
   ]
  },
  {
   "cell_type": "markdown",
   "id": "8d388abe",
   "metadata": {},
   "source": [
    "## Statistical Methods"
   ]
  },
  {
   "cell_type": "code",
   "execution_count": 28,
   "id": "706da348",
   "metadata": {},
   "outputs": [
    {
     "data": {
      "text/plain": [
       "0    72\n",
       "1    33\n",
       "2    78\n",
       "3    59\n",
       "4    63\n",
       "5    83\n",
       "6     4\n",
       "7    75\n",
       "8    81\n",
       "9    55\n",
       "dtype: int64"
      ]
     },
     "execution_count": 28,
     "metadata": {},
     "output_type": "execute_result"
    }
   ],
   "source": [
    "numpy_array = np.random.randint(1, 100, 10)\n",
    "runs = pd.Series(numpy_array)\n",
    "runs"
   ]
  },
  {
   "cell_type": "code",
   "execution_count": 29,
   "id": "ae1c5898",
   "metadata": {},
   "outputs": [
    {
     "name": "stdout",
     "output_type": "stream",
     "text": [
      "Sum of all the runs 603\n",
      "Mean of all the runs 60.3\n",
      "Median of all the runs 67.5\n",
      "Minimum of all the runs 4\n",
      "Maximum of all the runs 83\n",
      "Variance of all the runs 618.0111111111112\n",
      "Standard Deviation of all the runs 24.859829265526166\n"
     ]
    }
   ],
   "source": [
    "print(\"Sum of all the runs\", runs.sum())\n",
    "print(\"Mean of all the runs\", runs.mean())\n",
    "print(\"Median of all the runs\", runs.median())\n",
    "print(\"Minimum of all the runs\", runs.min())\n",
    "print(\"Maximum of all the runs\", runs.max())\n",
    "print(\"Variance of all the runs\", runs.var())\n",
    "print(\"Standard Deviation of all the runs\", runs.std())"
   ]
  },
  {
   "cell_type": "code",
   "execution_count": 30,
   "id": "37bc59f9",
   "metadata": {},
   "outputs": [
    {
     "data": {
      "text/plain": [
       "count    10.000000\n",
       "mean     60.300000\n",
       "std      24.859829\n",
       "min       4.000000\n",
       "25%      56.000000\n",
       "50%      67.500000\n",
       "75%      77.250000\n",
       "max      83.000000\n",
       "dtype: float64"
      ]
     },
     "execution_count": 30,
     "metadata": {},
     "output_type": "execute_result"
    }
   ],
   "source": [
    "# We can get all these information of the series using the describe method\n",
    "runs.describe()"
   ]
  },
  {
   "cell_type": "code",
   "execution_count": 31,
   "id": "95e1f1d3",
   "metadata": {},
   "outputs": [
    {
     "data": {
      "text/plain": [
       "1       1\n",
       "2      23\n",
       "3      13\n",
       "4      12\n",
       "5       1\n",
       "       ..\n",
       "211     0\n",
       "212    20\n",
       "213    73\n",
       "214    25\n",
       "215     7\n",
       "Length: 215, dtype: int64"
      ]
     },
     "execution_count": 31,
     "metadata": {},
     "output_type": "execute_result"
    }
   ],
   "source": [
    "kohli_runs_series"
   ]
  },
  {
   "cell_type": "markdown",
   "id": "c69979d6",
   "metadata": {},
   "source": [
    "## Sorting and Ranking"
   ]
  },
  {
   "cell_type": "code",
   "execution_count": 32,
   "id": "e49dedc0",
   "metadata": {},
   "outputs": [
    {
     "data": {
      "text/plain": [
       "6     4\n",
       "1    33\n",
       "9    55\n",
       "3    59\n",
       "4    63\n",
       "0    72\n",
       "7    75\n",
       "2    78\n",
       "8    81\n",
       "5    83\n",
       "dtype: int64"
      ]
     },
     "execution_count": 32,
     "metadata": {},
     "output_type": "execute_result"
    }
   ],
   "source": [
    "# Sort all the values in ascending order\n",
    "runs.sort_values()"
   ]
  },
  {
   "cell_type": "code",
   "execution_count": 33,
   "id": "3933e38d",
   "metadata": {},
   "outputs": [
    {
     "data": {
      "text/plain": [
       "5    83\n",
       "8    81\n",
       "2    78\n",
       "7    75\n",
       "0    72\n",
       "4    63\n",
       "3    59\n",
       "9    55\n",
       "1    33\n",
       "6     4\n",
       "dtype: int64"
      ]
     },
     "execution_count": 33,
     "metadata": {},
     "output_type": "execute_result"
    }
   ],
   "source": [
    "# Sort all the values in descending order\n",
    "runs.sort_values(ascending=False)"
   ]
  },
  {
   "cell_type": "code",
   "execution_count": 34,
   "id": "5d150994",
   "metadata": {},
   "outputs": [
    {
     "data": {
      "text/plain": [
       "0    72\n",
       "1    33\n",
       "2    78\n",
       "3    59\n",
       "4    63\n",
       "5    83\n",
       "6     4\n",
       "7    75\n",
       "8    81\n",
       "9    55\n",
       "dtype: int64"
      ]
     },
     "execution_count": 34,
     "metadata": {},
     "output_type": "execute_result"
    }
   ],
   "source": [
    "# Sort all the values by their indices\n",
    "runs.sort_index()"
   ]
  },
  {
   "cell_type": "code",
   "execution_count": 35,
   "id": "d524503e",
   "metadata": {},
   "outputs": [
    {
     "data": {
      "text/plain": [
       "0     6.0\n",
       "1     2.0\n",
       "2     8.0\n",
       "3     4.0\n",
       "4     5.0\n",
       "5    10.0\n",
       "6     1.0\n",
       "7     7.0\n",
       "8     9.0\n",
       "9     3.0\n",
       "dtype: float64"
      ]
     },
     "execution_count": 35,
     "metadata": {},
     "output_type": "execute_result"
    }
   ],
   "source": [
    "# s.rank() -> Returns the rank of each value\n",
    "runs.rank()"
   ]
  },
  {
   "cell_type": "markdown",
   "id": "4a88eef2",
   "metadata": {},
   "source": [
    "## Modifying Data"
   ]
  },
  {
   "cell_type": "code",
   "execution_count": 36,
   "id": "6680b96e",
   "metadata": {},
   "outputs": [
    {
     "data": {
      "text/plain": [
       "0    72\n",
       "1    33\n",
       "2    78\n",
       "3    59\n",
       "4    63\n",
       "5    83\n",
       "6     4\n",
       "7    75\n",
       "8    81\n",
       "9    55\n",
       "dtype: int64"
      ]
     },
     "execution_count": 36,
     "metadata": {},
     "output_type": "execute_result"
    }
   ],
   "source": [
    "runs"
   ]
  },
  {
   "cell_type": "code",
   "execution_count": 37,
   "id": "0e369715",
   "metadata": {},
   "outputs": [
    {
     "data": {
      "text/plain": [
       "0    72\n",
       "1    33\n",
       "2    78\n",
       "3    59\n",
       "4    63\n",
       "5    83\n",
       "6     4\n",
       "7    75\n",
       "8    81\n",
       "9    55\n",
       "dtype: int64"
      ]
     },
     "execution_count": 37,
     "metadata": {},
     "output_type": "execute_result"
    }
   ],
   "source": [
    "# Replace 77 with 25\n",
    "runs.replace(77, 25)"
   ]
  },
  {
   "cell_type": "code",
   "execution_count": 38,
   "id": "eb7d70af",
   "metadata": {},
   "outputs": [
    {
     "data": {
      "text/plain": [
       "0    77\n",
       "1    38\n",
       "2    83\n",
       "3    64\n",
       "4    68\n",
       "5    88\n",
       "6     9\n",
       "7    80\n",
       "8    86\n",
       "9    60\n",
       "dtype: int64"
      ]
     },
     "execution_count": 38,
     "metadata": {},
     "output_type": "execute_result"
    }
   ],
   "source": [
    "# s.add(value) - Adds value to all elements\n",
    "runs.add(5)\n",
    "# It will not change the original Series unless the parameter inplace = True is given"
   ]
  },
  {
   "cell_type": "code",
   "execution_count": 39,
   "id": "a22db7cf",
   "metadata": {},
   "outputs": [
    {
     "data": {
      "text/plain": [
       "0    67\n",
       "1    28\n",
       "2    73\n",
       "3    54\n",
       "4    58\n",
       "5    78\n",
       "6    -1\n",
       "7    70\n",
       "8    76\n",
       "9    50\n",
       "dtype: int64"
      ]
     },
     "execution_count": 39,
     "metadata": {},
     "output_type": "execute_result"
    }
   ],
   "source": [
    "# s.subtract(value) - Subtracts value from all elements\n",
    "runs.subtract(5)"
   ]
  },
  {
   "cell_type": "code",
   "execution_count": 40,
   "id": "2e2f3dad",
   "metadata": {},
   "outputs": [
    {
     "data": {
      "text/plain": [
       "0    36.0\n",
       "1    16.5\n",
       "2    39.0\n",
       "3    29.5\n",
       "4    31.5\n",
       "5    41.5\n",
       "6     2.0\n",
       "7    37.5\n",
       "8    40.5\n",
       "9    27.5\n",
       "dtype: float64"
      ]
     },
     "execution_count": 40,
     "metadata": {},
     "output_type": "execute_result"
    }
   ],
   "source": [
    "# s.multiply(value) - Multiplies all elements by value\n",
    "runs.multiply(2)\n",
    "\n",
    "# s.divide(value) - Divides all elements by value\n",
    "runs.divide(2)"
   ]
  },
  {
   "cell_type": "code",
   "execution_count": 41,
   "id": "2b128894",
   "metadata": {},
   "outputs": [],
   "source": [
    "runs.replace(77, 25, inplace=True)"
   ]
  },
  {
   "cell_type": "markdown",
   "id": "ad169603",
   "metadata": {},
   "source": [
    "## String Operations"
   ]
  },
  {
   "cell_type": "code",
   "execution_count": 43,
   "id": "3d7136e1",
   "metadata": {},
   "outputs": [
    {
     "data": {
      "text/plain": [
       "0    Bikash\n",
       "1    Sujata\n",
       "2      Nanu\n",
       "dtype: object"
      ]
     },
     "execution_count": 43,
     "metadata": {},
     "output_type": "execute_result"
    }
   ],
   "source": [
    "a = [\"Bikash\", \"Sujata\", \"Nanu\"]\n",
    "s = pd.Series(a)\n",
    "s"
   ]
  },
  {
   "cell_type": "code",
   "execution_count": 44,
   "id": "19bcad5f",
   "metadata": {},
   "outputs": [
    {
     "data": {
      "text/plain": [
       "0    BIKASH\n",
       "1    SUJATA\n",
       "2      NANU\n",
       "dtype: object"
      ]
     },
     "execution_count": 44,
     "metadata": {},
     "output_type": "execute_result"
    }
   ],
   "source": [
    "s.str.upper()  # Converts all strings to uppercase"
   ]
  },
  {
   "cell_type": "code",
   "execution_count": 45,
   "id": "d3737346",
   "metadata": {},
   "outputs": [
    {
     "data": {
      "text/plain": [
       "0    bikash\n",
       "1    sujata\n",
       "2      nanu\n",
       "dtype: object"
      ]
     },
     "execution_count": 45,
     "metadata": {},
     "output_type": "execute_result"
    }
   ],
   "source": [
    "s.str.lower()  # Converts all strings to lowercase"
   ]
  },
  {
   "cell_type": "code",
   "execution_count": 46,
   "id": "eeb88b58",
   "metadata": {},
   "outputs": [
    {
     "data": {
      "text/plain": [
       "0     True\n",
       "1    False\n",
       "2    False\n",
       "dtype: bool"
      ]
     },
     "execution_count": 46,
     "metadata": {},
     "output_type": "execute_result"
    }
   ],
   "source": [
    "s.str.contains(\"Bika\") # Checks if strings contain 'text'"
   ]
  },
  {
   "cell_type": "markdown",
   "id": "d19954d1",
   "metadata": {},
   "source": [
    "## Using lambda functions"
   ]
  },
  {
   "cell_type": "code",
   "execution_count": 48,
   "id": "1277105d",
   "metadata": {},
   "outputs": [
    {
     "name": "stdout",
     "output_type": "stream",
     "text": [
      "[27 92 80 71 36 98 76 65 80 87]\n",
      "0    27\n",
      "1    92\n",
      "2    80\n",
      "3    71\n",
      "4    36\n",
      "5    98\n",
      "6    76\n",
      "7    65\n",
      "8    80\n",
      "9    87\n",
      "dtype: int64\n"
     ]
    }
   ],
   "source": [
    "a = np.random.randint(1, 100, 10)\n",
    "s = pd.Series(a)\n",
    "print(a)\n",
    "print(s)"
   ]
  },
  {
   "cell_type": "code",
   "execution_count": 49,
   "id": "46e32e03",
   "metadata": {},
   "outputs": [
    {
     "name": "stdout",
     "output_type": "stream",
     "text": [
      "0     54\n",
      "1    184\n",
      "2    160\n",
      "3    142\n",
      "4     72\n",
      "5    196\n",
      "6    152\n",
      "7    130\n",
      "8    160\n",
      "9    174\n",
      "dtype: int64\n"
     ]
    }
   ],
   "source": [
    "def double(x):\n",
    "    return x * 2\n",
    "\n",
    "\n",
    "s = s.apply(double)\n",
    "print(s)"
   ]
  },
  {
   "cell_type": "code",
   "execution_count": 50,
   "id": "59e19442",
   "metadata": {},
   "outputs": [
    {
     "name": "stdout",
     "output_type": "stream",
     "text": [
      "0    27\n",
      "1    92\n",
      "2    80\n",
      "3    71\n",
      "4    36\n",
      "5    98\n",
      "6    76\n",
      "7    65\n",
      "8    80\n",
      "9    87\n",
      "dtype: int64\n"
     ]
    }
   ],
   "source": [
    "# Half all the elements of the series using a lambda function\n",
    "\n",
    "s = s.apply(lambda x: x // 2)\n",
    "print(s)"
   ]
  },
  {
   "cell_type": "markdown",
   "id": "ebb20442",
   "metadata": {},
   "source": [
    "## Value Counts"
   ]
  },
  {
   "cell_type": "code",
   "execution_count": 51,
   "id": "170f8d58",
   "metadata": {},
   "outputs": [
    {
     "data": {
      "text/plain": [
       "1    3\n",
       "4    3\n",
       "2    2\n",
       "3    2\n",
       "5    2\n",
       "6    1\n",
       "Name: count, dtype: int64"
      ]
     },
     "execution_count": 51,
     "metadata": {},
     "output_type": "execute_result"
    }
   ],
   "source": [
    "# Value Counts -> s.value_counts() : It returns how many times the value is present in the series.\n",
    "\n",
    "a = pd.Series([1, 1, 1, 2, 2, 3, 3, 4, 4, 4, 5, 5, 6])\n",
    "a.value_counts()"
   ]
  },
  {
   "cell_type": "markdown",
   "id": "72e7687c",
   "metadata": {},
   "source": [
    "## Series Indexing"
   ]
  },
  {
   "cell_type": "code",
   "execution_count": 52,
   "id": "18617bcc",
   "metadata": {},
   "outputs": [
    {
     "data": {
      "text/plain": [
       "0    12\n",
       "1    13\n",
       "2    14\n",
       "3    35\n",
       "4    46\n",
       "5    57\n",
       "6    58\n",
       "7    79\n",
       "8     9\n",
       "dtype: int64"
      ]
     },
     "execution_count": 52,
     "metadata": {},
     "output_type": "execute_result"
    }
   ],
   "source": [
    "# Accessing values with default index\n",
    "x = pd.Series([12, 13, 14, 35, 46, 57, 58, 79, 9])\n",
    "x"
   ]
  },
  {
   "cell_type": "code",
   "execution_count": 53,
   "id": "20f5f3c0",
   "metadata": {},
   "outputs": [
    {
     "name": "stdout",
     "output_type": "stream",
     "text": [
      "12\n",
      "14\n"
     ]
    }
   ],
   "source": [
    "print(x[0])  # Gets the first elememt\n",
    "print(x[2])  # Gets the third element\n",
    "# Negative indexing is not allowed"
   ]
  },
  {
   "cell_type": "code",
   "execution_count": 54,
   "id": "da1dfaed",
   "metadata": {},
   "outputs": [
    {
     "data": {
      "text/plain": [
       "np.int64(35)"
      ]
     },
     "execution_count": 54,
     "metadata": {},
     "output_type": "execute_result"
    }
   ],
   "source": [
    "x.iloc[3]"
   ]
  },
  {
   "cell_type": "code",
   "execution_count": 55,
   "id": "c21128de",
   "metadata": {},
   "outputs": [
    {
     "data": {
      "text/plain": [
       "Maths       90\n",
       "Science    100\n",
       "English     85\n",
       "dtype: int64"
      ]
     },
     "execution_count": 55,
     "metadata": {},
     "output_type": "execute_result"
    }
   ],
   "source": [
    "marks = {\"Maths\": 90, \"Science\": 100, \"English\": 85}\n",
    "pd.Series(marks)"
   ]
  },
  {
   "cell_type": "code",
   "execution_count": 56,
   "id": "13214767",
   "metadata": {},
   "outputs": [
    {
     "name": "stdout",
     "output_type": "stream",
     "text": [
      "Maths : 90\n",
      "Science:  100\n"
     ]
    }
   ],
   "source": [
    "# Accessing values with Custom Index\n",
    "# Get the Maths and Science Marks\n",
    "\n",
    "print(\"Maths :\", marks[\"Maths\"])\n",
    "\n",
    "print(\"Science: \", marks[\"Science\"])"
   ]
  },
  {
   "cell_type": "markdown",
   "id": "a228d9d3",
   "metadata": {},
   "source": [
    "## Slicing"
   ]
  },
  {
   "cell_type": "code",
   "execution_count": 57,
   "id": "f0cb8ba0",
   "metadata": {},
   "outputs": [
    {
     "data": {
      "text/plain": [
       "0    94\n",
       "1    70\n",
       "2    94\n",
       "3    16\n",
       "4    10\n",
       "5     1\n",
       "6    91\n",
       "7    83\n",
       "8    38\n",
       "9    45\n",
       "dtype: int64"
      ]
     },
     "execution_count": 57,
     "metadata": {},
     "output_type": "execute_result"
    }
   ],
   "source": [
    "a = np.random.randint(1, 100, 10)\n",
    "s = pd.Series(a)\n",
    "s"
   ]
  },
  {
   "cell_type": "code",
   "execution_count": 58,
   "id": "c19cfb7e",
   "metadata": {},
   "outputs": [
    {
     "data": {
      "text/plain": [
       "2    94\n",
       "3    16\n",
       "4    10\n",
       "5     1\n",
       "dtype: int64"
      ]
     },
     "execution_count": 58,
     "metadata": {},
     "output_type": "execute_result"
    }
   ],
   "source": [
    "s[2:6]  # Gets the elements from index 2 to index 5"
   ]
  },
  {
   "cell_type": "code",
   "execution_count": 59,
   "id": "457a9f68",
   "metadata": {},
   "outputs": [
    {
     "data": {
      "text/plain": [
       "2    94\n",
       "4    10\n",
       "6    91\n",
       "8    38\n",
       "dtype: int64"
      ]
     },
     "execution_count": 59,
     "metadata": {},
     "output_type": "execute_result"
    }
   ],
   "source": [
    "s[2:10:2]  # Gets the elements from index 2 to index 9 skipping 1 value"
   ]
  },
  {
   "cell_type": "code",
   "execution_count": 60,
   "id": "b0f1b0e0",
   "metadata": {},
   "outputs": [
    {
     "data": {
      "text/plain": [
       "0    94\n",
       "1    70\n",
       "2    94\n",
       "3    16\n",
       "4    10\n",
       "5     1\n",
       "6    91\n",
       "7    83\n",
       "8    38\n",
       "9    45\n",
       "dtype: int64"
      ]
     },
     "execution_count": 60,
     "metadata": {},
     "output_type": "execute_result"
    }
   ],
   "source": [
    "# Get all the elements\n",
    "s[:]"
   ]
  },
  {
   "cell_type": "code",
   "execution_count": 61,
   "id": "1788d1d2",
   "metadata": {},
   "outputs": [
    {
     "data": {
      "text/plain": [
       "9    45\n",
       "8    38\n",
       "7    83\n",
       "dtype: int64"
      ]
     },
     "execution_count": 61,
     "metadata": {},
     "output_type": "execute_result"
    }
   ],
   "source": [
    "# Get the last 3 elements\n",
    "s[-1:-4:-1]"
   ]
  },
  {
   "cell_type": "markdown",
   "id": "8889c659",
   "metadata": {},
   "source": [
    "### Fancy Indexing"
   ]
  },
  {
   "cell_type": "code",
   "execution_count": 63,
   "id": "47b56db7",
   "metadata": {},
   "outputs": [
    {
     "data": {
      "text/plain": [
       "a    10\n",
       "b    20\n",
       "c    30\n",
       "d    40\n",
       "e    50\n",
       "dtype: int64"
      ]
     },
     "execution_count": 63,
     "metadata": {},
     "output_type": "execute_result"
    }
   ],
   "source": [
    "# Creating a Series\n",
    "s = pd.Series([10, 20, 30, 40, 50], index=[\"a\", \"b\", \"c\", \"d\", \"e\"])\n",
    "s"
   ]
  },
  {
   "cell_type": "code",
   "execution_count": 64,
   "id": "2bf7d0d5",
   "metadata": {},
   "outputs": [
    {
     "name": "stdout",
     "output_type": "stream",
     "text": [
      "a    10\n",
      "c    30\n",
      "e    50\n",
      "dtype: int64\n"
     ]
    }
   ],
   "source": [
    "# Selecting multiple elements using their index labels\n",
    "selected = s[[\"a\", \"c\", \"e\"]]\n",
    "\n",
    "print(selected)"
   ]
  },
  {
   "cell_type": "code",
   "execution_count": 65,
   "id": "c3153b11",
   "metadata": {},
   "outputs": [
    {
     "name": "stdout",
     "output_type": "stream",
     "text": [
      "a    10\n",
      "c    30\n",
      "e    50\n",
      "dtype: int64\n"
     ]
    }
   ],
   "source": [
    "selected = s.iloc[[0, 2, 4]]  # Selecting 1st, 3rd, and 5th elements\n",
    "\n",
    "print(selected)"
   ]
  },
  {
   "cell_type": "markdown",
   "id": "7479b0b8",
   "metadata": {},
   "source": [
    "### Boolean Indexing (Filtering Based on Conditions)"
   ]
  },
  {
   "cell_type": "code",
   "execution_count": 66,
   "id": "e00744e9",
   "metadata": {},
   "outputs": [
    {
     "data": {
      "text/plain": [
       "a    10\n",
       "b    20\n",
       "c    30\n",
       "d    40\n",
       "e    50\n",
       "dtype: int64"
      ]
     },
     "execution_count": 66,
     "metadata": {},
     "output_type": "execute_result"
    }
   ],
   "source": [
    "s"
   ]
  },
  {
   "cell_type": "code",
   "execution_count": 67,
   "id": "a68a7872",
   "metadata": {},
   "outputs": [
    {
     "data": {
      "text/plain": [
       "c    30\n",
       "d    40\n",
       "e    50\n",
       "dtype: int64"
      ]
     },
     "execution_count": 67,
     "metadata": {},
     "output_type": "execute_result"
    }
   ],
   "source": [
    "# Example: Selecting elements greater than 25\n",
    "\n",
    "filtered = s[s > 25]\n",
    "filtered"
   ]
  },
  {
   "cell_type": "code",
   "execution_count": 68,
   "id": "abc69c41",
   "metadata": {},
   "outputs": [
    {
     "data": {
      "text/plain": [
       "a    10\n",
       "b    20\n",
       "c    30\n",
       "d    40\n",
       "e    50\n",
       "dtype: int64"
      ]
     },
     "execution_count": 68,
     "metadata": {},
     "output_type": "execute_result"
    }
   ],
   "source": [
    "# Example: Selecting even numbers\n",
    "\n",
    "filtered = s[s % 2 == 0]\n",
    "filtered"
   ]
  },
  {
   "cell_type": "code",
   "execution_count": 69,
   "id": "ff56d0aa",
   "metadata": {},
   "outputs": [
    {
     "data": {
      "text/plain": [
       "c    30\n",
       "d    40\n",
       "dtype: int64"
      ]
     },
     "execution_count": 69,
     "metadata": {},
     "output_type": "execute_result"
    }
   ],
   "source": [
    "# Selecting values between 20 and 50\n",
    "filtered = s[(s > 20) & (s < 50)]\n",
    "filtered"
   ]
  },
  {
   "cell_type": "markdown",
   "id": "3624de69",
   "metadata": {},
   "source": [
    "### Editing Series Values"
   ]
  },
  {
   "cell_type": "code",
   "execution_count": 70,
   "id": "866d511b",
   "metadata": {},
   "outputs": [
    {
     "data": {
      "text/plain": [
       "Maths       90\n",
       "Science    100\n",
       "English     85\n",
       "dtype: int64"
      ]
     },
     "execution_count": 70,
     "metadata": {},
     "output_type": "execute_result"
    }
   ],
   "source": [
    "marks = [90, 100, 85]\n",
    "subjects = [\"Maths\", \"Science\", \"English\"]\n",
    "marks_series = pd.Series(marks, index=subjects)\n",
    "marks_series"
   ]
  },
  {
   "cell_type": "code",
   "execution_count": 71,
   "id": "2719b10d",
   "metadata": {},
   "outputs": [
    {
     "data": {
      "text/plain": [
       "Maths       88\n",
       "Science    100\n",
       "English     85\n",
       "dtype: int64"
      ]
     },
     "execution_count": 71,
     "metadata": {},
     "output_type": "execute_result"
    }
   ],
   "source": [
    "marks_series.iloc[0] = 88\n",
    "marks_series"
   ]
  },
  {
   "cell_type": "code",
   "execution_count": 72,
   "id": "7e3812d0",
   "metadata": {},
   "outputs": [
    {
     "data": {
      "text/plain": [
       "Maths       99\n",
       "Science    100\n",
       "English     85\n",
       "dtype: int64"
      ]
     },
     "execution_count": 72,
     "metadata": {},
     "output_type": "execute_result"
    }
   ],
   "source": [
    "marks_series[\"Maths\"] = 99\n",
    "marks_series"
   ]
  },
  {
   "cell_type": "code",
   "execution_count": 73,
   "id": "26c61dfe",
   "metadata": {},
   "outputs": [
    {
     "data": {
      "text/plain": [
       "0    72\n",
       "1    33\n",
       "2    78\n",
       "3    59\n",
       "4    63\n",
       "5    83\n",
       "6     4\n",
       "7    75\n",
       "8    81\n",
       "9    55\n",
       "dtype: int64"
      ]
     },
     "execution_count": 73,
     "metadata": {},
     "output_type": "execute_result"
    }
   ],
   "source": [
    "runs"
   ]
  },
  {
   "cell_type": "code",
   "execution_count": 74,
   "id": "ca3b452f",
   "metadata": {},
   "outputs": [
    {
     "data": {
      "text/plain": [
       "0    72\n",
       "1    33\n",
       "2    78\n",
       "3    59\n",
       "4    63\n",
       "5    67\n",
       "6    78\n",
       "7    99\n",
       "8    81\n",
       "9    55\n",
       "dtype: int64"
      ]
     },
     "execution_count": 74,
     "metadata": {},
     "output_type": "execute_result"
    }
   ],
   "source": [
    "runs[5:8] = [67, 78, 99]\n",
    "runs"
   ]
  },
  {
   "cell_type": "code",
   "execution_count": 75,
   "id": "000393bf",
   "metadata": {},
   "outputs": [
    {
     "data": {
      "text/plain": [
       "0    20\n",
       "1    20\n",
       "2    20\n",
       "3    59\n",
       "4    63\n",
       "5    67\n",
       "6    78\n",
       "7    99\n",
       "8    81\n",
       "9    55\n",
       "dtype: int64"
      ]
     },
     "execution_count": 75,
     "metadata": {},
     "output_type": "execute_result"
    }
   ],
   "source": [
    "runs[[0, 1, 2]] = [20, 20, 20]\n",
    "runs"
   ]
  },
  {
   "cell_type": "markdown",
   "id": "a07cef52",
   "metadata": {},
   "source": [
    "## Difference Between View and Copy in Pandas Series"
   ]
  },
  {
   "cell_type": "markdown",
   "id": "c3bdc4b6",
   "metadata": {},
   "source": [
    "### 1. What is a View in Pandas Series?\n",
    "A view in Pandas Series means that the new object refers to the same memory as the original Series. This means that changes made to the new Series will affect the original Series."
   ]
  },
  {
   "cell_type": "markdown",
   "id": "f2c5e84f",
   "metadata": {},
   "source": [
    "### 2. What is a Copy in Pandas Series?\n",
    "A copy creates a separate object in memory. Changes made to the copy do not affect the original Series."
   ]
  },
  {
   "cell_type": "code",
   "execution_count": 76,
   "id": "fefea483",
   "metadata": {},
   "outputs": [
    {
     "name": "stdout",
     "output_type": "stream",
     "text": [
      "0    100\n",
      "1     20\n",
      "2     30\n",
      "3     40\n",
      "4     50\n",
      "dtype: int64\n"
     ]
    }
   ],
   "source": [
    "# Creating a Pandas Series\n",
    "s = pd.Series([10, 20, 30, 40, 50])\n",
    "\n",
    "# Creating a view using slicing\n",
    "view_s = s[:3]  # This may return a view\n",
    "\n",
    "# Modifying the view\n",
    "view_s[0] = 100  # It will modify the original Series\n",
    "\n",
    "print(s)  # 10 will be replaced by 100"
   ]
  },
  {
   "cell_type": "code",
   "execution_count": 77,
   "id": "5b67aa1a",
   "metadata": {},
   "outputs": [
    {
     "name": "stdout",
     "output_type": "stream",
     "text": [
      "Original series :\n",
      " 0    10\n",
      "1    20\n",
      "2    30\n",
      "3    40\n",
      "4    50\n",
      "dtype: int64\n",
      "New Series :\n",
      " 0    500\n",
      "1     20\n",
      "2     30\n",
      "3     40\n",
      "4     50\n",
      "dtype: int64\n"
     ]
    }
   ],
   "source": [
    "# Creating a Pandas Series\n",
    "s = pd.Series([10, 20, 30, 40, 50])\n",
    "\n",
    "# Creating a copy explicitly\n",
    "copy_s = s.copy()\n",
    "\n",
    "# Modifying the copy\n",
    "copy_s[0] = 500  # This will NOT modify original s\n",
    "\n",
    "print(\"Original series :\\n\", s)  # Original remains unchanged\n",
    "print(\"New Series :\\n\", copy_s)  # Only copy is modified"
   ]
  },
  {
   "cell_type": "markdown",
   "id": "535b4a83",
   "metadata": {},
   "source": [
    "### Type Conversion of Pandas Series to List, Dictionary, and NumPy Array"
   ]
  },
  {
   "cell_type": "markdown",
   "id": "ff78e1fa",
   "metadata": {},
   "source": [
    "## 1. Convert Series to List (.tolist())"
   ]
  },
  {
   "cell_type": "code",
   "execution_count": 78,
   "id": "729730f1",
   "metadata": {},
   "outputs": [
    {
     "name": "stdout",
     "output_type": "stream",
     "text": [
      "[10, 20, 30, 40]\n",
      "<class 'list'>\n"
     ]
    }
   ],
   "source": [
    "# Creating a Pandas Series\n",
    "s = pd.Series([10, 20, 30, 40])\n",
    "\n",
    "# Convert to list\n",
    "s_list = s.tolist()\n",
    "\n",
    "print(s_list)\n",
    "print(type(s_list))"
   ]
  },
  {
   "cell_type": "markdown",
   "id": "dc1eb416",
   "metadata": {},
   "source": [
    "## 2. Convert Series to Dictionary (.to_dict())"
   ]
  },
  {
   "cell_type": "code",
   "execution_count": 79,
   "id": "c87bc0f2",
   "metadata": {},
   "outputs": [
    {
     "name": "stdout",
     "output_type": "stream",
     "text": [
      "{0: 10, 1: 20, 2: 30, 3: 40}\n",
      "<class 'dict'>\n"
     ]
    }
   ],
   "source": [
    "s_dict = s.to_dict()\n",
    "print(s_dict)\n",
    "print(type(s_dict))"
   ]
  },
  {
   "cell_type": "code",
   "execution_count": 80,
   "id": "7b533071",
   "metadata": {},
   "outputs": [
    {
     "data": {
      "text/plain": [
       "a    100\n",
       "b    200\n",
       "c    300\n",
       "dtype: int64"
      ]
     },
     "execution_count": 80,
     "metadata": {},
     "output_type": "execute_result"
    }
   ],
   "source": [
    "s = pd.Series([100, 200, 300], index=[\"a\", \"b\", \"c\"])\n",
    "s"
   ]
  },
  {
   "cell_type": "code",
   "execution_count": 81,
   "id": "556325d5",
   "metadata": {},
   "outputs": [
    {
     "name": "stdout",
     "output_type": "stream",
     "text": [
      "{'a': 100, 'b': 200, 'c': 300}\n"
     ]
    }
   ],
   "source": [
    "s2_dict = s.to_dict()\n",
    "print(s2_dict)"
   ]
  },
  {
   "cell_type": "markdown",
   "id": "eb4b00ac",
   "metadata": {},
   "source": [
    "## 3. Convert Series to NumPy Array (.to_numpy())"
   ]
  },
  {
   "cell_type": "code",
   "execution_count": 82,
   "id": "1ee173f5",
   "metadata": {},
   "outputs": [
    {
     "name": "stdout",
     "output_type": "stream",
     "text": [
      "[100 200 300]\n",
      "<class 'numpy.ndarray'>\n"
     ]
    }
   ],
   "source": [
    "s_array = s.to_numpy()\n",
    "print(s_array)\n",
    "print(type(s_array))"
   ]
  },
  {
   "cell_type": "markdown",
   "id": "f79ca99b",
   "metadata": {},
   "source": [
    "## Membership Operator ( in )"
   ]
  },
  {
   "cell_type": "code",
   "execution_count": 83,
   "id": "c69d6b86",
   "metadata": {},
   "outputs": [
    {
     "name": "stdout",
     "output_type": "stream",
     "text": [
      "True\n",
      "False\n"
     ]
    }
   ],
   "source": [
    "# Creating a Pandas Series\n",
    "s = pd.Series([10, 20, 30, 40])\n",
    "\n",
    "# Checking if a value exists in the Series\n",
    "print(20 in s.values)  # Output: True\n",
    "print(50 in s.values)  # Output: False"
   ]
  },
  {
   "cell_type": "markdown",
   "id": "89561ea8",
   "metadata": {},
   "source": [
    "# Looping in Series"
   ]
  },
  {
   "cell_type": "code",
   "execution_count": 84,
   "id": "8a442172",
   "metadata": {},
   "outputs": [],
   "source": [
    "# Creating a Pandas Series\n",
    "s = pd.Series([10, 20, 30, 40])"
   ]
  },
  {
   "cell_type": "code",
   "execution_count": 85,
   "id": "1a067daf",
   "metadata": {},
   "outputs": [
    {
     "name": "stdout",
     "output_type": "stream",
     "text": [
      "10\n",
      "20\n",
      "30\n",
      "40\n"
     ]
    }
   ],
   "source": [
    "# Method 1 :\n",
    "for value in s:\n",
    "    print(value)"
   ]
  },
  {
   "cell_type": "code",
   "execution_count": 86,
   "id": "e69f9b2b",
   "metadata": {},
   "outputs": [
    {
     "name": "stdout",
     "output_type": "stream",
     "text": [
      "Index: 0, Value: 10\n",
      "Index: 1, Value: 20\n",
      "Index: 2, Value: 30\n",
      "Index: 3, Value: 40\n"
     ]
    }
   ],
   "source": [
    "# Method 2 :\n",
    "for index, value in s.items():\n",
    "    print(f\"Index: {index}, Value: {value}\")"
   ]
  },
  {
   "cell_type": "code",
   "execution_count": 87,
   "id": "9bdb0b2b",
   "metadata": {},
   "outputs": [
    {
     "name": "stdout",
     "output_type": "stream",
     "text": [
      "0     100\n",
      "1     400\n",
      "2     900\n",
      "3    1600\n",
      "dtype: int64\n"
     ]
    }
   ],
   "source": [
    "# Method 3 :\n",
    "s_squared = s.apply(lambda x: x**2)\n",
    "print(s_squared)"
   ]
  },
  {
   "cell_type": "markdown",
   "id": "06ae3266",
   "metadata": {},
   "source": [
    "## Broadcasting in Series"
   ]
  },
  {
   "cell_type": "code",
   "execution_count": 88,
   "id": "41516aa3",
   "metadata": {},
   "outputs": [
    {
     "name": "stdout",
     "output_type": "stream",
     "text": [
      "0    15\n",
      "1    25\n",
      "2    35\n",
      "3    45\n",
      "dtype: int64\n",
      "0     8\n",
      "1    18\n",
      "2    28\n",
      "3    38\n",
      "dtype: int64\n",
      "0     30\n",
      "1     60\n",
      "2     90\n",
      "3    120\n",
      "dtype: int64\n",
      "0     5.0\n",
      "1    10.0\n",
      "2    15.0\n",
      "3    20.0\n",
      "dtype: float64\n",
      "0     100\n",
      "1     400\n",
      "2     900\n",
      "3    1600\n",
      "dtype: int64\n"
     ]
    }
   ],
   "source": [
    "# Broadcasting with arithmetic operations\n",
    "\n",
    "# Creating a Pandas Series\n",
    "s = pd.Series([10, 20, 30, 40])\n",
    "\n",
    "\n",
    "s_add = s + 5  # Adding 5 to each element\n",
    "s_sub = s - 2  # Subtract 2 from all elements\n",
    "s_mul = s * 3  # Multiply all elements by 3\n",
    "s_div = s / 2  # Divide all elements by 2\n",
    "s_pow = s**2  # Square all elements\n",
    "\n",
    "print(s_add, s_sub, s_mul, s_div, s_pow, sep=\"\\n\")"
   ]
  },
  {
   "cell_type": "code",
   "execution_count": 89,
   "id": "fea8003e",
   "metadata": {},
   "outputs": [
    {
     "name": "stdout",
     "output_type": "stream",
     "text": [
      "0    11\n",
      "1    22\n",
      "2    33\n",
      "3    44\n",
      "dtype: int64\n"
     ]
    }
   ],
   "source": [
    "# Broadcasting with Another Series (Element-wise Operations)\n",
    "s1 = pd.Series([1, 2, 3, 4])\n",
    "s2 = pd.Series([10, 20, 30, 40])\n",
    "\n",
    "# Element-wise addition\n",
    "s_sum = s1 + s2\n",
    "\n",
    "print(s_sum)"
   ]
  },
  {
   "cell_type": "code",
   "execution_count": 90,
   "id": "a983821d",
   "metadata": {},
   "outputs": [
    {
     "name": "stdout",
     "output_type": "stream",
     "text": [
      "a     NaN\n",
      "b    12.0\n",
      "c    23.0\n",
      "d     NaN\n",
      "dtype: float64\n"
     ]
    }
   ],
   "source": [
    "# Broadcasting with Different Indexes (Automatic Alignment)\n",
    "\n",
    "s1 = pd.Series([1, 2, 3], index=[\"a\", \"b\", \"c\"])\n",
    "s2 = pd.Series([10, 20, 30], index=[\"b\", \"c\", \"d\"])\n",
    "\n",
    "s_result = s1 + s2  # Element-wise addition with different indexes\n",
    "\n",
    "print(s_result)"
   ]
  },
  {
   "cell_type": "markdown",
   "id": "b26f8b2e",
   "metadata": {},
   "source": [
    "# Some Questions"
   ]
  },
  {
   "cell_type": "code",
   "execution_count": 92,
   "id": "1ed267a2",
   "metadata": {},
   "outputs": [
    {
     "data": {
      "text/plain": [
       "1       1\n",
       "2      23\n",
       "3      13\n",
       "4      12\n",
       "5       1\n",
       "       ..\n",
       "211     0\n",
       "212    20\n",
       "213    73\n",
       "214    25\n",
       "215     7\n",
       "Length: 215, dtype: int64"
      ]
     },
     "execution_count": 92,
     "metadata": {},
     "output_type": "execute_result"
    }
   ],
   "source": [
    "# Find no of 50's and 100's scored by kohli\n",
    "runs = kohli_runs_series\n",
    "runs"
   ]
  },
  {
   "cell_type": "code",
   "execution_count": 93,
   "id": "5cafcfdd",
   "metadata": {},
   "outputs": [
    {
     "name": "stdout",
     "output_type": "stream",
     "text": [
      "Number of 50's scored by Kohli : 2\n",
      "Number of 100's scored by Kohli : 2\n"
     ]
    }
   ],
   "source": [
    "runs_50 = runs[runs == 50]\n",
    "runs_100 = runs[runs == 100]\n",
    "\n",
    "print(\"Number of 50's scored by Kohli :\", len(runs_50))\n",
    "print(\"Number of 100's scored by Kohli :\", len(runs_100))"
   ]
  },
  {
   "cell_type": "code",
   "execution_count": 94,
   "id": "eded6ba8",
   "metadata": {},
   "outputs": [
    {
     "name": "stdout",
     "output_type": "stream",
     "text": [
      "Number of Ducks by Kohli 9\n"
     ]
    }
   ],
   "source": [
    "# find number of ducks of Kohli\n",
    "\n",
    "runs_0 = runs[runs == 0]\n",
    "\n",
    "print(\"Number of Ducks by Kohli\", len(runs_0))"
   ]
  },
  {
   "cell_type": "code",
   "execution_count": 95,
   "id": "652289cc",
   "metadata": {},
   "outputs": [
    {
     "data": {
      "text/plain": [
       "Akshay Kumar        48\n",
       "Amitabh Bachchan    45\n",
       "Ajay Devgn          38\n",
       "Salman Khan         31\n",
       "Sanjay Dutt         26\n",
       "                    ..\n",
       "Diganth              1\n",
       "Parveen Kaur         1\n",
       "Seema Azmi           1\n",
       "Akanksha Puri        1\n",
       "Edwin Fernandes      1\n",
       "Name: count, Length: 566, dtype: int64"
      ]
     },
     "execution_count": 95,
     "metadata": {},
     "output_type": "execute_result"
    }
   ],
   "source": [
    "# find actors who have done more than 20 movies\n",
    "num_movies = movies_series.value_counts()\n",
    "num_movies\n",
    "\n"
   ]
  },
  {
   "cell_type": "code",
   "execution_count": 96,
   "id": "ce90218f",
   "metadata": {},
   "outputs": [
    {
     "data": {
      "text/plain": [
       "Akshay Kumar        48\n",
       "Amitabh Bachchan    45\n",
       "Ajay Devgn          38\n",
       "Salman Khan         31\n",
       "Sanjay Dutt         26\n",
       "Shah Rukh Khan      22\n",
       "Emraan Hashmi       21\n",
       "Name: count, dtype: int64"
      ]
     },
     "execution_count": 96,
     "metadata": {},
     "output_type": "execute_result"
    }
   ],
   "source": [
    "actors_20 = num_movies[num_movies > 20]\n",
    "actors_20"
   ]
  },
  {
   "cell_type": "markdown",
   "id": "6178a812",
   "metadata": {},
   "source": [
    "### SOME IMPORTANT PANDAS SERIES METHODS"
   ]
  },
  {
   "cell_type": "code",
   "execution_count": 97,
   "id": "36107295",
   "metadata": {},
   "outputs": [
    {
     "name": "stdout",
     "output_type": "stream",
     "text": [
      "0    1.0\n",
      "1    2.0\n",
      "2    3.0\n",
      "3    4.0\n",
      "dtype: float64\n",
      "float64\n"
     ]
    }
   ],
   "source": [
    "# 1. astype() – Change Data Type of Series\n",
    "\n",
    "\n",
    "# Creating a Pandas Series\n",
    "s = pd.Series([1, 2, 3, 4])\n",
    "\n",
    "# Convert to float\n",
    "s_float = s.astype(float)\n",
    "\n",
    "print(s_float)\n",
    "print(s_float.dtypes)  # Output: float64"
   ]
  },
  {
   "cell_type": "code",
   "execution_count": 98,
   "id": "c4da80bf",
   "metadata": {},
   "outputs": [
    {
     "name": "stdout",
     "output_type": "stream",
     "text": [
      "0    False\n",
      "1     True\n",
      "2     True\n",
      "3     True\n",
      "4    False\n",
      "dtype: bool\n"
     ]
    }
   ],
   "source": [
    "# 2. between() – Check If Values Fall Within a Range\n",
    "\n",
    "s = pd.Series([10, 20, 30, 40, 50])\n",
    "\n",
    "# Check if values are between 15 and 45\n",
    "result = s.between(15, 45)\n",
    "\n",
    "print(result)"
   ]
  },
  {
   "cell_type": "code",
   "execution_count": 99,
   "id": "46d2130c",
   "metadata": {},
   "outputs": [
    {
     "name": "stdout",
     "output_type": "stream",
     "text": [
      "0    10\n",
      "1    15\n",
      "2    25\n",
      "3    30\n",
      "4    30\n",
      "dtype: int64\n"
     ]
    }
   ],
   "source": [
    "# 3. clip() – Restrict Values to a Given Range\n",
    "\n",
    "s = pd.Series([5, 15, 25, 35, 45])\n",
    "\n",
    "# Clip values below 10 and above 30\n",
    "s_clipped = s.clip(lower=10, upper=30)\n",
    "\n",
    "print(s_clipped)"
   ]
  },
  {
   "cell_type": "code",
   "execution_count": 100,
   "id": "cebf8c27",
   "metadata": {},
   "outputs": [
    {
     "name": "stdout",
     "output_type": "stream",
     "text": [
      "0    10\n",
      "1    20\n",
      "3    30\n",
      "5    40\n",
      "dtype: int64\n"
     ]
    }
   ],
   "source": [
    "# 4. drop_duplicates() – Remove Duplicate Values\n",
    "\n",
    "s = pd.Series([10, 20, 10, 30, 20, 40])\n",
    "\n",
    "# Remove duplicates\n",
    "s_unique = s.drop_duplicates()\n",
    "\n",
    "print(s_unique)"
   ]
  },
  {
   "cell_type": "code",
   "execution_count": 101,
   "id": "822c33a2",
   "metadata": {},
   "outputs": [
    {
     "name": "stdout",
     "output_type": "stream",
     "text": [
      "0    False\n",
      "1     True\n",
      "2    False\n",
      "3     True\n",
      "4    False\n",
      "dtype: bool\n"
     ]
    }
   ],
   "source": [
    "# 5. isnull() – Check for Missing Values\n",
    "\n",
    "s = pd.Series([10, None, 20, None, 30])\n",
    "\n",
    "# Check for missing values\n",
    "print(s.isnull())"
   ]
  },
  {
   "cell_type": "code",
   "execution_count": 102,
   "id": "ab9abc2c",
   "metadata": {},
   "outputs": [
    {
     "name": "stdout",
     "output_type": "stream",
     "text": [
      "0    10.0\n",
      "2    20.0\n",
      "4    30.0\n",
      "dtype: float64\n"
     ]
    }
   ],
   "source": [
    "# 6. dropna() – Remove Missing Values\n",
    "s_cleaned = s.dropna()\n",
    "\n",
    "print(s_cleaned)"
   ]
  },
  {
   "cell_type": "code",
   "execution_count": 103,
   "id": "6ef190cf",
   "metadata": {},
   "outputs": [
    {
     "name": "stdout",
     "output_type": "stream",
     "text": [
      "0    10.0\n",
      "1     0.0\n",
      "2    20.0\n",
      "3     0.0\n",
      "4    30.0\n",
      "dtype: float64\n"
     ]
    }
   ],
   "source": [
    "# 7. fillna() – Replace Missing Values\n",
    "\n",
    "s = pd.Series([10, None, 20, None, 30])\n",
    "\n",
    "s_filled = s.fillna(0)  # Replace NaN with 0\n",
    "\n",
    "print(s_filled)"
   ]
  },
  {
   "cell_type": "code",
   "execution_count": 104,
   "id": "b198f7cc",
   "metadata": {},
   "outputs": [
    {
     "name": "stdout",
     "output_type": "stream",
     "text": [
      "0    False\n",
      "1     True\n",
      "2    False\n",
      "3     True\n",
      "4    False\n",
      "dtype: bool\n"
     ]
    }
   ],
   "source": [
    "# 8. isin() – Check if Values Exist in a List\n",
    "\n",
    "s = pd.Series([10, 20, 30, 40, 50])\n",
    "\n",
    "# Check if values exist in the given list\n",
    "result = s.isin([20, 40, 60])\n",
    "\n",
    "print(result)"
   ]
  },
  {
   "cell_type": "code",
   "execution_count": null,
   "id": "b4916bce",
   "metadata": {},
   "outputs": [],
   "source": []
  }
 ],
 "metadata": {
  "kernelspec": {
   "display_name": "dsai",
   "language": "python",
   "name": "python3"
  },
  "language_info": {
   "codemirror_mode": {
    "name": "ipython",
    "version": 3
   },
   "file_extension": ".py",
   "mimetype": "text/x-python",
   "name": "python",
   "nbconvert_exporter": "python",
   "pygments_lexer": "ipython3",
   "version": "3.10.19"
  }
 },
 "nbformat": 4,
 "nbformat_minor": 5
}
