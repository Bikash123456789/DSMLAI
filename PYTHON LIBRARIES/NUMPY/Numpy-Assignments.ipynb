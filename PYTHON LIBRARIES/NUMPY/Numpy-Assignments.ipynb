{
 "cells": [
  {
   "cell_type": "code",
   "execution_count": 3,
   "id": "805bd9e1",
   "metadata": {},
   "outputs": [],
   "source": [
    "import numpy as np\n",
    "import pandas as pd"
   ]
  },
  {
   "cell_type": "markdown",
   "id": "2172fe6d",
   "metadata": {},
   "source": [
    "### 1️⃣ Create a 1D NumPy array of numbers from 0 to 9"
   ]
  },
  {
   "cell_type": "code",
   "execution_count": 5,
   "id": "7c6674ee",
   "metadata": {},
   "outputs": [
    {
     "name": "stdout",
     "output_type": "stream",
     "text": [
      "[0 1 2 3 4 5 6 7 8 9]\n"
     ]
    }
   ],
   "source": [
    "arr = np.arange(0,10)\n",
    "print(arr)"
   ]
  },
  {
   "cell_type": "markdown",
   "id": "22652a0d",
   "metadata": {},
   "source": [
    "### 2️⃣ Create a 3x3 NumPy array filled with all True values"
   ]
  },
  {
   "cell_type": "code",
   "execution_count": 10,
   "id": "e377a869",
   "metadata": {},
   "outputs": [
    {
     "name": "stdout",
     "output_type": "stream",
     "text": [
      "[[1. 1. 1.]\n",
      " [1. 1. 1.]\n",
      " [1. 1. 1.]]\n",
      "-------------------\n",
      "[[ True  True  True]\n",
      " [ True  True  True]\n",
      " [ True  True  True]]\n"
     ]
    }
   ],
   "source": [
    "arr1 = np.ones((3,3))\n",
    "arr2 = arr1.astype(bool)\n",
    "\n",
    "print(arr1)\n",
    "print(\"-------------------\")\n",
    "print(arr2)"
   ]
  },
  {
   "cell_type": "markdown",
   "id": "60bcfab4",
   "metadata": {},
   "source": [
    "### 3️⃣ Extract all odd numbers from a given NumPy array"
   ]
  },
  {
   "cell_type": "code",
   "execution_count": 14,
   "id": "1584b905",
   "metadata": {},
   "outputs": [
    {
     "name": "stdout",
     "output_type": "stream",
     "text": [
      "[ 1  3  5  7  9 11 13]\n"
     ]
    }
   ],
   "source": [
    "arr = np.arange(15)\n",
    "odd = arr[arr % 2 != 0]\n",
    "print(odd)"
   ]
  },
  {
   "cell_type": "markdown",
   "id": "f79ab385",
   "metadata": {},
   "source": [
    "### 4️⃣ Replace all odd numbers in an array with -1"
   ]
  },
  {
   "cell_type": "code",
   "execution_count": 21,
   "id": "0a02083d",
   "metadata": {},
   "outputs": [
    {
     "name": "stdout",
     "output_type": "stream",
     "text": [
      "[ 0 -1  2 -1  4 -1  6 -1  8 -1 10 -1 12 -1 14]\n"
     ]
    }
   ],
   "source": [
    "arr = np.arange(15)\n",
    "arr[arr % 2 == 1] = -1\n",
    "print(arr)"
   ]
  },
  {
   "cell_type": "markdown",
   "id": "2f0636db",
   "metadata": {},
   "source": [
    "### 5️⃣ Create a 5x5 identity matrix"
   ]
  },
  {
   "cell_type": "code",
   "execution_count": 22,
   "id": "a4bcdb43",
   "metadata": {},
   "outputs": [
    {
     "name": "stdout",
     "output_type": "stream",
     "text": [
      "[[1. 0. 0. 0. 0.]\n",
      " [0. 1. 0. 0. 0.]\n",
      " [0. 0. 1. 0. 0.]\n",
      " [0. 0. 0. 1. 0.]\n",
      " [0. 0. 0. 0. 1.]]\n"
     ]
    }
   ],
   "source": [
    "arr = np.eye(5)\n",
    "print(arr)"
   ]
  },
  {
   "cell_type": "markdown",
   "id": "d6d8d481",
   "metadata": {},
   "source": [
    "### 6️⃣ Create a 3x3 matrix with values ranging from 0 to 8 using np.arange"
   ]
  },
  {
   "cell_type": "code",
   "execution_count": 26,
   "id": "131e3d7f",
   "metadata": {},
   "outputs": [
    {
     "name": "stdout",
     "output_type": "stream",
     "text": [
      "[[0 1 2]\n",
      " [3 4 5]\n",
      " [6 7 8]]\n"
     ]
    }
   ],
   "source": [
    "arr = np.arange(9).reshape(3,3)\n",
    "print(arr)"
   ]
  },
  {
   "cell_type": "markdown",
   "id": "31152999",
   "metadata": {},
   "source": [
    "### 7️⃣ Reverse a 1D NumPy array (first element becomes last)"
   ]
  },
  {
   "cell_type": "code",
   "execution_count": 29,
   "id": "a5fae336",
   "metadata": {},
   "outputs": [
    {
     "name": "stdout",
     "output_type": "stream",
     "text": [
      "[9 8 7 6 5 4 3 2 1 0]\n"
     ]
    }
   ],
   "source": [
    "arr = np.arange(10)\n",
    "rev = arr[::-1]\n",
    "print(rev)"
   ]
  },
  {
   "cell_type": "markdown",
   "id": "ddda413b",
   "metadata": {},
   "source": [
    "### 8️⃣ Reshape a 1D array of 10 elements into a 2D array with 2 rows"
   ]
  },
  {
   "cell_type": "code",
   "execution_count": 31,
   "id": "f6af5546",
   "metadata": {},
   "outputs": [
    {
     "name": "stdout",
     "output_type": "stream",
     "text": [
      "[[0 1 2 3 4]\n",
      " [5 6 7 8 9]]\n"
     ]
    }
   ],
   "source": [
    "arr = np.arange(10).reshape(2,-1)\n",
    "print(arr)"
   ]
  },
  {
   "cell_type": "markdown",
   "id": "9262ecc9",
   "metadata": {},
   "source": [
    "### 9️⃣ Stack two NumPy arrays vertically and horizontally"
   ]
  },
  {
   "cell_type": "code",
   "execution_count": 38,
   "id": "daba2fa8",
   "metadata": {},
   "outputs": [
    {
     "name": "stdout",
     "output_type": "stream",
     "text": [
      "[[0 1 2 3 4]\n",
      " [5 6 7 8 9]]\n",
      "---------------\n",
      "[[10 11 12 13 14]\n",
      " [15 16 17 18 19]]\n",
      "---------------\n",
      "[[ 0  1  2  3  4]\n",
      " [ 5  6  7  8  9]\n",
      " [10 11 12 13 14]\n",
      " [15 16 17 18 19]]\n",
      "---------------\n",
      "[[ 0  1  2  3  4 10 11 12 13 14]\n",
      " [ 5  6  7  8  9 15 16 17 18 19]]\n"
     ]
    }
   ],
   "source": [
    "a = np.arange(10).reshape(2,-1)\n",
    "b = np.arange(10,20).reshape(2,-1)\n",
    "\n",
    "v_stack = np.concatenate((a,b),axis = 0)\n",
    "h_stack = np.concatenate((a,b),axis = 1)\n",
    "\n",
    "print(a)\n",
    "print(\"---------------\")\n",
    "print(b)\n",
    "print(\"---------------\")\n",
    "print(v_stack)\n",
    "print(\"---------------\")\n",
    "print(h_stack)"
   ]
  },
  {
   "cell_type": "markdown",
   "id": "83223f8b",
   "metadata": {},
   "source": [
    "### 🔟 Convert a Python list and a tuple into a NumPy array"
   ]
  },
  {
   "cell_type": "code",
   "execution_count": 39,
   "id": "7cd42dd4",
   "metadata": {},
   "outputs": [
    {
     "name": "stdout",
     "output_type": "stream",
     "text": [
      "[1 2 3]\n",
      "[4 5 6]\n"
     ]
    }
   ],
   "source": [
    "lst = [1, 2, 3]\n",
    "tpl = (4, 5, 6)\n",
    "\n",
    "arr1 = np.array(lst)\n",
    "arr2 = np.array(tpl)\n",
    "\n",
    "print(arr1)\n",
    "print(arr2)"
   ]
  },
  {
   "cell_type": "markdown",
   "id": "1e7a12ed",
   "metadata": {},
   "source": [
    "### 11 - Get common items between two arrays"
   ]
  },
  {
   "cell_type": "code",
   "execution_count": 40,
   "id": "f3250e8d",
   "metadata": {},
   "outputs": [
    {
     "name": "stdout",
     "output_type": "stream",
     "text": [
      "[4 5]\n"
     ]
    }
   ],
   "source": [
    "a = np.array([1, 2, 3, 4, 5])\n",
    "b = np.array([4, 5, 6, 7, 8])\n",
    "\n",
    "common = np.intersect1d(a, b)\n",
    "print(common)"
   ]
  },
  {
   "cell_type": "markdown",
   "id": "9e01ba8c",
   "metadata": {},
   "source": [
    "### 12 - Remove all elements of one array from another array"
   ]
  },
  {
   "cell_type": "code",
   "execution_count": 41,
   "id": "0616ff60",
   "metadata": {},
   "outputs": [
    {
     "name": "stdout",
     "output_type": "stream",
     "text": [
      "[1 2]\n"
     ]
    }
   ],
   "source": [
    "a = np.array([1, 2, 3, 4, 5])\n",
    "b = np.array([3, 4, 5])\n",
    "\n",
    "result = np.setdiff1d(a, b)\n",
    "print(result)"
   ]
  },
  {
   "cell_type": "markdown",
   "id": "d1429cf0",
   "metadata": {},
   "source": [
    "### 13 - Get positions (indices) where elements of two arrays match"
   ]
  },
  {
   "cell_type": "code",
   "execution_count": 42,
   "id": "a97245bd",
   "metadata": {},
   "outputs": [
    {
     "name": "stdout",
     "output_type": "stream",
     "text": [
      "(array([1, 2, 3]),)\n"
     ]
    }
   ],
   "source": [
    "a = np.array([1, 2, 3, 2, 4])\n",
    "b = np.array([2, 2, 3, 2, 5])\n",
    "\n",
    "indices = np.where(a == b)\n",
    "print(indices)"
   ]
  },
  {
   "cell_type": "markdown",
   "id": "d202a0ea",
   "metadata": {},
   "source": [
    "### 14 - Generate a random float matrix of shape (3,3) between 0 and 1"
   ]
  },
  {
   "cell_type": "code",
   "execution_count": 43,
   "id": "a1cf85db",
   "metadata": {},
   "outputs": [
    {
     "name": "stdout",
     "output_type": "stream",
     "text": [
      "[[0.99765419 0.47696206 0.49013896]\n",
      " [0.66978266 0.64724753 0.08203756]\n",
      " [0.14947132 0.47423667 0.13669424]]\n"
     ]
    }
   ],
   "source": [
    "arr = np.random.rand(3,3)\n",
    "print(arr)"
   ]
  },
  {
   "cell_type": "markdown",
   "id": "c27aee85",
   "metadata": {},
   "source": [
    "### 15 - Set the diagonal elements of a 5x5 matrix to zero without using loops"
   ]
  },
  {
   "cell_type": "code",
   "execution_count": 44,
   "id": "ec5d2381",
   "metadata": {},
   "outputs": [
    {
     "name": "stdout",
     "output_type": "stream",
     "text": [
      "[[0. 1. 1. 1. 1.]\n",
      " [1. 0. 1. 1. 1.]\n",
      " [1. 1. 0. 1. 1.]\n",
      " [1. 1. 1. 0. 1.]\n",
      " [1. 1. 1. 1. 0.]]\n"
     ]
    }
   ],
   "source": [
    "arr = np.ones((5,5))\n",
    "np.fill_diagonal(arr,0)\n",
    "print(arr)"
   ]
  },
  {
   "cell_type": "markdown",
   "id": "4d132007",
   "metadata": {},
   "source": [
    "# Intermediate Questions"
   ]
  },
  {
   "cell_type": "markdown",
   "id": "164a3c0c",
   "metadata": {},
   "source": [
    "### 1️⃣ Normalize a NumPy array (values between 0 and 1)"
   ]
  },
  {
   "cell_type": "code",
   "execution_count": 48,
   "id": "a4ee04c0",
   "metadata": {},
   "outputs": [
    {
     "name": "stdout",
     "output_type": "stream",
     "text": [
      "[0.   0.11 0.22 0.33 0.44 0.56 0.67 0.78 0.89 1.  ]\n"
     ]
    }
   ],
   "source": [
    "arr = np.linspace(10,100, 10).astype(int)\n",
    "norm = ( arr - arr.min())/(arr.max() - arr.min())\n",
    "print(norm.round(2))"
   ]
  },
  {
   "cell_type": "markdown",
   "id": "82951b88",
   "metadata": {},
   "source": [
    "### 2️⃣ Standardize a NumPy array (zero mean, unit variance)"
   ]
  },
  {
   "cell_type": "code",
   "execution_count": 49,
   "id": "71661e6e",
   "metadata": {},
   "outputs": [
    {
     "name": "stdout",
     "output_type": "stream",
     "text": [
      "[-1.41421356 -0.70710678  0.          0.70710678  1.41421356]\n"
     ]
    }
   ],
   "source": [
    "arr = np.array([10, 20, 30, 40, 50])\n",
    "std = np.std(arr)\n",
    "mean = np.mean(arr)\n",
    "\n",
    "standard = ( arr - mean )/std\n",
    "print(standard)"
   ]
  },
  {
   "cell_type": "markdown",
   "id": "ccb8a5f4",
   "metadata": {},
   "source": [
    "### 3️⃣ Find the mean, median, variance, and standard deviation of an array"
   ]
  },
  {
   "cell_type": "code",
   "execution_count": 50,
   "id": "b5d09bcb",
   "metadata": {},
   "outputs": [
    {
     "name": "stdout",
     "output_type": "stream",
     "text": [
      "Mean: 3.0\n",
      "Median: 3.0\n",
      "Variance: 2.0\n",
      "Standard Deviation: 1.4142135623730951\n"
     ]
    }
   ],
   "source": [
    "arr = np.array([1, 2, 3, 4, 5])\n",
    "\n",
    "print(\"Mean:\", np.mean(arr))\n",
    "print(\"Median:\", np.median(arr))\n",
    "print(\"Variance:\", np.var(arr))\n",
    "print(\"Standard Deviation:\", np.std(arr))"
   ]
  },
  {
   "cell_type": "markdown",
   "id": "90a978e7",
   "metadata": {},
   "source": [
    "### 4️⃣ Get unique values, counts, and frequencies of elements in an array"
   ]
  },
  {
   "cell_type": "code",
   "execution_count": 56,
   "id": "9f53095a",
   "metadata": {},
   "outputs": [
    {
     "data": {
      "text/plain": [
       "array([0.14285714, 0.28571429, 0.42857143, 0.14285714])"
      ]
     },
     "execution_count": 56,
     "metadata": {},
     "output_type": "execute_result"
    }
   ],
   "source": [
    "arr = np.array([1, 2, 2, 3, 3, 3, 4])\n",
    "unique,counts = np.unique(arr,return_counts=True)\n",
    "freq = counts/len(arr)\n",
    "freq"
   ]
  },
  {
   "cell_type": "code",
   "execution_count": 57,
   "id": "6a566634",
   "metadata": {},
   "outputs": [
    {
     "data": {
      "text/plain": [
       "Counter({3: 3, 2: 2, 1: 1, 4: 1})"
      ]
     },
     "execution_count": 57,
     "metadata": {},
     "output_type": "execute_result"
    }
   ],
   "source": [
    "from collections import Counter\n",
    "counter = Counter(arr)\n",
    "counter"
   ]
  },
  {
   "cell_type": "markdown",
   "id": "ff8f4957",
   "metadata": {},
   "source": [
    "### 5️⃣ Replace NaN values in an array with the mean of that column"
   ]
  },
  {
   "cell_type": "code",
   "execution_count": 61,
   "id": "4b8ea470",
   "metadata": {},
   "outputs": [
    {
     "name": "stdout",
     "output_type": "stream",
     "text": [
      "[[1.  6.5 3. ]\n",
      " [4.  5.  6. ]\n",
      " [7.  8.  9. ]]\n"
     ]
    }
   ],
   "source": [
    "arr = np.array([[1, np.nan, 3], [4, 5, np.nan], [7, 8, 9]])\n",
    "col_mean = np.nanmean(arr,axis=0)\n",
    "inds = np.where(np.isnan(arr))\n",
    "arr[inds] = np.take(col_mean,inds[1])\n",
    "print(arr)"
   ]
  },
  {
   "cell_type": "markdown",
   "id": "b7f357ab",
   "metadata": {},
   "source": [
    "### 6️⃣ Compute column-wise and row-wise sums and means of a 2D array"
   ]
  },
  {
   "cell_type": "code",
   "execution_count": 63,
   "id": "98b194fc",
   "metadata": {},
   "outputs": [
    {
     "name": "stdout",
     "output_type": "stream",
     "text": [
      "[[1 2 3]\n",
      " [4 5 6]]\n",
      "----------\n",
      "Row-wise sum: [ 6 15]\n",
      "Column-wise sum: [5 7 9]\n",
      "Row-wise mean: [2. 5.]\n",
      "Column-wise mean: [2.5 3.5 4.5]\n"
     ]
    }
   ],
   "source": [
    "arr = np.array([[1, 2, 3], [4, 5, 6]])\n",
    "print(arr)\n",
    "print(\"----------\")\n",
    "print(\"Row-wise sum:\", arr.sum(axis=1))\n",
    "print(\"Column-wise sum:\", arr.sum(axis=0))\n",
    "print(\"Row-wise mean:\", arr.mean(axis=1))\n",
    "print(\"Column-wise mean:\", arr.mean(axis=0))"
   ]
  },
  {
   "cell_type": "markdown",
   "id": "e1553154",
   "metadata": {},
   "source": [
    "### 7️⃣ Sort a NumPy array by the second column"
   ]
  },
  {
   "cell_type": "code",
   "execution_count": 64,
   "id": "17e4ebae",
   "metadata": {},
   "outputs": [
    {
     "name": "stdout",
     "output_type": "stream",
     "text": [
      "[[4 2 6]\n",
      " [9 5 1]\n",
      " [1 7 3]]\n"
     ]
    }
   ],
   "source": [
    "arr = np.array([[1, 7, 3], [4, 2, 6], [9, 5, 1]])\n",
    "\n",
    "sorted_arr = arr[arr[:, 1].argsort()]\n",
    "print(sorted_arr)"
   ]
  },
  {
   "cell_type": "markdown",
   "id": "4c98ecc4",
   "metadata": {},
   "source": [
    "### 8️⃣ Get the top 5 maximum values of a 1D array"
   ]
  },
  {
   "cell_type": "code",
   "execution_count": 67,
   "id": "c1144ddc",
   "metadata": {},
   "outputs": [
    {
     "name": "stdout",
     "output_type": "stream",
     "text": [
      "[ 30  50  70  90 100]\n"
     ]
    }
   ],
   "source": [
    "arr = np.array([10, 90, 30, 70, 50, 20, 100])\n",
    "top5 = np.sort(arr)\n",
    "print(top5[-5:])"
   ]
  },
  {
   "cell_type": "markdown",
   "id": "86d7ddab",
   "metadata": {},
   "source": [
    "### 9️⃣ Find the most frequent value in an array"
   ]
  },
  {
   "cell_type": "code",
   "execution_count": 69,
   "id": "d152f7ea",
   "metadata": {},
   "outputs": [
    {
     "name": "stdout",
     "output_type": "stream",
     "text": [
      "3\n"
     ]
    }
   ],
   "source": [
    "arr = np.array([1, 2, 2, 3, 3, 3, 4])\n",
    "vals, counts = np.unique(arr, return_counts=True)\n",
    "index = np.argmax(counts)\n",
    "most_frequent = vals[index]\n",
    "print(most_frequent)"
   ]
  },
  {
   "cell_type": "markdown",
   "id": "cae1a4ea",
   "metadata": {},
   "source": [
    "### 🔟 Perform element-wise multiplication and matrix multiplication of two 2D arrays"
   ]
  },
  {
   "cell_type": "code",
   "execution_count": 70,
   "id": "3c3e97c8",
   "metadata": {},
   "outputs": [
    {
     "name": "stdout",
     "output_type": "stream",
     "text": [
      "Element-wise:\n",
      " [[ 5 12]\n",
      " [21 32]]\n",
      "Matrix Multiplication:\n",
      " [[19 22]\n",
      " [43 50]]\n"
     ]
    }
   ],
   "source": [
    "a = np.array([[1, 2], [3, 4]])\n",
    "b = np.array([[5, 6], [7, 8]])\n",
    "\n",
    "elementwise = a * b\n",
    "matmul = a @ b  # or np.dot(a, b)\n",
    "\n",
    "print(\"Element-wise:\\n\", elementwise)\n",
    "print(\"Matrix Multiplication:\\n\", matmul)"
   ]
  },
  {
   "cell_type": "markdown",
   "id": "e1ef9601",
   "metadata": {},
   "source": [
    "### 11️⃣ Compute the Euclidean distance between two vectors"
   ]
  },
  {
   "cell_type": "code",
   "execution_count": 71,
   "id": "39fabf2b",
   "metadata": {},
   "outputs": [
    {
     "name": "stdout",
     "output_type": "stream",
     "text": [
      "5.196152422706632\n"
     ]
    }
   ],
   "source": [
    "a = np.array([1, 2, 3])\n",
    "b = np.array([4, 5, 6])\n",
    "\n",
    "distance = np.linalg.norm(a-b)\n",
    "print(distance)"
   ]
  },
  {
   "cell_type": "markdown",
   "id": "2400ffce",
   "metadata": {},
   "source": [
    "### 12️⃣ Find correlation coefficients between columns of a 2D array"
   ]
  },
  {
   "cell_type": "code",
   "execution_count": 72,
   "id": "7b50895f",
   "metadata": {},
   "outputs": [
    {
     "name": "stdout",
     "output_type": "stream",
     "text": [
      "[[1. 1. 1.]\n",
      " [1. 1. 1.]\n",
      " [1. 1. 1.]]\n"
     ]
    }
   ],
   "source": [
    "arr = np.array([[1, 2, 3], [2, 3, 4], [3, 4, 5]])\n",
    "\n",
    "corr = np.corrcoef(arr, rowvar=False)\n",
    "print(corr)"
   ]
  },
  {
   "cell_type": "markdown",
   "id": "3c0263ab",
   "metadata": {},
   "source": [
    "### 13️⃣ Get all rows in a 2D array where the value in the second column is greater than 10"
   ]
  },
  {
   "cell_type": "code",
   "execution_count": 73,
   "id": "247e60b7",
   "metadata": {},
   "outputs": [
    {
     "name": "stdout",
     "output_type": "stream",
     "text": [
      "[[ 5 12  7]\n",
      " [ 6 15  3]]\n"
     ]
    }
   ],
   "source": [
    "arr = np.array([[5, 12, 7], [8, 9, 2], [6, 15, 3]])\n",
    "\n",
    "filtered = arr[arr[:, 1] > 10]\n",
    "print(filtered)"
   ]
  },
  {
   "cell_type": "markdown",
   "id": "fb36b10f",
   "metadata": {},
   "source": [
    "### 14️⃣ Shuffle rows of a 2D array randomly"
   ]
  },
  {
   "cell_type": "code",
   "execution_count": 74,
   "id": "8f20460f",
   "metadata": {},
   "outputs": [
    {
     "name": "stdout",
     "output_type": "stream",
     "text": [
      "[[3 4 5]\n",
      " [6 7 8]\n",
      " [0 1 2]]\n"
     ]
    }
   ],
   "source": [
    "arr = np.arange(9).reshape(3, 3)\n",
    "np.random.shuffle(arr)\n",
    "print(arr)"
   ]
  },
  {
   "cell_type": "markdown",
   "id": "08d2ce82",
   "metadata": {},
   "source": [
    "### 15️⃣ Replace all elements of an array greater than a certain value with a new value"
   ]
  },
  {
   "cell_type": "code",
   "execution_count": 75,
   "id": "f0faa667",
   "metadata": {},
   "outputs": [
    {
     "name": "stdout",
     "output_type": "stream",
     "text": [
      "[10 45 50 50 30]\n"
     ]
    }
   ],
   "source": [
    "arr = np.array([10, 45, 60, 80, 30])\n",
    "arr[arr > 50] = 50\n",
    "print(arr)"
   ]
  },
  {
   "cell_type": "markdown",
   "id": "ddf63f07",
   "metadata": {},
   "source": [
    "# 🔶 SECTION 3: Intermediate → Advanced (15 Questions)"
   ]
  },
  {
   "cell_type": "markdown",
   "id": "467a6b44",
   "metadata": {},
   "source": [
    "### 1️⃣ Create a 10×3 matrix of random numbers and find row-wise maximum values"
   ]
  },
  {
   "cell_type": "code",
   "execution_count": 85,
   "id": "a37f31db",
   "metadata": {},
   "outputs": [
    {
     "name": "stdout",
     "output_type": "stream",
     "text": [
      "[[0.68913304 0.90788562 0.54892518]\n",
      " [0.83942373 0.32503036 0.26212687]\n",
      " [0.97938439 0.74891143 0.2385816 ]\n",
      " [0.94306159 0.58319825 0.47512564]\n",
      " [0.39145288 0.95923309 0.78289244]\n",
      " [0.07429852 0.88808067 0.42823372]\n",
      " [0.89394392 0.42498262 0.67522712]\n",
      " [0.7181921  0.13410692 0.70852006]\n",
      " [0.26198404 0.24282854 0.60593224]\n",
      " [0.56575143 0.91778906 0.0793284 ]]\n",
      "[0.90788562 0.83942373 0.97938439 0.94306159 0.95923309 0.88808067\n",
      " 0.89394392 0.7181921  0.60593224 0.91778906]\n"
     ]
    }
   ],
   "source": [
    "import numpy as np\n",
    "\n",
    "arr = np.random.rand(10, 3)\n",
    "print(arr)\n",
    "row_max = arr.max(axis=1)\n",
    "print(row_max)"
   ]
  },
  {
   "cell_type": "markdown",
   "id": "7c331dc2",
   "metadata": {},
   "source": [
    "### 2️⃣ Convert temperatures from Celsius to Fahrenheit using vectorized operations"
   ]
  },
  {
   "cell_type": "code",
   "execution_count": 86,
   "id": "f389a8d0",
   "metadata": {},
   "outputs": [
    {
     "name": "stdout",
     "output_type": "stream",
     "text": [
      "[ 32.   68.   98.6 212. ]\n"
     ]
    }
   ],
   "source": [
    "celsius = np.array([0, 20, 37, 100])\n",
    "fahrenheit = (celsius * 9 / 5) + 32\n",
    "print(fahrenheit)"
   ]
  },
  {
   "cell_type": "markdown",
   "id": "82dba8f3",
   "metadata": {},
   "source": [
    "### 3️⃣ Extract every 3rd element from a 1D array"
   ]
  },
  {
   "cell_type": "code",
   "execution_count": 87,
   "id": "892f8c91",
   "metadata": {},
   "outputs": [
    {
     "name": "stdout",
     "output_type": "stream",
     "text": [
      "[ 0  3  6  9 12 15 18]\n"
     ]
    }
   ],
   "source": [
    "arr = np.arange(20)\n",
    "print(arr[::3])"
   ]
  },
  {
   "cell_type": "markdown",
   "id": "856e1bd9",
   "metadata": {},
   "source": [
    "### 4️⃣ Compute (a - b) / (a + b) safely (avoid division-by-zero)"
   ]
  },
  {
   "cell_type": "code",
   "execution_count": 88,
   "id": "7fe31e0c",
   "metadata": {},
   "outputs": [
    {
     "name": "stdout",
     "output_type": "stream",
     "text": [
      "[ 1.  0. -1.  0.]\n"
     ]
    }
   ],
   "source": [
    "a = np.array([1, 2, 0, 4])\n",
    "b = np.array([0, 2, 3, 4])\n",
    "\n",
    "result = np.divide(a - b, a + b, out=np.zeros_like(a, dtype=float), where=(a + b) != 0)\n",
    "print(result)"
   ]
  },
  {
   "cell_type": "markdown",
   "id": "e94bf945",
   "metadata": {},
   "source": [
    "### 5️⃣ Convert a 1D array of 12 elements into 3×4 and flatten back"
   ]
  },
  {
   "cell_type": "code",
   "execution_count": 89,
   "id": "92665d8b",
   "metadata": {},
   "outputs": [
    {
     "name": "stdout",
     "output_type": "stream",
     "text": [
      "[[ 0  1  2  3]\n",
      " [ 4  5  6  7]\n",
      " [ 8  9 10 11]]\n",
      "[ 0  1  2  3  4  5  6  7  8  9 10 11]\n"
     ]
    }
   ],
   "source": [
    "arr = np.arange(12)\n",
    "reshaped = arr.reshape(3, 4)\n",
    "flattened = reshaped.flatten()\n",
    "print(reshaped)\n",
    "print(flattened)"
   ]
  },
  {
   "cell_type": "markdown",
   "id": "42694042",
   "metadata": {},
   "source": [
    "### 6️⃣ Create a boolean mask for all even numbers"
   ]
  },
  {
   "cell_type": "code",
   "execution_count": 90,
   "id": "802b8a85",
   "metadata": {},
   "outputs": [
    {
     "name": "stdout",
     "output_type": "stream",
     "text": [
      "[ True False  True False  True False  True False  True False]\n"
     ]
    }
   ],
   "source": [
    "arr = np.arange(10)\n",
    "mask = arr % 2 == 0\n",
    "print(mask)"
   ]
  },
  {
   "cell_type": "code",
   "execution_count": null,
   "id": "9fd670e6",
   "metadata": {},
   "outputs": [],
   "source": []
  }
 ],
 "metadata": {
  "kernelspec": {
   "display_name": "dsai",
   "language": "python",
   "name": "python3"
  },
  "language_info": {
   "codemirror_mode": {
    "name": "ipython",
    "version": 3
   },
   "file_extension": ".py",
   "mimetype": "text/x-python",
   "name": "python",
   "nbconvert_exporter": "python",
   "pygments_lexer": "ipython3",
   "version": "3.10.19"
  }
 },
 "nbformat": 4,
 "nbformat_minor": 5
}
