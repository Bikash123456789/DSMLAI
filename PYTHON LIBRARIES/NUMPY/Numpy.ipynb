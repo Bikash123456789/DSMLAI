{
 "cells": [
  {
   "cell_type": "markdown",
   "id": "7fa79aeb",
   "metadata": {},
   "source": [
    "# What is NumPy?\n",
    "NumPy (Numerical Python) is a powerful library in Python used for numerical computing. It provides support for multi-dimensional arrays and matrices along with a large collection of mathematical functions to operate on these arrays efficiently. NumPy is widely used in scientific computing, data analysis, machine learning, and artificial intelligence due to its high performance and ease of use."
   ]
  },
  {
   "cell_type": "markdown",
   "id": "650b4a16",
   "metadata": {},
   "source": [
    "# Why is NumPy Better than Python Lists?\n",
    "NumPy arrays are faster and more memory-efficient than Python lists due to the following reasons:\n",
    "### Better Performance (Speed)\n",
    "NumPy arrays are implemented in C and use contiguous memory blocks, making operations much faster than Python lists.\n",
    "Operations on NumPy arrays are performed using vectorization, avoiding slow Python loops.\n",
    "### Memory Efficiency\n",
    "Python lists store each element as a separate Python object, which takes more memory.\n",
    "NumPy arrays use a fixed type for elements, storing them in contiguous memory locations, reducing overhead.\n",
    "### Convenience\n",
    "NumPy provides built-in functions for operations like sum, mean, standard deviation, and matrix multiplication.\n",
    "Python lists require explicit loops to perform these operations.\n",
    "\n",
    "### Support for Multi-dimensional Arrays\n",
    "NumPy can handle multi-dimensional arrays (1D, 2D, 3D, etc.), whereas Python lists are inefficient for handling multi-dimensional data.\n",
    "### Broadcasting Feature\n",
    "NumPy allows operations between arrays of different shapes (broadcasting), whereas lists require explicit looping.\n"
   ]
  },
  {
   "cell_type": "code",
   "execution_count": 3,
   "id": "0a5ce839",
   "metadata": {},
   "outputs": [],
   "source": [
    "import numpy as np"
   ]
  },
  {
   "cell_type": "markdown",
   "id": "9b144a29",
   "metadata": {},
   "source": [
    "## Comparing NumPy Arrays and Lists"
   ]
  },
  {
   "cell_type": "code",
   "execution_count": 4,
   "id": "4a5ae25f",
   "metadata": {},
   "outputs": [
    {
     "name": "stdout",
     "output_type": "stream",
     "text": [
      "Python List Time 0.12368106842041016\n",
      "Numpy Array Time 0.001592874526977539\n"
     ]
    }
   ],
   "source": [
    "# Comparing NumPy Arrays and Lists\n",
    "\n",
    "import time\n",
    "\n",
    "size = 10**6\n",
    "\n",
    "py_list = list(range(size))\n",
    "np_array = np.arange(size)\n",
    "\n",
    "# Measuring time for list multiplication\n",
    "start = time.time()\n",
    "py_list = [x**2 for x in py_list]\n",
    "print(\"Python List Time\", time.time() - start)\n",
    "\n",
    "# Measuring time for numpy array multiplication\n",
    "start = time.time()\n",
    "np_array = np_array * 2\n",
    "print(\"Numpy Array Time\",time.time() - start)"
   ]
  },
  {
   "cell_type": "code",
   "execution_count": 8,
   "id": "d1a32de6",
   "metadata": {},
   "outputs": [
    {
     "name": "stdout",
     "output_type": "stream",
     "text": [
      "Python list Size 8056\n",
      "Numpy Array Size with int64 numbers 8112\n",
      "Numpy Array Size with int32 numbers 4112\n"
     ]
    }
   ],
   "source": [
    "# Memory usage\n",
    "import sys\n",
    "\n",
    "py_list = list(range(1000))\n",
    "np_array_int64 = np.arange(1000)\n",
    "np_array_int32 = np.arange(1000).astype('int32')\n",
    "\n",
    "print(\"Python list Size\", sys.getsizeof(py_list))\n",
    "print(\"Numpy Array Size with int64 numbers\", sys.getsizeof(np_array_int64))\n",
    "print(\"Numpy Array Size with int32 numbers\", sys.getsizeof(np_array_int32))"
   ]
  },
  {
   "cell_type": "code",
   "execution_count": 9,
   "id": "3f8bf25e",
   "metadata": {},
   "outputs": [
    {
     "name": "stdout",
     "output_type": "stream",
     "text": [
      "Python List Matrix: [[1, 2, 3], [4, 5, 6], [7, 8, 9]]\n",
      "NumPy Matrix:\n",
      " [[1 2 3]\n",
      " [4 5 6]\n",
      " [7 8 9]]\n"
     ]
    }
   ],
   "source": [
    "# Creating a 3x3 matrix in a Python list\n",
    "py_list_matrix = [[1, 2, 3], [4, 5, 6], [7, 8, 9]]\n",
    "\n",
    "# Creating a 3x3 NumPy array\n",
    "np_matrix = np.array([[1, 2, 3], [4, 5, 6], [7, 8, 9]])\n",
    "\n",
    "print(\"Python List Matrix:\", py_list_matrix)\n",
    "print(\"NumPy Matrix:\\n\", np_matrix)"
   ]
  },
  {
   "cell_type": "code",
   "execution_count": 11,
   "id": "8a0320d8",
   "metadata": {},
   "outputs": [
    {
     "name": "stdout",
     "output_type": "stream",
     "text": [
      "Python List Squared: [1, 4, 9, 16, 25]\n",
      "NumPy Array Squared: [ 1  4  9 16 25]\n"
     ]
    }
   ],
   "source": [
    "# Vectorized Operations in Numpy\n",
    "py_list = [1, 2, 3, 4, 5]\n",
    "np_array = np.array([1, 2, 3, 4, 5])\n",
    "\n",
    "# List: Requires loop\n",
    "py_list_squared = [x**2 for x in py_list]\n",
    "\n",
    "# NumPy: Uses vectorized operation\n",
    "np_array_squared = np_array**2\n",
    "\n",
    "# This will give same result but the np_array does not require loops unlike lists\n",
    "print(\"Python List Squared:\", py_list_squared)\n",
    "print(\"NumPy Array Squared:\", np_array_squared)"
   ]
  },
  {
   "cell_type": "code",
   "execution_count": 12,
   "id": "415bea73",
   "metadata": {},
   "outputs": [
    {
     "name": "stdout",
     "output_type": "stream",
     "text": [
      "[11 12 13 14 15]\n"
     ]
    }
   ],
   "source": [
    "# Broadcasting in Numpy\n",
    "np_array = np.array([1, 2, 3, 4, 5])\n",
    "\n",
    "# Add 10 to all the numbers of the array\n",
    "print(np_array + 10) "
   ]
  },
  {
   "cell_type": "markdown",
   "id": "c5e3d863",
   "metadata": {},
   "source": [
    "# Creating NumPy Arrays in Different Ways"
   ]
  },
  {
   "cell_type": "markdown",
   "id": "2aa09ada",
   "metadata": {},
   "source": [
    "### 1. Creating a NumPy Array from a Python List or Tuple using np.array()"
   ]
  },
  {
   "cell_type": "code",
   "execution_count": 14,
   "id": "8bf3668f",
   "metadata": {},
   "outputs": [
    {
     "name": "stdout",
     "output_type": "stream",
     "text": [
      "Array from list:  [1 2 3 4 5]\n",
      "Array from tuple:  [10 20 30 40]\n",
      "2d-Array: \n",
      " [[1 2 3]\n",
      " [4 5 6]]\n"
     ]
    }
   ],
   "source": [
    "# 👉 Use np.array() to convert lists/tuples into NumPy arrays.\n",
    "\n",
    "# From a list\n",
    "list_arr = np.array([1, 2, 3, 4, 5])\n",
    "\n",
    "# From a tuple\n",
    "tuple_arr = np.array((10, 20, 30, 40))\n",
    "\n",
    "# From a multidimensional list\n",
    "list_2d = np.array([[1, 2, 3], [4, 5, 6]])\n",
    "\n",
    "print(\"Array from list: \", list_arr)\n",
    "print(\"Array from tuple: \", tuple_arr)\n",
    "print(\"2d-Array: \\n\", list_2d)"
   ]
  },
  {
   "cell_type": "markdown",
   "id": "9253208d",
   "metadata": {},
   "source": [
    "### 2. Creating an Array with a Specific Data Type (dtype)"
   ]
  },
  {
   "cell_type": "code",
   "execution_count": 15,
   "id": "9bdb6da3",
   "metadata": {},
   "outputs": [
    {
     "name": "stdout",
     "output_type": "stream",
     "text": [
      "[1 2 3]\n",
      "[1. 2. 3.]\n"
     ]
    }
   ],
   "source": [
    "# 👉 Data types can be int, float, bool, complex, etc.\n",
    "arr1 = np.array([1.5, 2.7, 3.8], dtype=int)\n",
    "arr2 = np.array([1, 2, 3], dtype=float)\n",
    "\n",
    "print(arr1)\n",
    "print(arr2)"
   ]
  },
  {
   "cell_type": "markdown",
   "id": "b4eaefe2",
   "metadata": {},
   "source": [
    "### 3. Creating an Array with np.arange()"
   ]
  },
  {
   "cell_type": "code",
   "execution_count": 16,
   "id": "e1213ea6",
   "metadata": {},
   "outputs": [
    {
     "name": "stdout",
     "output_type": "stream",
     "text": [
      "Array with np.arange: [1 3 5 7 9]\n",
      "[ 0  1  2  3  4  5  6  7  8  9 10 11 12 13 14 15 16 17 18 19 20]\n"
     ]
    }
   ],
   "source": [
    "# 👉 Useful for generating sequences quickly.\n",
    "arr = np.arange(1, 10, 2)  # Start=1, Stop=10 (exclusive), Step=2\n",
    "\n",
    "# Default start is 0\n",
    "# Default step is 1\n",
    "\n",
    "print(\"Array with np.arange:\", arr)\n",
    "\n",
    "print(np.arange(21))"
   ]
  },
  {
   "cell_type": "markdown",
   "id": "953aaa99",
   "metadata": {},
   "source": [
    "### 4. Creating an Array with np.linspace()"
   ]
  },
  {
   "cell_type": "code",
   "execution_count": 17,
   "id": "ff6d2f2c",
   "metadata": {},
   "outputs": [
    {
     "name": "stdout",
     "output_type": "stream",
     "text": [
      "Array with np.linspace:  [ 0.   2.5  5.   7.5 10. ]\n"
     ]
    }
   ],
   "source": [
    "# Generates evenly spaced numbers between a start and stop.\n",
    "\n",
    "arr = np.linspace(0, 10, 5)  #  5 equally spaced values between 0 and 10\n",
    "print(\"Array with np.linspace: \", arr)"
   ]
  },
  {
   "cell_type": "markdown",
   "id": "94a3aaca",
   "metadata": {},
   "source": [
    "### 5. Creating an Array of Zeros (np.zeros()) and Ones (np.ones())"
   ]
  },
  {
   "cell_type": "code",
   "execution_count": 18,
   "id": "af4c34f6",
   "metadata": {},
   "outputs": [
    {
     "name": "stdout",
     "output_type": "stream",
     "text": [
      "Zeros array:\n",
      " [[0. 0. 0.]\n",
      " [0. 0. 0.]]\n",
      "Ones array:\n",
      " [[1. 1.]\n",
      " [1. 1.]\n",
      " [1. 1.]]\n"
     ]
    }
   ],
   "source": [
    "zeros_arr = np.zeros((2, 3))  # 2x3 matrix of zeros\n",
    "ones_arr = np.ones((3, 2))  # 3x2 matrix of ones\n",
    "\n",
    "print(\"Zeros array:\\n\", zeros_arr)\n",
    "print(\"Ones array:\\n\", ones_arr)"
   ]
  },
  {
   "cell_type": "markdown",
   "id": "42d15317",
   "metadata": {},
   "source": [
    "### 6. Creating an Identity Matrix (np.eye())"
   ]
  },
  {
   "cell_type": "code",
   "execution_count": 19,
   "id": "45366976",
   "metadata": {},
   "outputs": [
    {
     "name": "stdout",
     "output_type": "stream",
     "text": [
      "Identity Matrix:\n",
      " [[1. 0. 0. 0.]\n",
      " [0. 1. 0. 0.]\n",
      " [0. 0. 1. 0.]\n",
      " [0. 0. 0. 1.]]\n"
     ]
    }
   ],
   "source": [
    "# Generates a square matrix with 1s on the diagonal.\n",
    "identity_matrix = np.eye(4)  # 4x4 identity matrix\n",
    "print(\"Identity Matrix:\\n\", identity_matrix)"
   ]
  },
  {
   "cell_type": "markdown",
   "id": "3273e06b",
   "metadata": {},
   "source": [
    "### 7. Creating a Random Array (np.random)"
   ]
  },
  {
   "cell_type": "code",
   "execution_count": 20,
   "id": "7f447dc3",
   "metadata": {},
   "outputs": [
    {
     "name": "stdout",
     "output_type": "stream",
     "text": [
      "Random float array1:\n",
      " [0.70548923 0.17699502 0.76435896 0.96513733 0.94898409 0.46707175\n",
      " 0.73557529 0.83212341 0.82269054 0.2348442 ]\n",
      "----------------------------------\n",
      "Random float array2:\n",
      " [[0.84628241 0.85113165 0.27519849]\n",
      " [0.70530904 0.21730606 0.61365057]]\n",
      "----------------------------------\n",
      "Random integer array1:\n",
      " [ 6 16 13 11 14]\n",
      "----------------------------------\n",
      "Random integer array2:\n",
      " [[86 36 97]\n",
      " [12 23 52]\n",
      " [ 9 16 42]]\n"
     ]
    }
   ],
   "source": [
    "rand_arr1 = np.random.rand(10)  # 1d array with random valuse from 0 to 1\n",
    "rand_arr2 = np.random.rand(2, 3)  # 2x3 array with random values (0 to 1)\n",
    "\n",
    "rand_int_arr1 = np.random.randint(1, 20, 5)  # 1D array with 5 random integers (1-20)\n",
    "rand_int_arr2 = np.random.randint(\n",
    "    1, 100, (3, 3)\n",
    ")  # 3x3 matrix with random integers (1-100)\n",
    "\n",
    "print(\"Random float array1:\\n\", rand_arr1)\n",
    "print(\"----------------------------------\")\n",
    "print(\"Random float array2:\\n\", rand_arr2)\n",
    "print(\"----------------------------------\")\n",
    "print(\"Random integer array1:\\n\", rand_int_arr1)\n",
    "print(\"----------------------------------\")\n",
    "print(\"Random integer array2:\\n\", rand_int_arr2)\n",
    "\n",
    "\n",
    "# 👉 np.random.rand() gives floats in [0,1), while np.random.randint() gives random integers."
   ]
  },
  {
   "cell_type": "markdown",
   "id": "c7a86fed",
   "metadata": {},
   "source": [
    "### 8. Creating an Array with np.full()"
   ]
  },
  {
   "cell_type": "code",
   "execution_count": 21,
   "id": "c4e624e2",
   "metadata": {},
   "outputs": [
    {
     "name": "stdout",
     "output_type": "stream",
     "text": [
      "Array with np.full:\n",
      " [[7 7]\n",
      " [7 7]]\n"
     ]
    }
   ],
   "source": [
    "filled_arr = np.full((2, 2), 7)  # 2x2 matrix filled with 7\n",
    "print(\"Array with np.full:\\n\", filled_arr)"
   ]
  },
  {
   "cell_type": "markdown",
   "id": "71ec2ccd",
   "metadata": {},
   "source": [
    "### 9. Creating a Diagonal Matrix (np.diag())"
   ]
  },
  {
   "cell_type": "code",
   "execution_count": 22,
   "id": "5ae4f896",
   "metadata": {},
   "outputs": [
    {
     "name": "stdout",
     "output_type": "stream",
     "text": [
      "Diagonal Matrix:\n",
      " [[10  0  0]\n",
      " [ 0 20  0]\n",
      " [ 0  0 30]]\n"
     ]
    }
   ],
   "source": [
    "diag_arr = np.diag([10, 20, 30])  # Creates a diagonal matrix\n",
    "print(\"Diagonal Matrix:\\n\", diag_arr)"
   ]
  },
  {
   "cell_type": "markdown",
   "id": "245cae29",
   "metadata": {},
   "source": [
    "# NUMPY ARRAY ATTRIBUTES"
   ]
  },
  {
   "cell_type": "markdown",
   "id": "575e7fd3",
   "metadata": {},
   "source": [
    "## 1. ndarray.shape (Shape of an Array) :\n",
    "Returns a tuple representing the dimensions of the array."
   ]
  },
  {
   "cell_type": "code",
   "execution_count": 24,
   "id": "8cecf121",
   "metadata": {},
   "outputs": [
    {
     "name": "stdout",
     "output_type": "stream",
     "text": [
      "Array:\n",
      " [[1 2 3]\n",
      " [4 5 6]]\n",
      "Shape of array: (2, 3)\n"
     ]
    }
   ],
   "source": [
    "# Returns a tuple representing the dimensions of the array.\n",
    "\n",
    "arr = np.array([[1, 2, 3], [4, 5, 6]])\n",
    "print(\"Array:\\n\", arr)\n",
    "print(\"Shape of array:\", arr.shape)"
   ]
  },
  {
   "cell_type": "markdown",
   "id": "9f474b5e",
   "metadata": {},
   "source": [
    "## 2. ndarray.ndim (Number of Dimensions)\n",
    "\n",
    "Returns the number of dimensions (axes) of the array."
   ]
  },
  {
   "cell_type": "code",
   "execution_count": 25,
   "id": "5d8316a3",
   "metadata": {},
   "outputs": [
    {
     "name": "stdout",
     "output_type": "stream",
     "text": [
      "1D Array dimensions: 1\n",
      "2D Array dimensions: 2\n",
      "3D Array dimensions: 3\n"
     ]
    }
   ],
   "source": [
    "# Returns the number of dimensions (axes) of the array.\n",
    "\n",
    "arr_1d = np.array([1, 2, 3])\n",
    "arr_2d = np.array([[1, 2, 3], [4, 5, 6]])\n",
    "arr_3d = np.array([[[1, 2], [3, 4]], [[5, 6], [7, 8]]])\n",
    "\n",
    "print(\"1D Array dimensions:\", arr_1d.ndim)\n",
    "print(\"2D Array dimensions:\", arr_2d.ndim)\n",
    "print(\"3D Array dimensions:\", arr_3d.ndim)"
   ]
  },
  {
   "cell_type": "markdown",
   "id": "2c094f4f",
   "metadata": {},
   "source": [
    "## 3. ndarray.size (Total Number of Elements)\n",
    "\n",
    "Returns the total number of elements in an array."
   ]
  },
  {
   "cell_type": "code",
   "execution_count": 26,
   "id": "efff8638",
   "metadata": {},
   "outputs": [
    {
     "name": "stdout",
     "output_type": "stream",
     "text": [
      "Total elements in array1: 5\n",
      "Total elements in array2: 6\n"
     ]
    }
   ],
   "source": [
    "# Returns the total number of elements in an array.\n",
    "\n",
    "arr1 = np.array([1, 2, 3, 4, 5])\n",
    "arr2 = np.array([[1, 2, 3], [4, 5, 6]])\n",
    "print(\"Total elements in array1:\", arr1.size)\n",
    "print(\"Total elements in array2:\", arr2.size)"
   ]
  },
  {
   "cell_type": "markdown",
   "id": "5f502b9c",
   "metadata": {},
   "source": [
    "## 4. ndarray.dtype (Data Type of Elements)"
   ]
  },
  {
   "cell_type": "code",
   "execution_count": 27,
   "id": "e83c9ca0",
   "metadata": {},
   "outputs": [
    {
     "name": "stdout",
     "output_type": "stream",
     "text": [
      "Data type of integer array: int64\n",
      "Data type of float array: float64\n"
     ]
    }
   ],
   "source": [
    "arr = np.array([1, 2, 3])\n",
    "arr_float = np.array([1.2, 3.4, 5.6])\n",
    "\n",
    "print(\"Data type of integer array:\", arr.dtype)\n",
    "print(\"Data type of float array:\", arr_float.dtype)"
   ]
  },
  {
   "cell_type": "markdown",
   "id": "aec7fe8b",
   "metadata": {},
   "source": [
    "## 5. ndarray.itemsize (Size of Each Element in Bytes)"
   ]
  },
  {
   "cell_type": "code",
   "execution_count": 29,
   "id": "a00dc981",
   "metadata": {},
   "outputs": [
    {
     "name": "stdout",
     "output_type": "stream",
     "text": [
      "Size of each element: 4\n",
      "Size of each element: 8\n"
     ]
    }
   ],
   "source": [
    "# Returns the memory size (in bytes) of each element.\n",
    "\n",
    "arr = np.array([1, 2, 3], dtype=np.int32)\n",
    "arr2 = np.array([1, 2, 3], dtype=np.int64)\n",
    "print(\"Size of each element:\", arr.itemsize)\n",
    "print(\"Size of each element:\", arr2.itemsize)"
   ]
  },
  {
   "cell_type": "markdown",
   "id": "c13adece",
   "metadata": {},
   "source": [
    "## 6. ndarray.nbytes (Total Memory Consumption)"
   ]
  },
  {
   "cell_type": "code",
   "execution_count": 30,
   "id": "d7f6eb11",
   "metadata": {},
   "outputs": [
    {
     "name": "stdout",
     "output_type": "stream",
     "text": [
      "Total memory used by array: 20\n"
     ]
    }
   ],
   "source": [
    "# Returns the total memory consumed by the array.\n",
    "\n",
    "arr = np.array([1, 2, 3, 4, 5], dtype=np.int32)\n",
    "print(\"Total memory used by array:\", arr.nbytes)\n",
    "\n",
    "# 👉 nbytes = itemsize × size of the array."
   ]
  },
  {
   "cell_type": "markdown",
   "id": "2ddbb2e7",
   "metadata": {},
   "source": [
    "# NUMPY ARRAY FUNCTIONS"
   ]
  },
  {
   "cell_type": "markdown",
   "id": "9e75752a",
   "metadata": {},
   "source": [
    "### 1. arr.reshape( ) - Changes the shape without changing data."
   ]
  },
  {
   "cell_type": "code",
   "execution_count": 31,
   "id": "432b6ee9",
   "metadata": {},
   "outputs": [
    {
     "name": "stdout",
     "output_type": "stream",
     "text": [
      "Original array: [1 2 3 4 5 6]\n",
      "Reshaped array:\n",
      " [[1 2 3]\n",
      " [4 5 6]]\n",
      "Reshaped array2:\n",
      " [[1 2]\n",
      " [3 4]\n",
      " [5 6]]\n",
      "Reshaped array3:\n",
      " [[1 2]\n",
      " [3 4]\n",
      " [5 6]]\n"
     ]
    }
   ],
   "source": [
    "# np.reshape() - Changes the shape without changing data.\n",
    "\n",
    "arr = np.array([1, 2, 3, 4, 5, 6])  # 6 elements are there in total\n",
    "reshaped_arr = arr.reshape(2, 3)  # 2 rows, 3 columns\n",
    "reshaped_arr2 = arr.reshape(3, -1)  # We know the number of rows(3) but we don't know the number of columns, then we can use -1\n",
    "reshaped_arr3 = arr.reshape(-1, 2)  # We know the number of columns (2) but we don't know the number of rows, then we can use -1\n",
    "\n",
    "print(\"Original array:\", arr)\n",
    "print(\"Reshaped array:\\n\", reshaped_arr)\n",
    "print(\"Reshaped array2:\\n\", reshaped_arr2)\n",
    "print(\"Reshaped array3:\\n\", reshaped_arr3)\n",
    "\n",
    "# 👉 Reshape must be compatible with the number of elements."
   ]
  },
  {
   "cell_type": "markdown",
   "id": "a80d1a26",
   "metadata": {},
   "source": [
    "### 2. arr.ravel( ) - Converts a multi-dimensional array into 1D."
   ]
  },
  {
   "cell_type": "code",
   "execution_count": 32,
   "id": "964b0d8d",
   "metadata": {},
   "outputs": [
    {
     "name": "stdout",
     "output_type": "stream",
     "text": [
      "Flattened array: [1 2 3 4 5 6]\n"
     ]
    }
   ],
   "source": [
    "# np.ravel() - Converts a multi-dimensional array into 1D.\n",
    "\n",
    "arr = np.array([[1, 2, 3], [4, 5, 6]])\n",
    "flattened = arr.ravel()\n",
    "\n",
    "print(\"Flattened array:\", flattened)"
   ]
  },
  {
   "cell_type": "markdown",
   "id": "ab953a77",
   "metadata": {},
   "source": [
    "### 3. arr.T or arr.transpose( ) - Flips the rows and columns."
   ]
  },
  {
   "cell_type": "code",
   "execution_count": 33,
   "id": "1e1a2e3f",
   "metadata": {},
   "outputs": [
    {
     "name": "stdout",
     "output_type": "stream",
     "text": [
      "Original array:\n",
      " [[1 2 3]\n",
      " [4 5 6]]\n",
      "Transposed array:\n",
      " [[1 4]\n",
      " [2 5]\n",
      " [3 6]]\n"
     ]
    }
   ],
   "source": [
    "# np.transpose() - Flips the rows and columns.\n",
    "\n",
    "arr = np.array([[1, 2, 3], [4, 5, 6]])\n",
    "transposed = arr.T\n",
    "\n",
    "# 👉 T is a shortcut for transpose().\n",
    "\n",
    "print(\"Original array:\\n\", arr)\n",
    "print(\"Transposed array:\\n\", transposed)"
   ]
  },
  {
   "cell_type": "markdown",
   "id": "eacad0f7",
   "metadata": {},
   "source": [
    "### 4. np.concatenate((arr1,arr2)) - Joins two or more arrays"
   ]
  },
  {
   "cell_type": "code",
   "execution_count": 41,
   "id": "bf776db1",
   "metadata": {},
   "outputs": [
    {
     "name": "stdout",
     "output_type": "stream",
     "text": [
      "Concatenated array: [1 2 3 4 5 6]\n"
     ]
    }
   ],
   "source": [
    "#  np.concatenate() - Joins two or more arrays\n",
    "\n",
    "arr1 = np.array([1, 2, 3])\n",
    "arr2 = np.array([4, 5, 6])\n",
    "concat_arr = np.concatenate((arr1, arr2))\n",
    "\n",
    "print(\"Concatenated array:\", concat_arr)\n",
    "\n"
   ]
  },
  {
   "cell_type": "markdown",
   "id": "ab069122",
   "metadata": {},
   "source": [
    "### 5. np.split(arr,n) - Splits an array into multiple sub-arrays."
   ]
  },
  {
   "cell_type": "code",
   "execution_count": 39,
   "id": "9a76acd7",
   "metadata": {},
   "outputs": [
    {
     "name": "stdout",
     "output_type": "stream",
     "text": [
      "Split arrays: [array([1, 2]), array([3, 4]), array([5, 6])]\n"
     ]
    }
   ],
   "source": [
    "# np.split() - Splits an array into multiple sub-arrays.\n",
    "# 👉 Must be evenly divisible.\n",
    "\n",
    "arr = np.array([1, 2, 3, 4, 5, 6])\n",
    "split_arr = np.split(arr, 3)\n",
    "\n",
    "print(\"Split arrays:\", split_arr)"
   ]
  },
  {
   "cell_type": "markdown",
   "id": "03aaa500",
   "metadata": {},
   "source": [
    "### 6. np.unique(arr) - Finds unique elements in an array."
   ]
  },
  {
   "cell_type": "code",
   "execution_count": 40,
   "id": "9352adb5",
   "metadata": {},
   "outputs": [
    {
     "name": "stdout",
     "output_type": "stream",
     "text": [
      "Unique values: [1 2 3 4 5]\n"
     ]
    }
   ],
   "source": [
    "# np.unique - Finds unique elements in an array.\n",
    "\n",
    "arr = np.array([1, 2, 2, 3, 4, 4, 5])\n",
    "unique_values = np.unique(arr)\n",
    "\n",
    "print(\"Unique values:\", unique_values)"
   ]
  },
  {
   "cell_type": "markdown",
   "id": "ced42e7a",
   "metadata": {},
   "source": [
    "# Changing Data type of a numpy array"
   ]
  },
  {
   "cell_type": "code",
   "execution_count": 42,
   "id": "13cc8085",
   "metadata": {},
   "outputs": [
    {
     "name": "stdout",
     "output_type": "stream",
     "text": [
      "Array: [1. 2. 3. 4.]\n",
      "Data type: float64\n"
     ]
    }
   ],
   "source": [
    "# 1. Using dtype Parameter (While Creating an Array)\n",
    "\n",
    "arr_int = np.array([1, 2, 3, 4], dtype=np.float64)  # Creating array with float dtype\n",
    "print(\"Array:\", arr_int)\n",
    "print(\"Data type:\", arr_int.dtype)"
   ]
  },
  {
   "cell_type": "code",
   "execution_count": 43,
   "id": "df7b66d9",
   "metadata": {},
   "outputs": [
    {
     "name": "stdout",
     "output_type": "stream",
     "text": [
      "Original array: [1.2 3.5 5.8 7.9]\n",
      "Converted to int: [1 3 5 7]\n",
      "Original Data Type: float64\n",
      "New Data Type: int32\n"
     ]
    }
   ],
   "source": [
    "# 2. Using .astype() Method (Converting an Existing Array)\n",
    "\n",
    "# The .astype() method converts an array from one data type to another without modifying the original array.\n",
    "\n",
    "arr = np.array([1.2, 3.5, 5.8, 7.9])  # Float array\n",
    "arr_int = arr.astype(np.int32)  # Converting to integer\n",
    "\n",
    "print(\"Original array:\", arr)\n",
    "print(\"Converted to int:\", arr_int)\n",
    "print(\"Original Data Type:\", arr.dtype)\n",
    "print(\"New Data Type:\", arr_int.dtype)\n",
    "\n",
    "# 👉 Note: .astype() truncates decimal values instead of rounding them."
   ]
  },
  {
   "cell_type": "markdown",
   "id": "9c4f86b5",
   "metadata": {},
   "source": [
    "# NUMPY OPERATIONS"
   ]
  },
  {
   "cell_type": "markdown",
   "id": "8abce008",
   "metadata": {},
   "source": [
    "## Scalar Operations"
   ]
  },
  {
   "cell_type": "code",
   "execution_count": 44,
   "id": "45d9a9a2",
   "metadata": {},
   "outputs": [
    {
     "name": "stdout",
     "output_type": "stream",
     "text": [
      "Addition result:  [20 30 40 50]\n",
      "Subtraction result:  [ 5 15 25 35]\n",
      "Multiplication result:  [ 30  60  90 120]\n",
      "Division result:  [ 5. 10. 15. 20.]\n",
      "Exponent result:  [ 100  400  900 1600]\n",
      "Remainder result:  [2 0 2 0]\n"
     ]
    }
   ],
   "source": [
    "arr = np.array([10, 20, 30, 40])\n",
    "\n",
    "# Scalar Addition\n",
    "add_result = arr + 10  # Adds 10 to each element\n",
    "\n",
    "# Scalar Subtraction\n",
    "sub_result = arr - 5  # Subtracts 5 from each element\n",
    "\n",
    "# Scalar Multiplication\n",
    "mul_result = arr * 3  # Multiplies each element by 3\n",
    "\n",
    "# Scalar Division\n",
    "div_result = arr / 2  # Divides each element by 2\n",
    "\n",
    "# Scalar Exponentiation\n",
    "exp_result = arr**2  # Squares each element\n",
    "\n",
    "# Scalar Modulus\n",
    "mod_result = arr % 4  # Computes remainder when divided by 4\n",
    "\n",
    "print(\"Addition result: \", add_result)\n",
    "print(\"Subtraction result: \", sub_result)\n",
    "print(\"Multiplication result: \", mul_result)\n",
    "print(\"Division result: \", div_result)\n",
    "print(\"Exponent result: \", exp_result)\n",
    "print(\"Remainder result: \", mod_result)"
   ]
  },
  {
   "cell_type": "markdown",
   "id": "1d3739f1",
   "metadata": {},
   "source": [
    "## Vector Operations"
   ]
  },
  {
   "cell_type": "code",
   "execution_count": 45,
   "id": "eefc1c8a",
   "metadata": {},
   "outputs": [
    {
     "name": "stdout",
     "output_type": "stream",
     "text": [
      "Addition result:  [13 22 31]\n",
      "Subtraction result:  [ 7 18 29]\n",
      "Multiplication result:  [30 40 30]\n",
      "Division result:  [ 3.33333333 10.         30.        ]\n",
      "Exponent result:  [1000  400   30]\n",
      "Remainder result:  [1 0 0]\n"
     ]
    }
   ],
   "source": [
    "# Operations between two NumPy arrays are performed element-wise, meaning corresponding elements are operated on.\n",
    "\n",
    "arr1 = np.array([10, 20, 30])\n",
    "arr2 = np.array([3, 2, 1])\n",
    "\n",
    "# Vector Addition\n",
    "add_result = arr1 + arr2\n",
    "\n",
    "# Vector Subtraction\n",
    "sub_result = arr1 - arr2\n",
    "\n",
    "# Vector Multiplication\n",
    "mul_result = arr1 * arr2\n",
    "\n",
    "# Vector Division\n",
    "div_result = arr1 / arr2\n",
    "\n",
    "# Vector Exponentiation\n",
    "exp_result = arr1**arr2\n",
    "\n",
    "# Vector Modulus\n",
    "mod_result = arr1 % arr2\n",
    "\n",
    "print(\"Addition result: \", add_result)\n",
    "print(\"Subtraction result: \", sub_result)\n",
    "print(\"Multiplication result: \", mul_result)\n",
    "print(\"Division result: \", div_result)\n",
    "print(\"Exponent result: \", exp_result)\n",
    "print(\"Remainder result: \", mod_result)"
   ]
  },
  {
   "cell_type": "markdown",
   "id": "7a5420f9",
   "metadata": {},
   "source": [
    "# Universal Functions\n",
    "\n",
    "NumPy provides optimized mathematical functions (called ufuncs) that operate element-wise on arrays."
   ]
  },
  {
   "cell_type": "code",
   "execution_count": 46,
   "id": "185d1bc5",
   "metadata": {},
   "outputs": [
    {
     "name": "stdout",
     "output_type": "stream",
     "text": [
      "[2. 3. 4. 5.]\n"
     ]
    }
   ],
   "source": [
    "# np.sqrt() – Square Root\n",
    "\n",
    "arr = np.array([4, 9, 16, 25])\n",
    "result = np.sqrt(arr)\n",
    "\n",
    "print(result)"
   ]
  },
  {
   "cell_type": "code",
   "execution_count": 47,
   "id": "d845a520",
   "metadata": {},
   "outputs": [
    {
     "name": "stdout",
     "output_type": "stream",
     "text": [
      "[ 2.71828183  7.3890561  20.08553692]\n"
     ]
    }
   ],
   "source": [
    "# np.exp() – Exponential Function\n",
    "\n",
    "arr = np.array([1, 2, 3])\n",
    "result = np.exp(arr)\n",
    "\n",
    "print(result)"
   ]
  },
  {
   "cell_type": "code",
   "execution_count": 48,
   "id": "b2c0042f",
   "metadata": {},
   "outputs": [
    {
     "name": "stdout",
     "output_type": "stream",
     "text": [
      "[0. 1. 2.]\n"
     ]
    }
   ],
   "source": [
    "#  np.log() – Natural Logarithm\n",
    "arr = np.array([1, np.e, np.e**2])\n",
    "result = np.log(arr)\n",
    "\n",
    "print(result)"
   ]
  },
  {
   "cell_type": "code",
   "execution_count": 49,
   "id": "ed495471",
   "metadata": {},
   "outputs": [
    {
     "name": "stdout",
     "output_type": "stream",
     "text": [
      "[1 2 3 4]\n"
     ]
    }
   ],
   "source": [
    "# np.abs() – Absolute Values\n",
    "arr = np.array([-1, -2, -3, 4])\n",
    "result = np.abs(arr)\n",
    "\n",
    "print(result)"
   ]
  },
  {
   "cell_type": "markdown",
   "id": "d9ddf03b",
   "metadata": {},
   "source": [
    "# Indexing in NumPy"
   ]
  },
  {
   "cell_type": "code",
   "execution_count": 50,
   "id": "aad479f6",
   "metadata": {},
   "outputs": [
    {
     "name": "stdout",
     "output_type": "stream",
     "text": [
      "10\n",
      "30\n",
      "50\n"
     ]
    }
   ],
   "source": [
    "# Indexing in 1D Arrays\n",
    "\n",
    "arr = np.array([10, 20, 30, 40, 50])\n",
    "print(arr[0])  # First element\n",
    "print(arr[2])  # Third element\n",
    "print(arr[-1])  # Last element\n",
    "\n",
    "# Indexing starts from 0.\n",
    "# Negative indexing is supported (-1 refers to the last element)."
   ]
  },
  {
   "cell_type": "code",
   "execution_count": 51,
   "id": "be13a5c6",
   "metadata": {},
   "outputs": [
    {
     "name": "stdout",
     "output_type": "stream",
     "text": [
      "2\n",
      "9\n"
     ]
    }
   ],
   "source": [
    "# Indexing in 2D Arrays\n",
    "arr2D = np.array([[1, 2, 3], [4, 5, 6], [7, 8, 9]])\n",
    "\n",
    "print(arr2D[0, 1])  # Element at row 0, column 1\n",
    "print(arr2D[2, 2])  # Element at row 2, column 2"
   ]
  },
  {
   "cell_type": "code",
   "execution_count": 52,
   "id": "ed19b344",
   "metadata": {},
   "outputs": [
    {
     "name": "stdout",
     "output_type": "stream",
     "text": [
      "[[[ 1  2  3]\n",
      "  [ 4  5  6]]\n",
      "\n",
      " [[ 7  8  9]\n",
      "  [10 11 12]]]\n",
      "----------------\n",
      "9\n"
     ]
    }
   ],
   "source": [
    "# Indexing in 3D Arrays\n",
    "arr3D = np.array([[[1, 2, 3], [4, 5, 6]], [[7, 8, 9], [10, 11, 12]]])\n",
    "\n",
    "print(arr3D)\n",
    "print(\"----------------\")\n",
    "print(arr3D[1, 0, 2])  # Access element at depth 1, row 0, column 2"
   ]
  },
  {
   "cell_type": "markdown",
   "id": "327e9d1c",
   "metadata": {},
   "source": [
    "# Slicing in NumPy\n",
    "\n",
    "Slicing allows extracting a subarray from a NumPy array using the syntax:\n",
    "array[start:stop:step]\n",
    "\n",
    "- start: Starting index (default is 0).\n",
    "- stop: End index (not included).\n",
    "- step: Step size (default is 1)."
   ]
  },
  {
   "cell_type": "code",
   "execution_count": 53,
   "id": "c6d61351",
   "metadata": {},
   "outputs": [
    {
     "name": "stdout",
     "output_type": "stream",
     "text": [
      "[20 30 40 50]\n",
      "[10 20 30 40]\n",
      "[40 50 60 70]\n",
      "[10 30 50 70]\n",
      "[70 60 50 40 30 20 10]\n"
     ]
    }
   ],
   "source": [
    "# Slicing in 1D Arrays\n",
    "\n",
    "arr = np.array([10, 20, 30, 40, 50, 60, 70])\n",
    "\n",
    "print(arr[1:5])  # Elements from index 1 to 4\n",
    "print(arr[:4])  # First 4 elements\n",
    "print(arr[3:])  # From index 3 to end\n",
    "print(arr[::2])  # Every second element\n",
    "print(arr[::-1])  # Reverse the array"
   ]
  },
  {
   "cell_type": "code",
   "execution_count": 54,
   "id": "3d1b68e8",
   "metadata": {},
   "outputs": [
    {
     "name": "stdout",
     "output_type": "stream",
     "text": [
      "[[ 7  8]\n",
      " [11 12]]\n",
      "------------------------\n",
      "[[1 2 3]\n",
      " [5 6 7]]\n",
      "------------------------\n",
      "[ 2  6 10]\n",
      "------------------------\n",
      "[[ 1  3]\n",
      " [ 9 11]]\n"
     ]
    }
   ],
   "source": [
    "#  Slicing in 2D Arrays\n",
    "arr2D = np.array([[1, 2, 3, 4], [5, 6, 7, 8], [9, 10, 11, 12]])\n",
    "\n",
    "print(arr2D[1:, 2:])  # Slice rows from index 1 onward and columns from index 2 onward\n",
    "print(\"------------------------\")\n",
    "print(arr2D[:2, :3])  # First two rows, first three columns\n",
    "print(\"------------------------\")\n",
    "print(arr2D[:, 1])  # All rows, second column\n",
    "print(\"------------------------\")\n",
    "print(arr2D[::2, ::2])  # Every alternate row and column"
   ]
  },
  {
   "cell_type": "code",
   "execution_count": 55,
   "id": "41eff2bf",
   "metadata": {},
   "outputs": [
    {
     "name": "stdout",
     "output_type": "stream",
     "text": [
      "[[ 7  8]\n",
      " [11 12]]\n",
      "------------------------\n",
      "[[1 2 3]\n",
      " [5 6 7]]\n",
      "------------------------\n",
      "[ 2  6 10]\n",
      "------------------------\n",
      "[[ 1  3]\n",
      " [ 9 11]]\n"
     ]
    }
   ],
   "source": [
    "#  Slicing in 2D Arrays\n",
    "arr2D = np.array([[1, 2, 3, 4], [5, 6, 7, 8], [9, 10, 11, 12]])\n",
    "\n",
    "print(arr2D[1:, 2:])  # Slice rows from index 1 onward and columns from index 2 onward\n",
    "print(\"------------------------\")\n",
    "print(arr2D[:2, :3])  # First two rows, first three columns\n",
    "print(\"------------------------\")\n",
    "print(arr2D[:, 1])  # All rows, second column\n",
    "print(\"------------------------\")\n",
    "print(arr2D[::2, ::2])  # Every alternate row and column"
   ]
  },
  {
   "cell_type": "code",
   "execution_count": 56,
   "id": "28cdd4ac",
   "metadata": {},
   "outputs": [
    {
     "name": "stdout",
     "output_type": "stream",
     "text": [
      "[[ 4  5  6]\n",
      " [10 11 12]]\n",
      "[[ 2  5]\n",
      " [ 8 11]]\n"
     ]
    }
   ],
   "source": [
    "# (c) Slicing in 3D Arrays\n",
    "arr3D = np.array([[[1, 2, 3], [4, 5, 6]], [[7, 8, 9], [10, 11, 12]]])\n",
    "\n",
    "print(arr3D[:, 1, :])  # All depths, second row, all columns\n",
    "print(arr3D[:, :, 1])  # All depths, all rows, second column"
   ]
  },
  {
   "cell_type": "markdown",
   "id": "bb2e8976",
   "metadata": {},
   "source": [
    "# Advanced Indexing in NumPy: Boolean Indexing & Fancy Indexing\n",
    "NumPy provides advanced indexing techniques that allow for more flexible and powerful data selection. The two most commonly used advanced indexing techniques are:\n",
    "- Boolean Indexing\n",
    "- Fancy Indexing (Indexing with Arrays of Indices)\n"
   ]
  },
  {
   "cell_type": "markdown",
   "id": "ac2458c7",
   "metadata": {},
   "source": [
    "## Boolean Indexing\n",
    "Boolean indexing allows us to select elements from an array based on a condition."
   ]
  },
  {
   "cell_type": "code",
   "execution_count": 57,
   "id": "78927a5f",
   "metadata": {},
   "outputs": [
    {
     "name": "stdout",
     "output_type": "stream",
     "text": [
      "[False  True  True  True  True]\n",
      "[25 30 45 50]\n"
     ]
    }
   ],
   "source": [
    "arr = np.array([10, 25, 30, 45, 50])\n",
    "mask = arr > 20  # Condition: Select elements greater than 20\n",
    "\n",
    "# mask creates a Boolean array where True corresponds to values satisfying arr > 20.\n",
    "# arr[mask] selects only those values.\n",
    "\n",
    "print(mask)  # Boolean mask\n",
    "print(arr[mask])  # Apply mask to select elements"
   ]
  },
  {
   "cell_type": "code",
   "execution_count": 58,
   "id": "24a7bfbe",
   "metadata": {},
   "outputs": [
    {
     "name": "stdout",
     "output_type": "stream",
     "text": [
      "[2 4 6]\n"
     ]
    }
   ],
   "source": [
    "# Filtering even numbers\n",
    "\n",
    "arr = np.array([1, 2, 3, 4, 5, 6])\n",
    "even_numbers = arr[arr % 2 == 0]  # Select even numbers\n",
    "\n",
    "print(even_numbers)"
   ]
  },
  {
   "cell_type": "code",
   "execution_count": 59,
   "id": "01a1347b",
   "metadata": {},
   "outputs": [
    {
     "name": "stdout",
     "output_type": "stream",
     "text": [
      "[ 10  20 100 100 100]\n"
     ]
    }
   ],
   "source": [
    "# You can also use Boolean indexing to modify elements.\n",
    "\n",
    "arr = np.array([10, 20, 30, 40, 50])\n",
    "arr[arr > 25] = 100  # Replace elements greater than 25 with 100\n",
    "\n",
    "print(arr)"
   ]
  },
  {
   "cell_type": "code",
   "execution_count": 60,
   "id": "2300bae7",
   "metadata": {},
   "outputs": [
    {
     "name": "stdout",
     "output_type": "stream",
     "text": [
      "[15 20 25]\n",
      "[5]\n",
      "[ 5 10 15 20]\n"
     ]
    }
   ],
   "source": [
    "# We can combine conditions using logical operators (&, |, ~).\n",
    "\n",
    "arr = np.array([5, 10, 15, 20, 25, 30])\n",
    "selected = arr[(arr > 10) & (arr < 30)]  # Select elements between 10 and 30\n",
    "selected2 = arr[(arr < 10) | (arr > 30)]  # Select elements less than 10 or greater than 30\n",
    "selected3 = arr[~(arr > 20)]  # Select elements not greater than 20\n",
    "\n",
    "print(selected)\n",
    "print(selected2)\n",
    "print(selected3)"
   ]
  },
  {
   "cell_type": "markdown",
   "id": "3ac26f15",
   "metadata": {},
   "source": [
    "# Fancy Indexing\n",
    "Fancy indexing allows us to select elements using an array of indices."
   ]
  },
  {
   "cell_type": "code",
   "execution_count": 61,
   "id": "80a706f7",
   "metadata": {},
   "outputs": [
    {
     "name": "stdout",
     "output_type": "stream",
     "text": [
      "[10 30 50]\n"
     ]
    }
   ],
   "source": [
    "# Example 1: Selecting Specific Elements\n",
    "\n",
    "arr = np.array([10, 20, 30, 40, 50])\n",
    "indices = [0, 2, 4]  # Indices of elements to select\n",
    "\n",
    "print(arr[indices])  # Selecting elements at index 0, 2, and 4"
   ]
  },
  {
   "cell_type": "code",
   "execution_count": 62,
   "id": "a0f4f332",
   "metadata": {},
   "outputs": [
    {
     "name": "stdout",
     "output_type": "stream",
     "text": [
      "[20 90]\n"
     ]
    }
   ],
   "source": [
    "# Example 2: Selecting Elements from a 2D Array\n",
    "arr2D = np.array([[10, 20, 30], [40, 50, 60], [70, 80, 90]])\n",
    "\n",
    "rows = [0, 2]  # Select rows 0 and 2\n",
    "cols = [1, 2]  # Select columns 1 and 2\n",
    "\n",
    "print(arr2D[rows, cols])  # Fetch elements at (0,1) and (2,2)"
   ]
  },
  {
   "cell_type": "code",
   "execution_count": 63,
   "id": "3ca24f01",
   "metadata": {},
   "outputs": [
    {
     "name": "stdout",
     "output_type": "stream",
     "text": [
      "[100 999 300 888 500]\n"
     ]
    }
   ],
   "source": [
    "# Example 3: Using Fancy Indexing to Modify Values\n",
    "arr = np.array([100, 200, 300, 400, 500])\n",
    "indices = [1, 3]  # Modify elements at index 1 and 3\n",
    "\n",
    "arr[indices] = [999, 888]  # Assign new values\n",
    "print(arr)"
   ]
  },
  {
   "cell_type": "code",
   "execution_count": 65,
   "id": "7ffb4b9f",
   "metadata": {},
   "outputs": [
    {
     "name": "stdout",
     "output_type": "stream",
     "text": [
      "[50 30 10]\n"
     ]
    }
   ],
   "source": [
    "# Example 4: Reordering Elements\n",
    "# Fancy indexing can also be used to reorder elements.\n",
    "arr = np.array([10, 20, 30, 40, 50])\n",
    "order = np.array([4, 2, 0])  # Rearrange indices\n",
    "\n",
    "print(arr[order])"
   ]
  },
  {
   "cell_type": "markdown",
   "id": "6b47792f",
   "metadata": {},
   "source": [
    "# Reshaping"
   ]
  },
  {
   "cell_type": "code",
   "execution_count": 66,
   "id": "8008ae97",
   "metadata": {},
   "outputs": [
    {
     "name": "stdout",
     "output_type": "stream",
     "text": [
      "[[1 2 3]\n",
      " [4 5 6]]\n"
     ]
    }
   ],
   "source": [
    "# The .reshape() function changes the structure of an array without modifying the original data.\n",
    "\n",
    "\n",
    "arr = np.array([1, 2, 3, 4, 5, 6])\n",
    "reshaped_arr = arr.reshape(2, 3)  # Convert to 2 rows, 3 columns\n",
    "\n",
    "print(reshaped_arr)"
   ]
  },
  {
   "cell_type": "code",
   "execution_count": 67,
   "id": "f9130826",
   "metadata": {},
   "outputs": [
    {
     "name": "stdout",
     "output_type": "stream",
     "text": [
      "[[1 2]\n",
      " [3 4]\n",
      " [5 6]\n",
      " [7 8]]\n"
     ]
    }
   ],
   "source": [
    "# Using -1 allows NumPy to automatically calculate one dimension based on the number of elements.\n",
    "\n",
    "arr = np.array([1, 2, 3, 4, 5, 6, 7, 8])\n",
    "reshaped_arr = arr.reshape(4, -1)  # Let NumPy determine columns\n",
    "\n",
    "print(reshaped_arr)"
   ]
  },
  {
   "cell_type": "code",
   "execution_count": 68,
   "id": "27bc3880",
   "metadata": {},
   "outputs": [
    {
     "name": "stdout",
     "output_type": "stream",
     "text": [
      "[1 2 3 4 5 6]\n"
     ]
    }
   ],
   "source": [
    "#  Flattening an Array - Flattening converts a multi-dimensional array into a 1D array.\n",
    "arr = np.array([[1, 2, 3], [4, 5, 6]])\n",
    "\n",
    "flattened_arr = arr.flatten()  # Converts to 1D array\n",
    "print(flattened_arr)"
   ]
  },
  {
   "cell_type": "markdown",
   "id": "2f422613",
   "metadata": {},
   "source": [
    "# Stacking\n",
    "\n",
    "Stacking means joining multiple arrays along different axes."
   ]
  },
  {
   "cell_type": "code",
   "execution_count": 69,
   "id": "67edb888",
   "metadata": {},
   "outputs": [
    {
     "name": "stdout",
     "output_type": "stream",
     "text": [
      "Original arr1: \n",
      " [[1 2]\n",
      " [3 4]]\n",
      "-------------\n",
      "Original arr2: \n",
      " [[5 6]\n",
      " [7 8]]\n",
      "-------------\n",
      "Horizontal Stacking: \n",
      " [[1 2 5 6]\n",
      " [3 4 7 8]]\n",
      "-------------\n",
      "Vertical Stacking: \n",
      " [[1 2]\n",
      " [3 4]\n",
      " [5 6]\n",
      " [7 8]]\n",
      "-------------\n",
      "Depth Stacking: \n",
      " [[[1 5]\n",
      "  [2 6]]\n",
      "\n",
      " [[3 7]\n",
      "  [4 8]]]\n"
     ]
    }
   ],
   "source": [
    "arr1 = np.array([[1, 2], [3, 4]])\n",
    "arr2 = np.array([[5, 6], [7, 8]])\n",
    "\n",
    "h_stacked = np.hstack((arr1, arr2))  # Horizontal stacking\n",
    "v_stacked = np.vstack((arr1, arr2))  # Vertical Stacking\n",
    "d_stacked = np.dstack((arr1, arr2))  # Depth Stacking\n",
    "\n",
    "print(\"Original arr1: \\n\", arr1)\n",
    "print(\"-------------\")\n",
    "print(\"Original arr2: \\n\", arr2)\n",
    "print(\"-------------\")\n",
    "\n",
    "\n",
    "print(\"Horizontal Stacking: \\n\", h_stacked)\n",
    "print(\"-------------\")\n",
    "print(\"Vertical Stacking: \\n\", v_stacked)\n",
    "print(\"-------------\")\n",
    "print(\"Depth Stacking: \\n\", d_stacked)"
   ]
  },
  {
   "cell_type": "markdown",
   "id": "264fc843",
   "metadata": {},
   "source": [
    "# Splitting\n",
    "\n",
    "Splitting is the opposite of stacking, dividing arrays into smaller sub-arrays."
   ]
  },
  {
   "cell_type": "code",
   "execution_count": 70,
   "id": "819dbe97",
   "metadata": {},
   "outputs": [
    {
     "name": "stdout",
     "output_type": "stream",
     "text": [
      "[array([1, 2]), array([3, 4]), array([5, 6])]\n"
     ]
    }
   ],
   "source": [
    "# Splitting 1D Arrays (split)\n",
    "\n",
    "arr = np.array([1, 2, 3, 4, 5, 6])\n",
    "split_arr = np.split(arr, 3)  # Split into 3 parts\n",
    "\n",
    "print(split_arr)"
   ]
  },
  {
   "cell_type": "code",
   "execution_count": 71,
   "id": "1a9930f0",
   "metadata": {},
   "outputs": [
    {
     "name": "stdout",
     "output_type": "stream",
     "text": [
      "[array([[1, 2, 3]]), array([[4, 5, 6]]), array([[7, 8, 9]])]\n"
     ]
    }
   ],
   "source": [
    "# Vertical Split (vsplit) -  Splits along rows.\n",
    "\n",
    "arr2D = np.array([[1, 2, 3], [4, 5, 6], [7, 8, 9]])\n",
    "v_split = np.vsplit(arr2D, 3)  # Split into 3 row-wise sub-arrays\n",
    "\n",
    "print(v_split)"
   ]
  },
  {
   "cell_type": "code",
   "execution_count": 72,
   "id": "0299aae1",
   "metadata": {},
   "outputs": [
    {
     "name": "stdout",
     "output_type": "stream",
     "text": [
      "[array([[1],\n",
      "       [4],\n",
      "       [7]]), array([[2],\n",
      "       [5],\n",
      "       [8]]), array([[3],\n",
      "       [6],\n",
      "       [9]])]\n"
     ]
    }
   ],
   "source": [
    "# Horizontal Split (hsplit) -  Splits along columns.\n",
    "\n",
    "arr2D = np.array([[1, 2, 3], [4, 5, 6], [7, 8, 9]])\n",
    "h_split = np.hsplit(arr2D, 3)  # Split into 3 column-wise sub-arrays\n",
    "\n",
    "print(h_split)"
   ]
  },
  {
   "cell_type": "markdown",
   "id": "8d673439",
   "metadata": {},
   "source": [
    "# Broadcasting and Vectorized Operations in NumPy\n",
    "\n",
    "###  What is Broadcasting?\n",
    "Broadcasting is a set of rules that allow NumPy to perform operations on arrays of different shapes by automatically expanding the smaller array to match the larger array’s shape. Broadcasting enables efficient computation, reducing memory usage and increasing speed by eliminating the need for explicit loops.\n",
    "\n",
    "### Broadcasting Rules:\n",
    "\n",
    "1. Make the two arrays have the same number of dimensions.\n",
    "If the numbers of dimensions of the two arrays are different, add new dimensions with size 1 to the head of the array with the smaller dimension.\n",
    "2. Make each dimension of the two arrays the same size.\n",
    "- If the sizes of each dimension of the two arrays do not match, dimensions with size 1 are stretched to the size of the other array.\n",
    "\n",
    "- If there is a dimension whose size is not 1 in either of the two arrays, it cannot be broadcasted, and an error is raised.\n"
   ]
  },
  {
   "cell_type": "markdown",
   "id": "f717bfd8",
   "metadata": {},
   "source": [
    "###Example 1 :\n",
    "Let the 2 arrays sizes be (3,2) and (3,)\n",
    "Add 1 to the head of the array with a smaller dimension. So, (3,) will become (1,3)\n",
    "Now (1,3) is stretched from 1 to 3 to form (3,3). Remember we can only stretch 1 not other numbers\n",
    "\n",
    "###Example 2 :\n",
    "Let the 2 arrays sizes be (4,3) and (3,)\n",
    "Add 1 to the head of the array with a smaller dimension. So, (3,) will become (1,3)\n",
    "Now (1,3) is stretched from 1 to 4 to form (4,3). Remember we can only stretch 1 not other numbers\n",
    "\n",
    "\n",
    "###Example 3 :\n",
    "Let the 2 arrays sizes be (3,4) and (3,)\n",
    "Add 1 to the head of the array with a smaller dimension. So, (3,) will become (1,3)\n",
    "Now (1,3) is stretched from 1 to 3 to form (3,3). Remember we can only stretch 1 not other numbers\n",
    "Now the array sizes are different. One is (3,4) and the newly stretched one is (3,3).\n",
    "So, broadcasting will not be possible here\n",
    "\n",
    "\n",
    "###Example 4 :\n",
    "Let the 2 arrays sizes be (3,1) and (1,3).\n",
    "(1,3) can be broadcasted to (3,3) by stretching 1 to 3.\n",
    "Similarly (3,1) can be broadcasted to (3,3) by stretching 1 to 3.\n"
   ]
  },
  {
   "cell_type": "code",
   "execution_count": 73,
   "id": "fe2aa22d",
   "metadata": {},
   "outputs": [
    {
     "name": "stdout",
     "output_type": "stream",
     "text": [
      "[11 12 13 14]\n"
     ]
    }
   ],
   "source": [
    "# Example 1: Adding a Scalar to an Array\n",
    "arr = np.array([1, 2, 3, 4])\n",
    "result = arr + 10  # Broadcasting: Add 10 to each element\n",
    "\n",
    "print(result)"
   ]
  },
  {
   "cell_type": "code",
   "execution_count": 76,
   "id": "8a322b39",
   "metadata": {},
   "outputs": [
    {
     "name": "stdout",
     "output_type": "stream",
     "text": [
      "[[1 2 3]\n",
      " [4 5 6]]\n",
      "[1 2 3]\n",
      "[[2 4 6]\n",
      " [5 7 9]]\n"
     ]
    }
   ],
   "source": [
    "# Example 2: Broadcasting a 1D Array to a 2D Array\n",
    "arr2D = np.array([[1, 2, 3], [4, 5, 6]])\n",
    "arr1D = np.array([1, 2, 3])\n",
    "\n",
    "print(arr2D)\n",
    "print(arr1D)\n",
    "result = arr2D + arr1D  # Broadcasting arr1D across arr2D\n",
    "print(result)"
   ]
  },
  {
   "cell_type": "code",
   "execution_count": 77,
   "id": "0a3cb58d",
   "metadata": {},
   "outputs": [
    {
     "name": "stdout",
     "output_type": "stream",
     "text": [
      "[[[11 22]\n",
      "  [13 24]]\n",
      "\n",
      " [[15 26]\n",
      "  [17 28]]]\n"
     ]
    }
   ],
   "source": [
    "# Example 3: Broadcasting in Multi-Dimensional Arrays\n",
    "arr3D = np.array([[[1, 2], [3, 4]], [[5, 6], [7, 8]]])\n",
    "arr1D = np.array([10, 20])\n",
    "\n",
    "result = arr3D + arr1D  # Broadcasting arr1D across arr3D\n",
    "print(result)"
   ]
  },
  {
   "cell_type": "markdown",
   "id": "9da58d75",
   "metadata": {},
   "source": [
    "#  Working with Mathematical Formulae in NumPy\n",
    "Mathematical Functions in NumPy.\n",
    "NumPy supports a wide range of mathematical operations directly on arrays, including trigonometric functions, exponential functions, logarithmic operations, and more. These operations are vectorized, meaning they apply to each element of the array without the need for explicit loops."
   ]
  },
  {
   "cell_type": "markdown",
   "id": "263b73d8",
   "metadata": {},
   "source": [
    "# Common Mathematical Functions in NumPy:\n",
    "- np.sin(), np.cos(), np.tan() — Trigonometric functions.\n",
    "- np.exp(), np.log(), np.log10() — Exponential and logarithmic functions.\n",
    "- np.sqrt() — Square root.\n",
    "- np.power() — Element-wise power.\n",
    "- np.abs() — Absolute value.\n",
    "- np.sum(), np.prod() — Sum and product of elements.\n",
    "- np.mean(), np.median(), np.std() — Statistical functions."
   ]
  },
  {
   "cell_type": "code",
   "execution_count": 79,
   "id": "bda1c9ad",
   "metadata": {},
   "outputs": [
    {
     "name": "stdout",
     "output_type": "stream",
     "text": [
      "Sine values: [0.00000000e+00 7.07106781e-01 1.00000000e+00 1.22464680e-16]\n",
      "Cosine values: [ 1.00000000e+00  7.07106781e-01  6.12323400e-17 -1.00000000e+00]\n"
     ]
    }
   ],
   "source": [
    "# Example 1: Trigonometric Functions\n",
    "\n",
    "# Array of angles (in radians)\n",
    "angles = np.array([0, np.pi/4, np.pi/2, np.pi])\n",
    "\n",
    "# Applying trigonometric functions\n",
    "sin_vals = np.sin(angles)\n",
    "cos_vals = np.cos(angles)\n",
    "\n",
    "print(\"Sine values:\", sin_vals)\n",
    "print(\"Cosine values:\", cos_vals)"
   ]
  },
  {
   "cell_type": "code",
   "execution_count": 80,
   "id": "372584e4",
   "metadata": {},
   "outputs": [
    {
     "name": "stdout",
     "output_type": "stream",
     "text": [
      "Exponential values: [ 2.71828183  7.3890561  20.08553692 54.59815003]\n",
      "Logarithmic values: [0.         0.69314718 1.09861229 1.38629436]\n"
     ]
    }
   ],
   "source": [
    "# Example 2: Exponential and Logarithmic Functions\n",
    "arr = np.array([1, 2, 3, 4])\n",
    "\n",
    "# Applying exponential and logarithmic functions\n",
    "exp_vals = np.exp(arr)\n",
    "log_vals = np.log(arr)\n",
    "\n",
    "print(\"Exponential values:\", exp_vals)\n",
    "print(\"Logarithmic values:\", log_vals)"
   ]
  },
  {
   "cell_type": "code",
   "execution_count": 81,
   "id": "7a7ca2a7",
   "metadata": {},
   "outputs": [
    {
     "name": "stdout",
     "output_type": "stream",
     "text": [
      "Squared values: [ 1  4  9 16]\n",
      "Absolute values: [1 2 3 4]\n"
     ]
    }
   ],
   "source": [
    "# Example 3: Power and Absolute Functions\n",
    "arr = np.array([1, -2, 3, -4])\n",
    "\n",
    "# Applying power and absolute functions\n",
    "squared_vals = np.power(arr, 2)\n",
    "abs_vals = np.abs(arr)\n",
    "\n",
    "print(\"Squared values:\", squared_vals)\n",
    "print(\"Absolute values:\", abs_vals)"
   ]
  },
  {
   "cell_type": "code",
   "execution_count": 82,
   "id": "8f6b18a8",
   "metadata": {},
   "outputs": [
    {
     "name": "stdout",
     "output_type": "stream",
     "text": [
      "Result: [4.12310563 5.38516481 6.70820393]\n"
     ]
    }
   ],
   "source": [
    "# Example 4: Applying Mathematical Formulae on Arrays\n",
    "\n",
    "arr1 = np.array([1, 2, 3])\n",
    "arr2 = np.array([4, 5, 6])\n",
    "\n",
    "# Applying a mathematical formula: (arr1^2 + arr2^2)\n",
    "result = np.sqrt(arr1**2 + arr2**2)\n",
    "\n",
    "print(\"Result:\", result)"
   ]
  },
  {
   "cell_type": "code",
   "execution_count": 83,
   "id": "5870d6f4",
   "metadata": {},
   "outputs": [
    {
     "name": "stdout",
     "output_type": "stream",
     "text": [
      "Mean is : 49.5\n",
      "Median is : 49.5\n",
      "Standard Deviation is : 28.86607004772212\n",
      "Variance is : 833.25\n"
     ]
    }
   ],
   "source": [
    "# Find mean, median and standard deviation\n",
    "\n",
    "arr = np.arange(100)\n",
    "\n",
    "print(\"Mean is :\", np.mean(arr))\n",
    "print(\"Median is :\", np.median(arr))\n",
    "print(\"Standard Deviation is :\", np.std(arr))\n",
    "print(\"Variance is :\", np.var(arr))"
   ]
  },
  {
   "cell_type": "markdown",
   "id": "83de6cb6",
   "metadata": {},
   "source": [
    "# Difference Between axis=0 and axis=1 in NumPy\n",
    "\n",
    "## In NumPy, the axis parameter determines the direction of operations like sum(), mean(), all(), etc.\n",
    "\n",
    " - axis=0 → Operates along columns (vertical direction)\n",
    " - axis=1 → Operates along rows (horizontal direction)"
   ]
  },
  {
   "cell_type": "code",
   "execution_count": 84,
   "id": "29aaff1b",
   "metadata": {},
   "outputs": [
    {
     "name": "stdout",
     "output_type": "stream",
     "text": [
      "[[1 2 3]\n",
      " [4 5 6]\n",
      " [7 8 9]]\n"
     ]
    }
   ],
   "source": [
    "arr = np.array([[1, 2, 3], [4, 5, 6], [7, 8, 9]])\n",
    "\n",
    "print(arr)"
   ]
  },
  {
   "cell_type": "code",
   "execution_count": 85,
   "id": "8582f2a3",
   "metadata": {},
   "outputs": [
    {
     "name": "stdout",
     "output_type": "stream",
     "text": [
      "Column wise sum  [12 15 18]\n",
      "----------------------------\n",
      "Row wise sum  [ 6 15 24]\n",
      "----------------------------\n",
      "Max per column [7 8 9]\n",
      "Max per row [3 6 9]\n",
      "Min per column [1 2 3]\n",
      "Min per row [1 4 7]\n"
     ]
    }
   ],
   "source": [
    "# Example: Sum Across Columns\n",
    "col_sum = np.sum(arr, axis=0)\n",
    "print(\"Column wise sum \", col_sum)\n",
    "\n",
    "print(\"----------------------------\")\n",
    "\n",
    "# Example: Sum Across Rows\n",
    "row_sum = np.sum(arr, axis=1)\n",
    "print(\"Row wise sum \", row_sum)\n",
    "\n",
    "print(\"----------------------------\")\n",
    "\n",
    "print(\"Max per column\", np.max(arr, axis=0))  # Max per column\n",
    "print(\"Max per row\", np.max(arr, axis=1))  # Max per row\n",
    "print(\"Min per column\", np.min(arr, axis=0))  # Min per column\n",
    "print(\"Min per row\", np.min(arr, axis=1))  # Min per row"
   ]
  },
  {
   "cell_type": "code",
   "execution_count": 86,
   "id": "dfcc8e80",
   "metadata": {},
   "outputs": [
    {
     "name": "stdout",
     "output_type": "stream",
     "text": [
      "[False False  True]\n",
      "[False  True False]\n"
     ]
    }
   ],
   "source": [
    "# Example : Checking all() with axis\n",
    "bool_arr = np.array([[True, False, True], [True, True, True], [False, True, True]])\n",
    "\n",
    "print(np.all(bool_arr, axis=0))  # Checks all values in each column\n",
    "print(np.all(bool_arr, axis=1))  # Checks all values in each row"
   ]
  },
  {
   "cell_type": "markdown",
   "id": "70625b74",
   "metadata": {},
   "source": [
    "📌 Key Takeaways\n",
    "- ✅ axis=0 → Column-wise operations (go down)\n",
    "- ✅ axis=1 → Row-wise operations (go across)\n",
    "- ✅ Works for various NumPy functions like sum(), mean(), min(), max(), all(), etc."
   ]
  },
  {
   "cell_type": "markdown",
   "id": "5f243459",
   "metadata": {},
   "source": [
    "# WHERE AND ANY"
   ]
  },
  {
   "cell_type": "markdown",
   "id": "730e23f7",
   "metadata": {},
   "source": [
    "## WHERE"
   ]
  },
  {
   "cell_type": "code",
   "execution_count": 88,
   "id": "be2ca049",
   "metadata": {},
   "outputs": [
    {
     "name": "stdout",
     "output_type": "stream",
     "text": [
      "(array([2, 3, 4]),)\n"
     ]
    }
   ],
   "source": [
    "# Examples of Where\n",
    "# Example 1: Finding indices where a condition is met\n",
    "arr = np.array([10, 20, 30, 40, 50])\n",
    "indices = np.where(arr > 25)  # Find indices where elements are greater than 25\n",
    "print(indices)"
   ]
  },
  {
   "cell_type": "code",
   "execution_count": 89,
   "id": "cd91f702",
   "metadata": {},
   "outputs": [
    {
     "name": "stdout",
     "output_type": "stream",
     "text": [
      "[0 0 1 1 1]\n"
     ]
    }
   ],
   "source": [
    "# Example 2: Replacing values based on a condition\n",
    "arr = np.array([10, 20, 30, 40, 50])\n",
    "new_arr = np.where(arr > 25, 1, 0)  # Replace values > 25 with 1, else 0\n",
    "print(new_arr)"
   ]
  },
  {
   "cell_type": "code",
   "execution_count": 90,
   "id": "e30bc040",
   "metadata": {},
   "outputs": [
    {
     "name": "stdout",
     "output_type": "stream",
     "text": [
      "[10 20 30  4  5]\n"
     ]
    }
   ],
   "source": [
    "# Example 3: Using where to select between two arrays\n",
    "\n",
    "a = np.array([1, 2, 3, 4, 5])\n",
    "b = np.array([10, 20, 30, 40, 50])\n",
    "\n",
    "condition = a > 3  # Condition to check\n",
    "\n",
    "result = np.where(condition, a, b)  # Select elements from a where condition is True, else from b\n",
    "print(result)"
   ]
  },
  {
   "cell_type": "markdown",
   "id": "084f8a06",
   "metadata": {},
   "source": [
    "## ANY"
   ]
  },
  {
   "cell_type": "code",
   "execution_count": 91,
   "id": "f80c0043",
   "metadata": {},
   "outputs": [
    {
     "name": "stdout",
     "output_type": "stream",
     "text": [
      "True\n"
     ]
    }
   ],
   "source": [
    "# Examples of Any\n",
    "# Example 1: Checking if any element is True\n",
    "arr = np.array([0, 0, 1, 0])\n",
    "result = np.any(arr)  # Returns True if at least one element is nonzero\n",
    "print(result)"
   ]
  },
  {
   "cell_type": "code",
   "execution_count": 92,
   "id": "3d0caa31",
   "metadata": {},
   "outputs": [
    {
     "name": "stdout",
     "output_type": "stream",
     "text": [
      "[False  True False]\n"
     ]
    }
   ],
   "source": [
    "# Example 2: Using any() along an axis\n",
    "arr = np.array([[0, 0, 0], [0, 1, 0], [0, 0, 0]])\n",
    "\n",
    "result = np.any(arr, axis=0)  # Checks if any value is nonzero in each column\n",
    "print(result)"
   ]
  },
  {
   "cell_type": "code",
   "execution_count": 94,
   "id": "401f0c79",
   "metadata": {},
   "outputs": [
    {
     "name": "stdout",
     "output_type": "stream",
     "text": [
      "[False False  True  True]\n",
      "True\n",
      "True\n",
      "True\n"
     ]
    }
   ],
   "source": [
    "# Example 3: Checking conditions with any()\n",
    "arr = np.array([10, 20, 30, 40])\n",
    "condition = arr > 25\n",
    "print(condition)  # [False False  True  True]\n",
    "print(np.any(condition))  # True, because at least one element is > 25\n",
    "\n",
    "\n",
    "print(np.any(arr<100))\n",
    "print(np.any(arr>30))"
   ]
  },
  {
   "cell_type": "markdown",
   "id": "3b9716f0",
   "metadata": {},
   "source": [
    "## ALL"
   ]
  },
  {
   "cell_type": "code",
   "execution_count": 95,
   "id": "63172666",
   "metadata": {},
   "outputs": [
    {
     "name": "stdout",
     "output_type": "stream",
     "text": [
      "True\n"
     ]
    }
   ],
   "source": [
    "# Example 1: Checking if all elements are nonzero\n",
    "\n",
    "arr = np.array([1, 2, 3, 4, 5])\n",
    "result = np.all(arr)  # Checks if all elements are nonzero\n",
    "print(result)"
   ]
  },
  {
   "cell_type": "code",
   "execution_count": 96,
   "id": "086296d5",
   "metadata": {},
   "outputs": [
    {
     "name": "stdout",
     "output_type": "stream",
     "text": [
      "False\n"
     ]
    }
   ],
   "source": [
    "# Example 2: If there's a zero in the array\n",
    "arr = np.array([1, 2, 0, 4, 5])\n",
    "result = np.all(arr)\n",
    "print(result)\n",
    "\n",
    "# Here, since there's a 0, np.all() returns False."
   ]
  },
  {
   "cell_type": "code",
   "execution_count": 97,
   "id": "d4e01783",
   "metadata": {},
   "outputs": [
    {
     "name": "stdout",
     "output_type": "stream",
     "text": [
      "True\n"
     ]
    }
   ],
   "source": [
    "# Example 3: Checking a Condition\n",
    "arr = np.array([10, 20, 30, 40])\n",
    "result = np.all(arr > 5)  # Are all elements greater than 5?\n",
    "print(result)"
   ]
  },
  {
   "cell_type": "code",
   "execution_count": 98,
   "id": "f701be8e",
   "metadata": {},
   "outputs": [
    {
     "name": "stdout",
     "output_type": "stream",
     "text": [
      "[False  True  True]\n"
     ]
    }
   ],
   "source": [
    "# Example 4: Using axis Parameter\n",
    "arr = np.array([[1, 2, 3], [0, 5, 6]])\n",
    "\n",
    "result = np.all(arr, axis=0)  # Check column-wise\n",
    "print(result)"
   ]
  },
  {
   "cell_type": "code",
   "execution_count": 101,
   "id": "7c039aff",
   "metadata": {},
   "outputs": [
    {
     "name": "stdout",
     "output_type": "stream",
     "text": [
      "[ True  True]\n"
     ]
    }
   ],
   "source": [
    "# Example 5: all() \n",
    "arr = np.array([[1, 2, 3], [4, 5, 6]])\n",
    "\n",
    "result = np.all(arr > 0, axis=1)\n",
    "print(result)"
   ]
  },
  {
   "cell_type": "markdown",
   "id": "68cd89fc",
   "metadata": {},
   "source": [
    "# 2. Handling Missing Values in NumPy\n",
    "In real-world data, missing or NaN (Not a Number) values are common. NumPy provides tools to detect, replace, and ignore these NaN values during computations.\n",
    "Key Functions to Handle Missing Data:\n",
    "- np.isnan() — Detects NaN values.\n",
    "- np.nanmean(), np.nanstd(), np.nanmedian() — Compute mean, standard deviation, and median, ignoring NaN values.\n",
    "- np.nan_to_num() — Replaces NaN values with a specified value."
   ]
  },
  {
   "cell_type": "code",
   "execution_count": 102,
   "id": "7bfe9449",
   "metadata": {},
   "outputs": [
    {
     "name": "stdout",
     "output_type": "stream",
     "text": [
      "NaN detection: [False  True False False  True]\n"
     ]
    }
   ],
   "source": [
    "# Example 1: Detecting NaN Values\n",
    "\n",
    "arr = np.array([1, np.nan, 3, 4, np.nan])\n",
    "\n",
    "# Checking for NaN values\n",
    "nan_check = np.isnan(arr)\n",
    "\n",
    "print(\"NaN detection:\", nan_check)"
   ]
  },
  {
   "cell_type": "code",
   "execution_count": 103,
   "id": "35d484a3",
   "metadata": {},
   "outputs": [
    {
     "name": "stdout",
     "output_type": "stream",
     "text": [
      "Mean ignoring NaNs: 2.6666666666666665\n"
     ]
    }
   ],
   "source": [
    "# Example 2: Ignoring NaN Values in Computations\n",
    "\n",
    "arr = np.array([1, np.nan, 3, 4, np.nan])\n",
    "\n",
    "# Compute mean, ignoring NaN values\n",
    "mean_val = np.nanmean(arr)\n",
    "print(\"Mean ignoring NaNs:\", mean_val)"
   ]
  },
  {
   "cell_type": "code",
   "execution_count": 104,
   "id": "794ef823",
   "metadata": {},
   "outputs": [
    {
     "name": "stdout",
     "output_type": "stream",
     "text": [
      "Array with NaN replaced: [1. 0. 3. 4. 0.]\n"
     ]
    }
   ],
   "source": [
    "# Example 3: Replacing NaN with a Specific Value\n",
    "# You can replace NaN values using np.nan_to_num().\n",
    "arr = np.array([1, np.nan, 3, 4, np.nan])\n",
    "\n",
    "# Replace NaN values with 0\n",
    "arr_cleaned = np.nan_to_num(arr, nan=0)\n",
    "print(\"Array with NaN replaced:\", arr_cleaned)"
   ]
  },
  {
   "cell_type": "code",
   "execution_count": 105,
   "id": "47beaaea",
   "metadata": {},
   "outputs": [
    {
     "name": "stdout",
     "output_type": "stream",
     "text": [
      "Array with NaN replaced by mean: [1.         2.66666667 3.         4.         2.66666667]\n"
     ]
    }
   ],
   "source": [
    "# Example 4: Fill NaN with Interpolation or Mean (Custom Handling)\n",
    "# In some cases, you may want to fill NaN values with a calculated value like the mean of the array.\n",
    "arr = np.array([1, np.nan, 3, 4, np.nan])\n",
    "\n",
    "# Replace NaN with the mean of non-NaN values\n",
    "mean_val = np.nanmean(arr)\n",
    "arr_filled = np.where(np.isnan(arr), mean_val, arr)\n",
    "\n",
    "print(\"Array with NaN replaced by mean:\", arr_filled)"
   ]
  },
  {
   "cell_type": "markdown",
   "id": "7e594af3",
   "metadata": {},
   "source": [
    "# Some more important Numpy Functions :"
   ]
  },
  {
   "cell_type": "code",
   "execution_count": 106,
   "id": "00f2de92",
   "metadata": {},
   "outputs": [
    {
     "name": "stdout",
     "output_type": "stream",
     "text": [
      "Sorted array: [1 2 3 4]\n"
     ]
    }
   ],
   "source": [
    "# 1. np.sort() - Sorts an array in ascending order.\n",
    "# Usage: When you need to sort your data (e.g., for analysis or presentation).\n",
    "\n",
    "\n",
    "arr = np.array([3, 1, 4, 2])\n",
    "\n",
    "sorted_arr = np.sort(arr)\n",
    "\n",
    "print(\"Sorted array:\", sorted_arr)"
   ]
  },
  {
   "cell_type": "code",
   "execution_count": 107,
   "id": "6874ee85",
   "metadata": {},
   "outputs": [
    {
     "name": "stdout",
     "output_type": "stream",
     "text": [
      "Array after append: [1 2 3 4 5]\n"
     ]
    }
   ],
   "source": [
    "# 2. np.append() - Appends values to the end of an array.\n",
    "# Usage: To add elements to the end of an existing array.\n",
    "\n",
    "arr = np.array([1, 2, 3])\n",
    "arr_appended = np.append(arr, [4, 5])\n",
    "\n",
    "print(\"Array after append:\", arr_appended)"
   ]
  },
  {
   "cell_type": "code",
   "execution_count": 108,
   "id": "304c8c5f",
   "metadata": {},
   "outputs": [
    {
     "name": "stdout",
     "output_type": "stream",
     "text": [
      "Concatenated array: [1 2 3 4]\n"
     ]
    }
   ],
   "source": [
    "# 3. np.concatenate() - Joins two or more arrays along a specified axis.\n",
    "# Usage: When you need to merge multiple arrays.\n",
    "\n",
    "arr1 = np.array([1, 2])\n",
    "arr2 = np.array([3, 4])\n",
    "\n",
    "concatenated_arr = np.concatenate((arr1, arr2))\n",
    "\n",
    "print(\"Concatenated array:\", concatenated_arr)"
   ]
  },
  {
   "cell_type": "code",
   "execution_count": 109,
   "id": "7439367e",
   "metadata": {},
   "outputs": [
    {
     "name": "stdout",
     "output_type": "stream",
     "text": [
      "Unique values: [1 2 3 4]\n"
     ]
    }
   ],
   "source": [
    "# 4. np.unique() - Returns the sorted unique elements of an array.\n",
    "# Usage: To get distinct elements in an array, useful for identifying categories.\n",
    "\n",
    "arr = np.array([1, 2, 2, 3, 4, 4, 4])\n",
    "\n",
    "unique_vals = np.unique(arr)\n",
    "\n",
    "print(\"Unique values:\", unique_vals)"
   ]
  },
  {
   "cell_type": "code",
   "execution_count": 110,
   "id": "996e8231",
   "metadata": {},
   "outputs": [
    {
     "name": "stdout",
     "output_type": "stream",
     "text": [
      "Expanded array: [[1 2 3]]\n"
     ]
    }
   ],
   "source": [
    "# 5. np.expand_dims() - Expands the shape of an array by adding a new axis.\n",
    "# Usage: To add a new dimension to an array, useful in operations like broadcasting.\n",
    "\n",
    "arr = np.array([1, 2, 3])\n",
    "expanded_arr = np.expand_dims(arr, axis=0)\n",
    "\n",
    "print(\"Expanded array:\", expanded_arr)"
   ]
  },
  {
   "cell_type": "code",
   "execution_count": 111,
   "id": "26505ba8",
   "metadata": {},
   "outputs": [
    {
     "name": "stdout",
     "output_type": "stream",
     "text": [
      "Result after where condition: [0 0 3 4]\n"
     ]
    }
   ],
   "source": [
    "# 6. np.where() - Returns elements chosen from x or y depending on the condition.\n",
    "# Usage: For conditional logic based on arrays.\n",
    "\n",
    "arr = np.array([1, 2, 3, 4])\n",
    "result = np.where(arr > 2, arr, 0)\n",
    "\n",
    "print(\"Result after where condition:\", result)"
   ]
  },
  {
   "cell_type": "code",
   "execution_count": 112,
   "id": "3f59caf4",
   "metadata": {},
   "outputs": [
    {
     "name": "stdout",
     "output_type": "stream",
     "text": [
      "Index of max value: 1\n"
     ]
    }
   ],
   "source": [
    "# 7. np.argmax() - Returns the index of the maximum value in an array.\n",
    "# Usage: To find the position of the highest value, useful in tasks like classification (e.g., finding the most likely class).\n",
    "\n",
    "arr = np.array([1, 5, 3, 2])\n",
    "max_index = np.argmax(arr)\n",
    "\n",
    "print(\"Index of max value:\", max_index)"
   ]
  },
  {
   "cell_type": "code",
   "execution_count": 113,
   "id": "a3922dbd",
   "metadata": {},
   "outputs": [
    {
     "name": "stdout",
     "output_type": "stream",
     "text": [
      "Cumulative sum: [ 1  3  6 10]\n"
     ]
    }
   ],
   "source": [
    "# 8. np.cumsum() - Computes the cumulative sum of elements in an array.\n",
    "# Usage: To get the running total or cumulative sum.\n",
    "\n",
    "arr = np.array([1, 2, 3, 4])\n",
    "cumsum_arr = np.cumsum(arr)\n",
    "\n",
    "print(\"Cumulative sum:\", cumsum_arr)"
   ]
  },
  {
   "cell_type": "code",
   "execution_count": 114,
   "id": "74a9ab81",
   "metadata": {},
   "outputs": [
    {
     "name": "stdout",
     "output_type": "stream",
     "text": [
      "50th percentile: 3.0\n"
     ]
    }
   ],
   "source": [
    "# 9. np.percentile() - Computes the nth percentile of the array.\n",
    "# Usage: To compute a specific percentile value, useful for statistical analysis.\n",
    "\n",
    "arr = np.array([1, 2, 3, 4, 5])\n",
    "percentile_50 = np.percentile(arr, 50)\n",
    "\n",
    "print(\"50th percentile:\", percentile_50)"
   ]
  },
  {
   "cell_type": "code",
   "execution_count": 115,
   "id": "afa59ede",
   "metadata": {},
   "outputs": [
    {
     "name": "stdout",
     "output_type": "stream",
     "text": [
      "Histogram: [1 2 3 4]\n",
      "Bins: [1.   1.75 2.5  3.25 4.  ]\n"
     ]
    }
   ],
   "source": [
    "# 10. np.histogram() - Computes the histogram of a dataset.\n",
    "# Usage: To visualize the distribution of data.\n",
    "\n",
    "arr = np.array([1, 2, 2, 3, 3, 3, 4, 4, 4, 4])\n",
    "hist, bins = np.histogram(arr, bins=4)\n",
    "\n",
    "print(\"Histogram:\", hist)\n",
    "print(\"Bins:\", bins)"
   ]
  },
  {
   "cell_type": "code",
   "execution_count": 116,
   "id": "abd0cd0d",
   "metadata": {},
   "outputs": [
    {
     "name": "stdout",
     "output_type": "stream",
     "text": [
      "Correlation coefficient matrix: [[1. 1.]\n",
      " [1. 1.]]\n"
     ]
    }
   ],
   "source": [
    "# 11. np.corrcoef() - Computes the Pearson correlation coefficient of two arrays.\n",
    "# Usage: To measure the linear correlation between two variables.\n",
    "\n",
    "arr1 = np.array([1, 2, 3])\n",
    "arr2 = np.array([4, 5, 6])\n",
    "corr = np.corrcoef(arr1, arr2)\n",
    "print(\"Correlation coefficient matrix:\", corr)"
   ]
  },
  {
   "cell_type": "code",
   "execution_count": 117,
   "id": "81e75c47",
   "metadata": {},
   "outputs": [
    {
     "name": "stdout",
     "output_type": "stream",
     "text": [
      "Is in result: [False  True  True]\n"
     ]
    }
   ],
   "source": [
    "# 12. np.isin() - Checks if elements of one array are present in another array.\n",
    "# Usage: Useful for filtering or checking membership.\n",
    "\n",
    "arr1 = np.array([1, 2, 3])\n",
    "arr2 = np.array([2, 3, 4])\n",
    "\n",
    "result = np.isin(arr1, arr2)\n",
    "\n",
    "print(\"Is in result:\", result)"
   ]
  },
  {
   "cell_type": "code",
   "execution_count": 118,
   "id": "69ed0075",
   "metadata": {},
   "outputs": [
    {
     "name": "stdout",
     "output_type": "stream",
     "text": [
      "Flipped array: [4 3 2 1]\n"
     ]
    }
   ],
   "source": [
    "# 13. np.flip() - Flips the elements of an array along a specified axis.\n",
    "# Usage: Useful when reversing the order of elements.\n",
    "\n",
    "\n",
    "arr = np.array([1, 2, 3, 4])\n",
    "flipped_arr = np.flip(arr)\n",
    "\n",
    "print(\"Flipped array:\", flipped_arr)"
   ]
  },
  {
   "cell_type": "code",
   "execution_count": 119,
   "id": "35c5adcf",
   "metadata": {},
   "outputs": [
    {
     "name": "stdout",
     "output_type": "stream",
     "text": [
      "Array after put: [ 1 10  3 20]\n"
     ]
    }
   ],
   "source": [
    "# 14. np.put() - Place values at specified indices in an array.\n",
    "# Usage: For modifying specific indices in an array.\n",
    "\n",
    "arr = np.array([1, 2, 3, 4])\n",
    "np.put(arr, [1, 3], [10, 20])  # Replace index 1 with 10 and index 3 with 20\n",
    "\n",
    "print(\"Array after put:\", arr)"
   ]
  },
  {
   "cell_type": "code",
   "execution_count": 120,
   "id": "08936ab4",
   "metadata": {},
   "outputs": [
    {
     "name": "stdout",
     "output_type": "stream",
     "text": [
      "Array after delete: [10 30]\n"
     ]
    }
   ],
   "source": [
    "# 15. np.delete() - Deletes elements from an array along a specified axis.\n",
    "# Usage: To remove unwanted values or indices from an array.\n",
    "\n",
    "arr = np.array([10, 20, 30, 40])\n",
    "arr_deleted = np.delete(arr, [1, 3])  # It deletes the elements with index 1 and 3\n",
    "\n",
    "print(\"Array after delete:\", arr_deleted)"
   ]
  },
  {
   "cell_type": "code",
   "execution_count": 121,
   "id": "8b92a3e0",
   "metadata": {},
   "outputs": [
    {
     "name": "stdout",
     "output_type": "stream",
     "text": [
      "Union of arrays: [1 2 3 4 5]\n"
     ]
    }
   ],
   "source": [
    "# 16. np.union1d() - Finds the union of two arrays.\n",
    "# Usage: To combine two arrays and remove duplicates.\n",
    "\n",
    "arr1 = np.array([1, 2, 3])\n",
    "arr2 = np.array([3, 4, 5])\n",
    "\n",
    "union_arr = np.union1d(arr1, arr2)\n",
    "print(\"Union of arrays:\", union_arr)"
   ]
  },
  {
   "cell_type": "code",
   "execution_count": 122,
   "id": "ffbe173f",
   "metadata": {},
   "outputs": [
    {
     "name": "stdout",
     "output_type": "stream",
     "text": [
      "Intersection of arrays: [3]\n"
     ]
    }
   ],
   "source": [
    "# 17. np.intersect1d() - Finds the intersection of two arrays.\n",
    "# Usage: To find common elements between two arrays.\n",
    "\n",
    "arr1 = np.array([1, 2, 3])\n",
    "arr2 = np.array([3, 4, 5])\n",
    "\n",
    "intersection_arr = np.intersect1d(arr1, arr2)\n",
    "print(\"Intersection of arrays:\", intersection_arr)"
   ]
  },
  {
   "cell_type": "code",
   "execution_count": 123,
   "id": "ca7d9c45",
   "metadata": {},
   "outputs": [
    {
     "name": "stdout",
     "output_type": "stream",
     "text": [
      "Difference of arrays: [1 2]\n"
     ]
    }
   ],
   "source": [
    "# 18. np.setdiff1d() - Finds the difference between two arrays (elements in the first array but not in the second).\n",
    "# Usage: To find elements unique to the first array.\n",
    "\n",
    "arr1 = np.array([1, 2, 3])\n",
    "arr2 = np.array([3, 4, 5])\n",
    "\n",
    "diff_arr = np.setdiff1d(arr1, arr2)\n",
    "\n",
    "print(\"Difference of arrays:\", diff_arr)"
   ]
  },
  {
   "cell_type": "code",
   "execution_count": 124,
   "id": "616910fd",
   "metadata": {},
   "outputs": [
    {
     "name": "stdout",
     "output_type": "stream",
     "text": [
      "Symmetric difference of arrays: [1 2 4 5]\n"
     ]
    }
   ],
   "source": [
    "# 19. np.setxor1d() - Finds the symmetric difference between two arrays (elements in either of the arrays but not both).\n",
    "# Usage: To find unique elements in either of the arrays.\n",
    "\n",
    "arr1 = np.array([1, 2, 3])\n",
    "arr2 = np.array([3, 4, 5])\n",
    "symmetric_diff = np.setxor1d(arr1, arr2)\n",
    "print(\"Symmetric difference of arrays:\", symmetric_diff)"
   ]
  },
  {
   "cell_type": "code",
   "execution_count": null,
   "id": "07942e76",
   "metadata": {},
   "outputs": [
    {
     "name": "stdout",
     "output_type": "stream",
     "text": [
      "In1d result: [False  True  True]\n"
     ]
    },
    {
     "name": "stderr",
     "output_type": "stream",
     "text": [
      "/var/folders/2b/11ybmfpn3pv3vyjdgtk0ss7m0000gn/T/ipykernel_14261/1342987212.py:8: DeprecationWarning: `in1d` is deprecated. Use `np.isin` instead.\n",
      "  result = np.in1d(arr1, arr2)\n"
     ]
    }
   ],
   "source": []
  },
  {
   "cell_type": "code",
   "execution_count": 126,
   "id": "b1120bc4",
   "metadata": {},
   "outputs": [
    {
     "name": "stdout",
     "output_type": "stream",
     "text": [
      "Clipped array: [ 5  5 10 15 15]\n"
     ]
    }
   ],
   "source": [
    "# 21. np.clip() - Clips the values in an array to a specified range.\n",
    "# Usage: Useful for limiting extreme values in data.\n",
    "\n",
    "arr = np.array([1, 5, 10, 15, 20])\n",
    "\n",
    "clipped_arr = np.clip(arr, 5, 15)\n",
    "\n",
    "print(\"Clipped array:\", clipped_arr)"
   ]
  },
  {
   "cell_type": "code",
   "execution_count": 127,
   "id": "3cfa3f93",
   "metadata": {},
   "outputs": [
    {
     "name": "stdout",
     "output_type": "stream",
     "text": [
      "Tiled array: [1 2 1 2 1 2]\n"
     ]
    }
   ],
   "source": [
    "# 22. np.tile() - Constructs an array by repeating the input array.\n",
    "# Usage: To create a repeated version of an array.\n",
    "\n",
    "arr = np.array([1, 2])\n",
    "tiled_arr = np.tile(arr, 3)\n",
    "\n",
    "print(\"Tiled array:\", tiled_arr)"
   ]
  },
  {
   "cell_type": "code",
   "execution_count": 128,
   "id": "4a1e237c",
   "metadata": {},
   "outputs": [
    {
     "name": "stdout",
     "output_type": "stream",
     "text": [
      "Repeated array: [1 1 1 2 2 2]\n"
     ]
    }
   ],
   "source": [
    "# 23. np.repeat() - Repeats elements of an array.\n",
    "# Usage: For creating an array with repeated elements.\n",
    "\n",
    "arr = np.array([1, 2])\n",
    "repeated_arr = np.repeat(arr, 3)\n",
    "\n",
    "print(\"Repeated array:\", repeated_arr)"
   ]
  },
  {
   "cell_type": "code",
   "execution_count": 129,
   "id": "9ff3a47e",
   "metadata": {},
   "outputs": [
    {
     "name": "stdout",
     "output_type": "stream",
     "text": [
      "Random uniform array: [6.93248002 0.64367669 0.11794151 9.74256674 3.82838371]\n"
     ]
    }
   ],
   "source": [
    "# 24. np.uniform() - Generates random samples from a uniform distribution.\n",
    "# Usage: For generating random numbers within a specified range.\n",
    "\n",
    "rand_arr = np.random.uniform(0, 10, 5)\n",
    "\n",
    "print(\"Random uniform array:\", rand_arr)"
   ]
  },
  {
   "cell_type": "code",
   "execution_count": 130,
   "id": "f58825d6",
   "metadata": {},
   "outputs": [
    {
     "name": "stdout",
     "output_type": "stream",
     "text": [
      "Arrays are close: True\n"
     ]
    }
   ],
   "source": [
    "# 25. np.allclose() - Checks if two arrays are element-wise equal within a tolerance.\n",
    "# Usage: Useful for comparing floating-point arrays.\n",
    "\n",
    "arr1 = np.array([1.0, 2.0])\n",
    "arr2 = np.array([1.0, 2.00000001])\n",
    "\n",
    "are_close = np.allclose(arr1, arr2)\n",
    "\n",
    "print(\"Arrays are close:\", are_close)"
   ]
  },
  {
   "cell_type": "code",
   "execution_count": 131,
   "id": "32f9d54a",
   "metadata": {},
   "outputs": [
    {
     "name": "stdout",
     "output_type": "stream",
     "text": [
      "Arrays are equal: True\n"
     ]
    }
   ],
   "source": [
    "# 26. np.array_equal() - Checks if two arrays have the same shape and elements.\n",
    "# Usage: To compare two arrays element-wise.\n",
    "\n",
    "arr1 = np.array([1, 2, 3])\n",
    "arr2 = np.array([1, 2, 3])\n",
    "\n",
    "are_equal = np.array_equal(arr1, arr2)\n",
    "\n",
    "print(\"Arrays are equal:\", are_equal)"
   ]
  },
  {
   "cell_type": "code",
   "execution_count": 132,
   "id": "abf41e4c",
   "metadata": {},
   "outputs": [
    {
     "name": "stdout",
     "output_type": "stream",
     "text": [
      "Swapped axes array: [[1 3]\n",
      " [2 4]]\n"
     ]
    }
   ],
   "source": [
    "# 27. np.swapaxes() - Swaps the axes of an array.\n",
    "# Usage: Useful for changing the shape of multi-dimensional arrays.\n",
    "\n",
    "arr = np.array([[1, 2], [3, 4]])\n",
    "swapped_arr = np.swapaxes(arr, 0, 1)\n",
    "\n",
    "print(\"Swapped axes array:\", swapped_arr)"
   ]
  },
  {
   "cell_type": "code",
   "execution_count": null,
   "id": "8ff57fab",
   "metadata": {},
   "outputs": [],
   "source": []
  }
 ],
 "metadata": {
  "kernelspec": {
   "display_name": "dsmlai",
   "language": "python",
   "name": "python3"
  },
  "language_info": {
   "codemirror_mode": {
    "name": "ipython",
    "version": 3
   },
   "file_extension": ".py",
   "mimetype": "text/x-python",
   "name": "python",
   "nbconvert_exporter": "python",
   "pygments_lexer": "ipython3",
   "version": "3.10.18"
  }
 },
 "nbformat": 4,
 "nbformat_minor": 5
}
