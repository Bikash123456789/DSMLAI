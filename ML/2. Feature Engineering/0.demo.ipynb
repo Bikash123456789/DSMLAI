{
 "cells": [
  {
   "cell_type": "markdown",
   "id": "60794b8c",
   "metadata": {},
   "source": [
    "## Imports"
   ]
  },
  {
   "cell_type": "code",
   "execution_count": 38,
   "id": "1eb49913",
   "metadata": {},
   "outputs": [],
   "source": [
    "# Basic Imports\n",
    "import numpy as np\n",
    "import pandas as pd\n",
    "import matplotlib.pyplot as plt\n",
    "import seaborn as sns\n",
    "\n",
    "# Preprocessing Imports\n",
    "from sklearn.model_selection import train_test_split\n",
    "from sklearn.impute import SimpleImputer\n",
    "from sklearn.preprocessing import StandardScaler, OrdinalEncoder, OneHotEncoder\n",
    "from sklearn.compose import ColumnTransformer\n",
    "from sklearn.pipeline import Pipeline\n",
    "from sklearn.linear_model import LogisticRegression"
   ]
  },
  {
   "cell_type": "markdown",
   "id": "ca78a421",
   "metadata": {},
   "source": [
    "### Helper Function to show the dataframe"
   ]
  },
  {
   "cell_type": "code",
   "execution_count": 39,
   "id": "d5ad95f6",
   "metadata": {},
   "outputs": [],
   "source": [
    "def show_df_info(df, name=\"df\"):\n",
    "    print(f\"---{name} shape:\", df.shape)\n",
    "    display(df.head(8))\n",
    "    print(\"\\nMissing per column:\")\n",
    "    print(df.isnull().sum())"
   ]
  },
  {
   "cell_type": "markdown",
   "id": "5073b018",
   "metadata": {},
   "source": [
    "## Create Synthetic Dataset"
   ]
  },
  {
   "cell_type": "code",
   "execution_count": 45,
   "id": "9819a237",
   "metadata": {},
   "outputs": [
    {
     "data": {
      "text/html": [
       "<div>\n",
       "<style scoped>\n",
       "    .dataframe tbody tr th:only-of-type {\n",
       "        vertical-align: middle;\n",
       "    }\n",
       "\n",
       "    .dataframe tbody tr th {\n",
       "        vertical-align: top;\n",
       "    }\n",
       "\n",
       "    .dataframe thead th {\n",
       "        text-align: right;\n",
       "    }\n",
       "</style>\n",
       "<table border=\"1\" class=\"dataframe\">\n",
       "  <thead>\n",
       "    <tr style=\"text-align: right;\">\n",
       "      <th></th>\n",
       "      <th>age</th>\n",
       "      <th>salary</th>\n",
       "      <th>experience_years</th>\n",
       "      <th>education_level</th>\n",
       "      <th>city</th>\n",
       "      <th>owns_car</th>\n",
       "      <th>target</th>\n",
       "    </tr>\n",
       "  </thead>\n",
       "  <tbody>\n",
       "    <tr>\n",
       "      <th>0</th>\n",
       "      <td>58.0</td>\n",
       "      <td>85725.0</td>\n",
       "      <td>3.0</td>\n",
       "      <td>phd</td>\n",
       "      <td>Delhi</td>\n",
       "      <td>no</td>\n",
       "      <td>0</td>\n",
       "    </tr>\n",
       "    <tr>\n",
       "      <th>1</th>\n",
       "      <td>48.0</td>\n",
       "      <td>149981.0</td>\n",
       "      <td>1.0</td>\n",
       "      <td>master</td>\n",
       "      <td>Bangalore</td>\n",
       "      <td>yes</td>\n",
       "      <td>1</td>\n",
       "    </tr>\n",
       "    <tr>\n",
       "      <th>2</th>\n",
       "      <td>34.0</td>\n",
       "      <td>104654.0</td>\n",
       "      <td>5.0</td>\n",
       "      <td>master</td>\n",
       "      <td>Kolkata</td>\n",
       "      <td>no</td>\n",
       "      <td>0</td>\n",
       "    </tr>\n",
       "    <tr>\n",
       "      <th>3</th>\n",
       "      <td>27.0</td>\n",
       "      <td>186845.0</td>\n",
       "      <td>3.0</td>\n",
       "      <td>master</td>\n",
       "      <td>Kolkata</td>\n",
       "      <td>no</td>\n",
       "      <td>1</td>\n",
       "    </tr>\n",
       "    <tr>\n",
       "      <th>4</th>\n",
       "      <td>40.0</td>\n",
       "      <td>139346.0</td>\n",
       "      <td>28.0</td>\n",
       "      <td>highschool</td>\n",
       "      <td>Mumbai</td>\n",
       "      <td>no</td>\n",
       "      <td>1</td>\n",
       "    </tr>\n",
       "  </tbody>\n",
       "</table>\n",
       "</div>"
      ],
      "text/plain": [
       "    age    salary  experience_years education_level       city owns_car  \\\n",
       "0  58.0   85725.0               3.0             phd      Delhi       no   \n",
       "1  48.0  149981.0               1.0          master  Bangalore      yes   \n",
       "2  34.0  104654.0               5.0          master    Kolkata       no   \n",
       "3  27.0  186845.0               3.0          master    Kolkata       no   \n",
       "4  40.0  139346.0              28.0      highschool     Mumbai       no   \n",
       "\n",
       "   target  \n",
       "0       0  \n",
       "1       1  \n",
       "2       0  \n",
       "3       1  \n",
       "4       1  "
      ]
     },
     "execution_count": 45,
     "metadata": {},
     "output_type": "execute_result"
    }
   ],
   "source": [
    "np.random.seed(42)\n",
    "n = 30\n",
    "\n",
    "age = np.random.randint(20,60,n).astype(float)\n",
    "salary = np.random.randint(20000,200000,n).astype(float)\n",
    "experience = np.random.randint(0,35,n).astype(float)\n",
    "education = np.random.choice(['highschool','bachelor','master','phd'],size = n)\n",
    "city = np.random.choice(['Mumbai','Bangalore','Kolkata','Delhi'],size = n)\n",
    "owns_car = np.random.choice(['yes','no'],size=n)\n",
    "\n",
    "# synthetic target based on salary & experience + noise\n",
    "prob = (\n",
    "    (salary / salary.max()) * 0.6\n",
    "    + (experience / experience.max()) * 0.3\n",
    "    + np.random.rand(n) * 0.1\n",
    ")\n",
    "target = (prob > 0.5).astype(int)\n",
    "\n",
    "df = pd.DataFrame(\n",
    "    {\n",
    "        \"age\": age,\n",
    "        \"salary\": salary,\n",
    "        \"experience_years\": experience,\n",
    "        \"education_level\": education,\n",
    "        \"city\": city,\n",
    "        \"owns_car\": owns_car,\n",
    "        \"target\": target,\n",
    "    }\n",
    ")\n",
    "\n",
    "df.head()"
   ]
  },
  {
   "cell_type": "markdown",
   "id": "2b9d06df",
   "metadata": {},
   "source": [
    "### Add Missing Values"
   ]
  },
  {
   "cell_type": "code",
   "execution_count": 46,
   "id": "06796c75",
   "metadata": {},
   "outputs": [
    {
     "name": "stdout",
     "output_type": "stream",
     "text": [
      "---synthetic df shape: (30, 7)\n"
     ]
    },
    {
     "data": {
      "text/html": [
       "<div>\n",
       "<style scoped>\n",
       "    .dataframe tbody tr th:only-of-type {\n",
       "        vertical-align: middle;\n",
       "    }\n",
       "\n",
       "    .dataframe tbody tr th {\n",
       "        vertical-align: top;\n",
       "    }\n",
       "\n",
       "    .dataframe thead th {\n",
       "        text-align: right;\n",
       "    }\n",
       "</style>\n",
       "<table border=\"1\" class=\"dataframe\">\n",
       "  <thead>\n",
       "    <tr style=\"text-align: right;\">\n",
       "      <th></th>\n",
       "      <th>age</th>\n",
       "      <th>salary</th>\n",
       "      <th>experience_years</th>\n",
       "      <th>education_level</th>\n",
       "      <th>city</th>\n",
       "      <th>owns_car</th>\n",
       "      <th>target</th>\n",
       "    </tr>\n",
       "  </thead>\n",
       "  <tbody>\n",
       "    <tr>\n",
       "      <th>0</th>\n",
       "      <td>58.0</td>\n",
       "      <td>85725.0</td>\n",
       "      <td>3.0</td>\n",
       "      <td>phd</td>\n",
       "      <td>Delhi</td>\n",
       "      <td>no</td>\n",
       "      <td>0</td>\n",
       "    </tr>\n",
       "    <tr>\n",
       "      <th>1</th>\n",
       "      <td>48.0</td>\n",
       "      <td>149981.0</td>\n",
       "      <td>1.0</td>\n",
       "      <td>master</td>\n",
       "      <td>Bangalore</td>\n",
       "      <td>yes</td>\n",
       "      <td>1</td>\n",
       "    </tr>\n",
       "    <tr>\n",
       "      <th>2</th>\n",
       "      <td>34.0</td>\n",
       "      <td>104654.0</td>\n",
       "      <td>5.0</td>\n",
       "      <td>master</td>\n",
       "      <td>Kolkata</td>\n",
       "      <td>NaN</td>\n",
       "      <td>0</td>\n",
       "    </tr>\n",
       "    <tr>\n",
       "      <th>3</th>\n",
       "      <td>27.0</td>\n",
       "      <td>186845.0</td>\n",
       "      <td>3.0</td>\n",
       "      <td>master</td>\n",
       "      <td>Kolkata</td>\n",
       "      <td>no</td>\n",
       "      <td>1</td>\n",
       "    </tr>\n",
       "    <tr>\n",
       "      <th>4</th>\n",
       "      <td>40.0</td>\n",
       "      <td>139346.0</td>\n",
       "      <td>28.0</td>\n",
       "      <td>highschool</td>\n",
       "      <td>Mumbai</td>\n",
       "      <td>no</td>\n",
       "      <td>1</td>\n",
       "    </tr>\n",
       "    <tr>\n",
       "      <th>5</th>\n",
       "      <td>58.0</td>\n",
       "      <td>87435.0</td>\n",
       "      <td>17.0</td>\n",
       "      <td>phd</td>\n",
       "      <td>Kolkata</td>\n",
       "      <td>yes</td>\n",
       "      <td>0</td>\n",
       "    </tr>\n",
       "    <tr>\n",
       "      <th>6</th>\n",
       "      <td>38.0</td>\n",
       "      <td>76886.0</td>\n",
       "      <td>NaN</td>\n",
       "      <td>master</td>\n",
       "      <td>Mumbai</td>\n",
       "      <td>yes</td>\n",
       "      <td>0</td>\n",
       "    </tr>\n",
       "    <tr>\n",
       "      <th>7</th>\n",
       "      <td>42.0</td>\n",
       "      <td>86803.0</td>\n",
       "      <td>33.0</td>\n",
       "      <td>master</td>\n",
       "      <td>Kolkata</td>\n",
       "      <td>yes</td>\n",
       "      <td>1</td>\n",
       "    </tr>\n",
       "  </tbody>\n",
       "</table>\n",
       "</div>"
      ],
      "text/plain": [
       "    age    salary  experience_years education_level       city owns_car  \\\n",
       "0  58.0   85725.0               3.0             phd      Delhi       no   \n",
       "1  48.0  149981.0               1.0          master  Bangalore      yes   \n",
       "2  34.0  104654.0               5.0          master    Kolkata      NaN   \n",
       "3  27.0  186845.0               3.0          master    Kolkata       no   \n",
       "4  40.0  139346.0              28.0      highschool     Mumbai       no   \n",
       "5  58.0   87435.0              17.0             phd    Kolkata      yes   \n",
       "6  38.0   76886.0               NaN          master     Mumbai      yes   \n",
       "7  42.0   86803.0              33.0          master    Kolkata      yes   \n",
       "\n",
       "   target  \n",
       "0       0  \n",
       "1       1  \n",
       "2       0  \n",
       "3       1  \n",
       "4       1  \n",
       "5       0  \n",
       "6       0  \n",
       "7       1  "
      ]
     },
     "metadata": {},
     "output_type": "display_data"
    },
    {
     "name": "stdout",
     "output_type": "stream",
     "text": [
      "\n",
      "Missing per column:\n",
      "age                 0\n",
      "salary              2\n",
      "experience_years    2\n",
      "education_level     0\n",
      "city                0\n",
      "owns_car            2\n",
      "target              0\n",
      "dtype: int64\n",
      "\n",
      "Target value counts:\n",
      " target\n",
      "1    16\n",
      "0    14\n",
      "Name: count, dtype: int64\n"
     ]
    }
   ],
   "source": [
    "# Introduce missing values intentionally\n",
    "idx = np.random.choice(df.index, size=6, replace=False)\n",
    "df.loc[idx[:2], \"salary\"] = np.nan\n",
    "df.loc[idx[2:4], \"experience_years\"] = np.nan\n",
    "df.loc[idx[4:], \"owns_car\"] = np.nan\n",
    "\n",
    "show_df_info(df, \"synthetic df\")\n",
    "print(\"\\nTarget value counts:\\n\", df[\"target\"].value_counts())"
   ]
  },
  {
   "cell_type": "markdown",
   "id": "b3fb1c15",
   "metadata": {},
   "source": [
    "## Train-Test Split"
   ]
  },
  {
   "cell_type": "code",
   "execution_count": 50,
   "id": "943fa7a6",
   "metadata": {},
   "outputs": [
    {
     "name": "stdout",
     "output_type": "stream",
     "text": [
      "X_train:  (22, 6) X_test:  (8, 6)\n"
     ]
    }
   ],
   "source": [
    "X = df.drop(columns=['target'])\n",
    "y = df['target']\n",
    "\n",
    "X_train, X_test, y_train, y_test = train_test_split(X, y , test_size=0.25, random_state=42, stratify=y)\n",
    "\n",
    "print(\"X_train: \",X_train.shape, \"X_test: \", X_test.shape)"
   ]
  },
  {
   "cell_type": "markdown",
   "id": "cba3e542",
   "metadata": {},
   "source": [
    "# Scenario A\n",
    "\n",
    "Create everything Manually ( No Column Transformer, No Pipeline )"
   ]
  },
  {
   "cell_type": "code",
   "execution_count": 51,
   "id": "a01aafe6",
   "metadata": {},
   "outputs": [],
   "source": [
    "numeric_cols = ['age','salary','experience_years']\n",
    "ordinal_cols = ['education_level']\n",
    "nominal_cols = ['city','owns_car']"
   ]
  },
  {
   "cell_type": "markdown",
   "id": "070a27ca",
   "metadata": {},
   "source": [
    "### Simple Imputer"
   ]
  },
  {
   "cell_type": "code",
   "execution_count": 53,
   "id": "1b149ca4",
   "metadata": {},
   "outputs": [],
   "source": [
    "from sklearn.impute import SimpleImputer\n",
    "\n",
    "num_imputer = SimpleImputer(strategy='median')\n",
    "\n",
    "X_train_num = num_imputer.fit_transform(X_train[numeric_cols])\n",
    "X_test_num = num_imputer.transform(X_test[numeric_cols])\n",
    "\n",
    "X_train_num = pd.DataFrame(X_train_num, index=X_train.index, columns=numeric_cols)\n",
    "X_test_num = pd.DataFrame(X_test_num, index=X_test.index, columns=numeric_cols)"
   ]
  },
  {
   "cell_type": "markdown",
   "id": "929d5bc5",
   "metadata": {},
   "source": [
    "### Standardization"
   ]
  },
  {
   "cell_type": "code",
   "execution_count": 58,
   "id": "73c5dbbb",
   "metadata": {},
   "outputs": [],
   "source": [
    "from sklearn.preprocessing import StandardScaler\n",
    "\n",
    "scaler = StandardScaler()\n",
    "X_train_num_scaled = scaler.fit_transform(X_train_num)\n",
    "X_test_num_scaled = scaler.transform(X_test_num)\n",
    "\n",
    "X_train_num_scaled = pd.DataFrame(X_train_num_scaled, index=X_train.index, columns=numeric_cols)\n",
    "X_test_num_scaled = pd.DataFrame(X_test_num_scaled, index=X_test.index, columns = numeric_cols)"
   ]
  },
  {
   "cell_type": "markdown",
   "id": "cc60da80",
   "metadata": {},
   "source": [
    "### Ordinal Encoding"
   ]
  },
  {
   "cell_type": "code",
   "execution_count": null,
   "id": "824ab31d",
   "metadata": {},
   "outputs": [
    {
     "data": {
      "text/html": [
       "<div>\n",
       "<style scoped>\n",
       "    .dataframe tbody tr th:only-of-type {\n",
       "        vertical-align: middle;\n",
       "    }\n",
       "\n",
       "    .dataframe tbody tr th {\n",
       "        vertical-align: top;\n",
       "    }\n",
       "\n",
       "    .dataframe thead th {\n",
       "        text-align: right;\n",
       "    }\n",
       "</style>\n",
       "<table border=\"1\" class=\"dataframe\">\n",
       "  <thead>\n",
       "    <tr style=\"text-align: right;\">\n",
       "      <th></th>\n",
       "      <th>education_level</th>\n",
       "    </tr>\n",
       "  </thead>\n",
       "  <tbody>\n",
       "    <tr>\n",
       "      <th>13</th>\n",
       "      <td>1.0</td>\n",
       "    </tr>\n",
       "    <tr>\n",
       "      <th>22</th>\n",
       "      <td>3.0</td>\n",
       "    </tr>\n",
       "    <tr>\n",
       "      <th>25</th>\n",
       "      <td>1.0</td>\n",
       "    </tr>\n",
       "    <tr>\n",
       "      <th>2</th>\n",
       "      <td>2.0</td>\n",
       "    </tr>\n",
       "    <tr>\n",
       "      <th>16</th>\n",
       "      <td>2.0</td>\n",
       "    </tr>\n",
       "  </tbody>\n",
       "</table>\n",
       "</div>"
      ],
      "text/plain": [
       "    education_level\n",
       "13              1.0\n",
       "22              3.0\n",
       "25              1.0\n",
       "2               2.0\n",
       "16              2.0"
      ]
     },
     "execution_count": 61,
     "metadata": {},
     "output_type": "execute_result"
    }
   ],
   "source": [
    "from sklearn.preprocessing import OrdinalEncoder\n",
    "\n",
    "oe = OrdinalEncoder(categories=[['highschool','bachelor','master','phd']])\n",
    "\n",
    "X_train_ord = oe.fit_transform(X_train[ordinal_cols])\n",
    "X_test_ord = oe.transform(X_test[ordinal_cols])\n",
    "\n",
    "X_train_ord = pd.DataFrame(X_train_ord, index = X_train.index, columns=ordinal_cols)\n",
    "X_test_ord = pd.DataFrame(X_test_ord,index=X_test.index, columns=ordinal_cols)"
   ]
  },
  {
   "cell_type": "markdown",
   "id": "31434adb",
   "metadata": {},
   "source": [
    "### One Hot Encoder"
   ]
  },
  {
   "cell_type": "code",
   "execution_count": 65,
   "id": "011fa807",
   "metadata": {},
   "outputs": [],
   "source": [
    "from sklearn.preprocessing import OneHotEncoder\n",
    "\n",
    "ohe = OneHotEncoder(drop='first', sparse_output=False, handle_unknown='ignore')\n",
    "X_train_nom = pd.DataFrame(ohe.fit_transform(X_train[nominal_cols]), index = X_train.index, columns = ohe.get_feature_names_out(nominal_cols))\n",
    "X_test_nom = pd.DataFrame(ohe.transform(X_test[nominal_cols]), index = X_test.index, columns=ohe.get_feature_names_out(nominal_cols))"
   ]
  },
  {
   "cell_type": "markdown",
   "id": "4c78113b",
   "metadata": {},
   "source": [
    "## Concatenate all the dataframes"
   ]
  },
  {
   "cell_type": "code",
   "execution_count": 66,
   "id": "4e8d62b8",
   "metadata": {},
   "outputs": [],
   "source": [
    "X_train_manual = pd.concat([X_train_num_scaled,X_train_ord,X_train_nom],axis=1)\n",
    "X_test_manual = pd.concat([X_test_num_scaled,X_test_ord,X_test_nom],axis=1)"
   ]
  },
  {
   "cell_type": "code",
   "execution_count": 68,
   "id": "1fb8a5fc",
   "metadata": {},
   "outputs": [
    {
     "name": "stdout",
     "output_type": "stream",
     "text": [
      "Manual processed shapes: (22, 9) (8, 9)\n"
     ]
    },
    {
     "data": {
      "text/html": [
       "<div>\n",
       "<style scoped>\n",
       "    .dataframe tbody tr th:only-of-type {\n",
       "        vertical-align: middle;\n",
       "    }\n",
       "\n",
       "    .dataframe tbody tr th {\n",
       "        vertical-align: top;\n",
       "    }\n",
       "\n",
       "    .dataframe thead th {\n",
       "        text-align: right;\n",
       "    }\n",
       "</style>\n",
       "<table border=\"1\" class=\"dataframe\">\n",
       "  <thead>\n",
       "    <tr style=\"text-align: right;\">\n",
       "      <th></th>\n",
       "      <th>age</th>\n",
       "      <th>salary</th>\n",
       "      <th>experience_years</th>\n",
       "      <th>education_level</th>\n",
       "      <th>city_Delhi</th>\n",
       "      <th>city_Kolkata</th>\n",
       "      <th>city_Mumbai</th>\n",
       "      <th>owns_car_yes</th>\n",
       "      <th>owns_car_nan</th>\n",
       "    </tr>\n",
       "  </thead>\n",
       "  <tbody>\n",
       "    <tr>\n",
       "      <th>13</th>\n",
       "      <td>0.260781</td>\n",
       "      <td>-0.998170</td>\n",
       "      <td>-0.049825</td>\n",
       "      <td>1.0</td>\n",
       "      <td>0.0</td>\n",
       "      <td>1.0</td>\n",
       "      <td>0.0</td>\n",
       "      <td>0.0</td>\n",
       "      <td>1.0</td>\n",
       "    </tr>\n",
       "    <tr>\n",
       "      <th>22</th>\n",
       "      <td>1.093596</td>\n",
       "      <td>1.422973</td>\n",
       "      <td>0.049825</td>\n",
       "      <td>3.0</td>\n",
       "      <td>0.0</td>\n",
       "      <td>0.0</td>\n",
       "      <td>0.0</td>\n",
       "      <td>1.0</td>\n",
       "      <td>0.0</td>\n",
       "    </tr>\n",
       "    <tr>\n",
       "      <th>25</th>\n",
       "      <td>0.353316</td>\n",
       "      <td>-1.522209</td>\n",
       "      <td>-0.747372</td>\n",
       "      <td>1.0</td>\n",
       "      <td>0.0</td>\n",
       "      <td>1.0</td>\n",
       "      <td>0.0</td>\n",
       "      <td>1.0</td>\n",
       "      <td>0.0</td>\n",
       "    </tr>\n",
       "    <tr>\n",
       "      <th>2</th>\n",
       "      <td>-0.572035</td>\n",
       "      <td>-0.075405</td>\n",
       "      <td>-0.847021</td>\n",
       "      <td>2.0</td>\n",
       "      <td>0.0</td>\n",
       "      <td>1.0</td>\n",
       "      <td>0.0</td>\n",
       "      <td>0.0</td>\n",
       "      <td>1.0</td>\n",
       "    </tr>\n",
       "    <tr>\n",
       "      <th>16</th>\n",
       "      <td>-1.774990</td>\n",
       "      <td>-1.701562</td>\n",
       "      <td>0.149474</td>\n",
       "      <td>2.0</td>\n",
       "      <td>0.0</td>\n",
       "      <td>1.0</td>\n",
       "      <td>0.0</td>\n",
       "      <td>1.0</td>\n",
       "      <td>0.0</td>\n",
       "    </tr>\n",
       "  </tbody>\n",
       "</table>\n",
       "</div>"
      ],
      "text/plain": [
       "         age    salary  experience_years  education_level  city_Delhi  \\\n",
       "13  0.260781 -0.998170         -0.049825              1.0         0.0   \n",
       "22  1.093596  1.422973          0.049825              3.0         0.0   \n",
       "25  0.353316 -1.522209         -0.747372              1.0         0.0   \n",
       "2  -0.572035 -0.075405         -0.847021              2.0         0.0   \n",
       "16 -1.774990 -1.701562          0.149474              2.0         0.0   \n",
       "\n",
       "    city_Kolkata  city_Mumbai  owns_car_yes  owns_car_nan  \n",
       "13           1.0          0.0           0.0           1.0  \n",
       "22           0.0          0.0           1.0           0.0  \n",
       "25           1.0          0.0           1.0           0.0  \n",
       "2            1.0          0.0           0.0           1.0  \n",
       "16           1.0          0.0           1.0           0.0  "
      ]
     },
     "metadata": {},
     "output_type": "display_data"
    }
   ],
   "source": [
    "print(\"Manual processed shapes:\", X_train_manual.shape, X_test_manual.shape)\n",
    "display(X_train_manual.head())"
   ]
  },
  {
   "cell_type": "markdown",
   "id": "c730aeb0",
   "metadata": {},
   "source": [
    "## Train and Evaluate the Model"
   ]
  },
  {
   "cell_type": "code",
   "execution_count": 69,
   "id": "956111e3",
   "metadata": {},
   "outputs": [],
   "source": [
    "from sklearn.linear_model import LogisticRegression"
   ]
  },
  {
   "cell_type": "code",
   "execution_count": null,
   "id": "dc475224",
   "metadata": {},
   "outputs": [
    {
     "data": {
      "text/plain": [
       "array([0, 1, 1, 0, 0, 1, 0, 0])"
      ]
     },
     "execution_count": 72,
     "metadata": {},
     "output_type": "execute_result"
    }
   ],
   "source": [
    "model_manual = LogisticRegression(max_iter=1000)\n",
    "model_manual.fit(X_train_manual, y_train)\n",
    "y_pred_manual = model_manual.predict(X_test_manual)\n"
   ]
  },
  {
   "cell_type": "code",
   "execution_count": 75,
   "id": "4d747cbe",
   "metadata": {},
   "outputs": [
    {
     "name": "stdout",
     "output_type": "stream",
     "text": [
      "0.875\n",
      "[[4 0]\n",
      " [1 3]]\n",
      "              precision    recall  f1-score   support\n",
      "\n",
      "           0       0.80      1.00      0.89         4\n",
      "           1       1.00      0.75      0.86         4\n",
      "\n",
      "    accuracy                           0.88         8\n",
      "   macro avg       0.90      0.88      0.87         8\n",
      "weighted avg       0.90      0.88      0.87         8\n",
      "\n"
     ]
    }
   ],
   "source": [
    "from sklearn.metrics import accuracy_score, confusion_matrix, classification_report\n",
    "\n",
    "print(accuracy_score(y_test, y_pred_manual))\n",
    "print(confusion_matrix(y_test, y_pred_manual))\n",
    "print(classification_report(y_test, y_pred_manual))"
   ]
  },
  {
   "cell_type": "markdown",
   "id": "099a8a65",
   "metadata": {},
   "source": [
    "# Scenario B\n",
    "Use ColumnTransformer (CT) but do not use Pipeline"
   ]
  },
  {
   "cell_type": "code",
   "execution_count": 78,
   "id": "7476e60a",
   "metadata": {},
   "outputs": [
    {
     "data": {
      "text/html": [
       "<div>\n",
       "<style scoped>\n",
       "    .dataframe tbody tr th:only-of-type {\n",
       "        vertical-align: middle;\n",
       "    }\n",
       "\n",
       "    .dataframe tbody tr th {\n",
       "        vertical-align: top;\n",
       "    }\n",
       "\n",
       "    .dataframe thead th {\n",
       "        text-align: right;\n",
       "    }\n",
       "</style>\n",
       "<table border=\"1\" class=\"dataframe\">\n",
       "  <thead>\n",
       "    <tr style=\"text-align: right;\">\n",
       "      <th></th>\n",
       "      <th>age</th>\n",
       "      <th>salary</th>\n",
       "      <th>experience_years</th>\n",
       "      <th>education_level</th>\n",
       "      <th>city</th>\n",
       "      <th>owns_car</th>\n",
       "      <th>target</th>\n",
       "    </tr>\n",
       "  </thead>\n",
       "  <tbody>\n",
       "    <tr>\n",
       "      <th>0</th>\n",
       "      <td>58.0</td>\n",
       "      <td>85725.0</td>\n",
       "      <td>3.0</td>\n",
       "      <td>phd</td>\n",
       "      <td>Delhi</td>\n",
       "      <td>no</td>\n",
       "      <td>0</td>\n",
       "    </tr>\n",
       "    <tr>\n",
       "      <th>1</th>\n",
       "      <td>48.0</td>\n",
       "      <td>149981.0</td>\n",
       "      <td>1.0</td>\n",
       "      <td>master</td>\n",
       "      <td>Bangalore</td>\n",
       "      <td>yes</td>\n",
       "      <td>1</td>\n",
       "    </tr>\n",
       "    <tr>\n",
       "      <th>2</th>\n",
       "      <td>34.0</td>\n",
       "      <td>104654.0</td>\n",
       "      <td>5.0</td>\n",
       "      <td>master</td>\n",
       "      <td>Kolkata</td>\n",
       "      <td>no</td>\n",
       "      <td>0</td>\n",
       "    </tr>\n",
       "    <tr>\n",
       "      <th>3</th>\n",
       "      <td>27.0</td>\n",
       "      <td>186845.0</td>\n",
       "      <td>3.0</td>\n",
       "      <td>master</td>\n",
       "      <td>Kolkata</td>\n",
       "      <td>no</td>\n",
       "      <td>1</td>\n",
       "    </tr>\n",
       "    <tr>\n",
       "      <th>4</th>\n",
       "      <td>40.0</td>\n",
       "      <td>139346.0</td>\n",
       "      <td>28.0</td>\n",
       "      <td>highschool</td>\n",
       "      <td>Mumbai</td>\n",
       "      <td>no</td>\n",
       "      <td>1</td>\n",
       "    </tr>\n",
       "  </tbody>\n",
       "</table>\n",
       "</div>"
      ],
      "text/plain": [
       "    age    salary  experience_years education_level       city owns_car  \\\n",
       "0  58.0   85725.0               3.0             phd      Delhi       no   \n",
       "1  48.0  149981.0               1.0          master  Bangalore      yes   \n",
       "2  34.0  104654.0               5.0          master    Kolkata       no   \n",
       "3  27.0  186845.0               3.0          master    Kolkata       no   \n",
       "4  40.0  139346.0              28.0      highschool     Mumbai       no   \n",
       "\n",
       "   target  \n",
       "0       0  \n",
       "1       1  \n",
       "2       0  \n",
       "3       1  \n",
       "4       1  "
      ]
     },
     "execution_count": 78,
     "metadata": {},
     "output_type": "execute_result"
    }
   ],
   "source": [
    "np.random.seed(42)\n",
    "n = 30\n",
    "\n",
    "age = np.random.randint(20, 60, n).astype(float)\n",
    "salary = np.random.randint(20000, 200000, n).astype(float)\n",
    "experience = np.random.randint(0, 35, n).astype(float)\n",
    "education = np.random.choice([\"highschool\", \"bachelor\", \"master\", \"phd\"], size=n)\n",
    "city = np.random.choice([\"Mumbai\", \"Bangalore\", \"Kolkata\", \"Delhi\"], size=n)\n",
    "owns_car = np.random.choice([\"yes\", \"no\"], size=n)\n",
    "\n",
    "# synthetic target based on salary & experience + noise\n",
    "prob = (\n",
    "    (salary / salary.max()) * 0.6\n",
    "    + (experience / experience.max()) * 0.3\n",
    "    + np.random.rand(n) * 0.1\n",
    ")\n",
    "target = (prob > 0.5).astype(int)\n",
    "\n",
    "df = pd.DataFrame(\n",
    "    {\n",
    "        \"age\": age,\n",
    "        \"salary\": salary,\n",
    "        \"experience_years\": experience,\n",
    "        \"education_level\": education,\n",
    "        \"city\": city,\n",
    "        \"owns_car\": owns_car,\n",
    "        \"target\": target,\n",
    "    }\n",
    ")\n",
    "\n",
    "df.head()"
   ]
  },
  {
   "cell_type": "code",
   "execution_count": 79,
   "id": "636e534b",
   "metadata": {},
   "outputs": [
    {
     "name": "stdout",
     "output_type": "stream",
     "text": [
      "X_train:  (22, 6) X_test:  (8, 6)\n"
     ]
    }
   ],
   "source": [
    "X = df.drop(columns=[\"target\"])\n",
    "y = df[\"target\"]\n",
    "\n",
    "X_train, X_test, y_train, y_test = train_test_split(\n",
    "    X, y, test_size=0.25, random_state=42, stratify=y\n",
    ")\n",
    "\n",
    "print(\"X_train: \", X_train.shape, \"X_test: \", X_test.shape)"
   ]
  },
  {
   "cell_type": "code",
   "execution_count": 80,
   "id": "d79d0524",
   "metadata": {},
   "outputs": [],
   "source": [
    "from sklearn.compose import ColumnTransformer\n",
    "\n",
    "numeric_cols = [\"age\", \"salary\", \"experience_years\"]\n",
    "ordinal_col = [\"education_level\"]\n",
    "nominal_cols = [\"city\", \"owns_car\"]\n"
   ]
  },
  {
   "cell_type": "code",
   "execution_count": 89,
   "id": "8f03810b",
   "metadata": {},
   "outputs": [],
   "source": [
    "ct = ColumnTransformer(transformers=[\n",
    "    ('num_imputer',SimpleImputer(strategy='median'),numeric_cols),\n",
    "    ('ord_enc',OrdinalEncoder(categories=[['highschool','bachelor','master','phd']]),ordinal_cols),\n",
    "    ('nom_ohe',OneHotEncoder(drop=\"first\",sparse_output=False,handle_unknown='ignore'), nominal_cols)\n",
    "],remainder='drop')\n",
    "\n",
    "X_train_ct = ct.fit_transform(X_train)\n",
    "X_test_ct = ct.transform(X_test)\n",
    "\n",
    "cols = ct.get_feature_names_out()\n",
    "X_train_ct = pd.DataFrame(X_train_ct, columns=cols, index=X_train.index)\n",
    "X_test_ct = pd.DataFrame(X_test_ct, columns=cols, index=X_test.index)"
   ]
  },
  {
   "cell_type": "code",
   "execution_count": 90,
   "id": "c1067f86",
   "metadata": {},
   "outputs": [
    {
     "data": {
      "text/html": [
       "<div>\n",
       "<style scoped>\n",
       "    .dataframe tbody tr th:only-of-type {\n",
       "        vertical-align: middle;\n",
       "    }\n",
       "\n",
       "    .dataframe tbody tr th {\n",
       "        vertical-align: top;\n",
       "    }\n",
       "\n",
       "    .dataframe thead th {\n",
       "        text-align: right;\n",
       "    }\n",
       "</style>\n",
       "<table border=\"1\" class=\"dataframe\">\n",
       "  <thead>\n",
       "    <tr style=\"text-align: right;\">\n",
       "      <th></th>\n",
       "      <th>num_imputer__age</th>\n",
       "      <th>num_imputer__salary</th>\n",
       "      <th>num_imputer__experience_years</th>\n",
       "      <th>ord_enc__education_level</th>\n",
       "      <th>nom_ohe__city_Delhi</th>\n",
       "      <th>nom_ohe__city_Kolkata</th>\n",
       "      <th>nom_ohe__city_Mumbai</th>\n",
       "      <th>nom_ohe__owns_car_yes</th>\n",
       "    </tr>\n",
       "  </thead>\n",
       "  <tbody>\n",
       "    <tr>\n",
       "      <th>13</th>\n",
       "      <td>43.0</td>\n",
       "      <td>61606.0</td>\n",
       "      <td>13.0</td>\n",
       "      <td>1.0</td>\n",
       "      <td>0.0</td>\n",
       "      <td>1.0</td>\n",
       "      <td>0.0</td>\n",
       "      <td>1.0</td>\n",
       "    </tr>\n",
       "    <tr>\n",
       "      <th>22</th>\n",
       "      <td>52.0</td>\n",
       "      <td>174555.0</td>\n",
       "      <td>14.0</td>\n",
       "      <td>3.0</td>\n",
       "      <td>0.0</td>\n",
       "      <td>0.0</td>\n",
       "      <td>0.0</td>\n",
       "      <td>1.0</td>\n",
       "    </tr>\n",
       "    <tr>\n",
       "      <th>25</th>\n",
       "      <td>44.0</td>\n",
       "      <td>37159.0</td>\n",
       "      <td>6.0</td>\n",
       "      <td>1.0</td>\n",
       "      <td>0.0</td>\n",
       "      <td>1.0</td>\n",
       "      <td>0.0</td>\n",
       "      <td>1.0</td>\n",
       "    </tr>\n",
       "    <tr>\n",
       "      <th>2</th>\n",
       "      <td>34.0</td>\n",
       "      <td>104654.0</td>\n",
       "      <td>5.0</td>\n",
       "      <td>2.0</td>\n",
       "      <td>0.0</td>\n",
       "      <td>1.0</td>\n",
       "      <td>0.0</td>\n",
       "      <td>0.0</td>\n",
       "    </tr>\n",
       "    <tr>\n",
       "      <th>16</th>\n",
       "      <td>21.0</td>\n",
       "      <td>28792.0</td>\n",
       "      <td>15.0</td>\n",
       "      <td>2.0</td>\n",
       "      <td>0.0</td>\n",
       "      <td>1.0</td>\n",
       "      <td>0.0</td>\n",
       "      <td>1.0</td>\n",
       "    </tr>\n",
       "  </tbody>\n",
       "</table>\n",
       "</div>"
      ],
      "text/plain": [
       "    num_imputer__age  num_imputer__salary  num_imputer__experience_years  \\\n",
       "13              43.0              61606.0                           13.0   \n",
       "22              52.0             174555.0                           14.0   \n",
       "25              44.0              37159.0                            6.0   \n",
       "2               34.0             104654.0                            5.0   \n",
       "16              21.0              28792.0                           15.0   \n",
       "\n",
       "    ord_enc__education_level  nom_ohe__city_Delhi  nom_ohe__city_Kolkata  \\\n",
       "13                       1.0                  0.0                    1.0   \n",
       "22                       3.0                  0.0                    0.0   \n",
       "25                       1.0                  0.0                    1.0   \n",
       "2                        2.0                  0.0                    1.0   \n",
       "16                       2.0                  0.0                    1.0   \n",
       "\n",
       "    nom_ohe__city_Mumbai  nom_ohe__owns_car_yes  \n",
       "13                   0.0                    1.0  \n",
       "22                   0.0                    1.0  \n",
       "25                   0.0                    1.0  \n",
       "2                    0.0                    0.0  \n",
       "16                   0.0                    1.0  "
      ]
     },
     "execution_count": 90,
     "metadata": {},
     "output_type": "execute_result"
    }
   ],
   "source": [
    "X_train_ct.head()"
   ]
  },
  {
   "cell_type": "markdown",
   "id": "61820af6",
   "metadata": {},
   "source": [
    "# Scenario C\n",
    "Using both Column Transformer and Pipelines - End to End Workflow"
   ]
  },
  {
   "cell_type": "markdown",
   "id": "b171fb2b",
   "metadata": {},
   "source": [
    "### 📦 Step 1: Import Libraries"
   ]
  },
  {
   "cell_type": "code",
   "execution_count": 100,
   "id": "9b211b46",
   "metadata": {},
   "outputs": [],
   "source": [
    "import pandas as pd\n",
    "import numpy as np\n",
    "\n",
    "from sklearn.model_selection import train_test_split\n",
    "from sklearn.compose import ColumnTransformer\n",
    "from sklearn.pipeline import Pipeline\n",
    "from sklearn.impute import SimpleImputer\n",
    "from sklearn.preprocessing import StandardScaler, OrdinalEncoder, OneHotEncoder\n",
    "from sklearn.linear_model import LogisticRegression\n",
    "from sklearn.metrics import accuracy_score, confusion_matrix, classification_report\n",
    "import matplotlib.pyplot as plt\n",
    "import seaborn as sns\n",
    "import joblib"
   ]
  },
  {
   "cell_type": "markdown",
   "id": "605db006",
   "metadata": {},
   "source": [
    "### 🧱 Step 2: Create Sample Dataset"
   ]
  },
  {
   "cell_type": "code",
   "execution_count": 143,
   "id": "308b3f13",
   "metadata": {},
   "outputs": [],
   "source": [
    "import numpy as np\n",
    "import pandas as pd\n",
    "\n",
    "np.random.seed(42)\n",
    "\n",
    "n = 500\n",
    "data = pd.DataFrame(\n",
    "    {\n",
    "        \"age\": np.random.randint(22, 60, n),\n",
    "        \"salary\": np.random.randint(30000, 100000, n),\n",
    "        \"experience_years\": np.random.randint(0, 15, n),\n",
    "        \"education_level\": np.random.choice(\n",
    "            [\"highschool\", \"bachelor\", \"master\", \"phd\"], n\n",
    "        ),\n",
    "        \"city\": np.random.choice([\"Delhi\", \"Mumbai\", \"Bangalore\", \"Chennai\"], n),\n",
    "        \"owns_car\": np.random.choice([\"yes\", \"no\"], n),\n",
    "        \"target\": np.random.choice([0, 1], n),\n",
    "    }\n",
    ")\n",
    "\n",
    "\n",
    "X = data.drop(\"target\", axis=1)\n",
    "y = data[\"target\"]\n",
    "\n",
    "X_train, X_test, y_train, y_test = train_test_split(\n",
    "    X, y, test_size=0.2, random_state=42, stratify=y\n",
    ")"
   ]
  },
  {
   "cell_type": "code",
   "execution_count": 144,
   "id": "c39fc687",
   "metadata": {},
   "outputs": [
    {
     "data": {
      "text/plain": [
       "((400, 6), (100, 6))"
      ]
     },
     "execution_count": 144,
     "metadata": {},
     "output_type": "execute_result"
    }
   ],
   "source": [
    "X_train.shape, X_test.shape"
   ]
  },
  {
   "cell_type": "markdown",
   "id": "6da35334",
   "metadata": {},
   "source": [
    "### ⚙️ Step 3: Define Column Groups"
   ]
  },
  {
   "cell_type": "code",
   "execution_count": 145,
   "id": "c67a73bb",
   "metadata": {},
   "outputs": [],
   "source": [
    "numeric_cols = [\"age\", \"salary\", \"experience_years\"]\n",
    "ordinal_col = [\"education_level\"]\n",
    "nominal_cols = [\"city\", \"owns_car\"]"
   ]
  },
  {
   "cell_type": "markdown",
   "id": "b4fa91ff",
   "metadata": {},
   "source": [
    "### 🧩 Step 4: Create Preprocessing Pipelines"
   ]
  },
  {
   "cell_type": "code",
   "execution_count": 146,
   "id": "dd210f0a",
   "metadata": {},
   "outputs": [],
   "source": [
    "# Numeric: Median imputation + Standard Scaling\n",
    "num_tf = Pipeline(\n",
    "    [(\"imputer\", SimpleImputer(strategy=\"median\")), (\"scaler\", StandardScaler())]\n",
    ")\n",
    "\n",
    "# Ordinal: Mode imputation + Ordinal Encoding\n",
    "ord_tf = Pipeline(\n",
    "    [\n",
    "        (\"imputer\", SimpleImputer(strategy=\"most_frequent\")),\n",
    "        (\n",
    "            \"encoder\",\n",
    "            OrdinalEncoder(categories=[[\"highschool\", \"bachelor\", \"master\", \"phd\"]]),\n",
    "        ),\n",
    "    ]\n",
    ")\n",
    "\n",
    "# Nominal: Mode imputation + One-Hot Encoding\n",
    "nom_tf = Pipeline(\n",
    "    [\n",
    "        (\"imputer\", SimpleImputer(strategy=\"most_frequent\")),\n",
    "        (\"ohe\", OneHotEncoder(drop=\"first\", sparse_output=False, handle_unknown=\"ignore\")),\n",
    "    ]\n",
    ")"
   ]
  },
  {
   "cell_type": "markdown",
   "id": "f3e9fb13",
   "metadata": {},
   "source": [
    "### 🏗️ Step 5: Combine Everything with ColumnTransformer"
   ]
  },
  {
   "cell_type": "code",
   "execution_count": 147,
   "id": "1729f8de",
   "metadata": {},
   "outputs": [],
   "source": [
    "preprocessor = ColumnTransformer(\n",
    "    transformers=[\n",
    "        (\"num\", num_tf, numeric_cols),\n",
    "        (\"ord\", ord_tf, ordinal_col),\n",
    "        (\"nom\", nom_tf, nominal_cols),\n",
    "    ],\n",
    "    remainder=\"drop\",\n",
    ")"
   ]
  },
  {
   "cell_type": "markdown",
   "id": "568e1c1b",
   "metadata": {},
   "source": [
    "### 🧠 Step 6: Build Final End-to-End Pipeline"
   ]
  },
  {
   "cell_type": "code",
   "execution_count": 148,
   "id": "399b2937",
   "metadata": {},
   "outputs": [],
   "source": [
    "model = LogisticRegression(random_state=42)\n",
    "\n",
    "final_pipeline = Pipeline([(\"preprocessor\", preprocessor), (\"model\", model)])"
   ]
  },
  {
   "cell_type": "markdown",
   "id": "bbac68c2",
   "metadata": {},
   "source": [
    "### 🚀 Step 7: Train the Full Pipeline\n",
    "\n"
   ]
  },
  {
   "cell_type": "code",
   "execution_count": 149,
   "id": "87b98ec2",
   "metadata": {},
   "outputs": [
    {
     "name": "stdout",
     "output_type": "stream",
     "text": [
      "✅ Model training complete with full preprocessing pipeline.\n"
     ]
    }
   ],
   "source": [
    "final_pipeline.fit(X_train, y_train)\n",
    "print(\"✅ Model training complete with full preprocessing pipeline.\")"
   ]
  },
  {
   "cell_type": "markdown",
   "id": "c909bcb7",
   "metadata": {},
   "source": [
    "### 🔍 Step 8: Evaluate on Test Data"
   ]
  },
  {
   "cell_type": "code",
   "execution_count": 150,
   "id": "89271658",
   "metadata": {},
   "outputs": [
    {
     "name": "stdout",
     "output_type": "stream",
     "text": [
      "Test Accuracy: 0.49\n",
      "\n",
      "Classification Report:\n",
      "               precision    recall  f1-score   support\n",
      "\n",
      "           0       0.41      0.26      0.32        46\n",
      "           1       0.52      0.69      0.59        54\n",
      "\n",
      "    accuracy                           0.49       100\n",
      "   macro avg       0.47      0.47      0.46       100\n",
      "weighted avg       0.47      0.49      0.47       100\n",
      "\n"
     ]
    },
    {
     "data": {
      "image/png": "[encoded data removed]",
      "text/plain": [
       "<Figure size 400x300 with 2 Axes>"
      ]
     },
     "metadata": {},
     "output_type": "display_data"
    }
   ],
   "source": [
    "y_pred = final_pipeline.predict(X_test)\n",
    "\n",
    "print(\"Test Accuracy:\", accuracy_score(y_test, y_pred))\n",
    "print(\"\\nClassification Report:\\n\", classification_report(y_test, y_pred))\n",
    "\n",
    "# Confusion Matrix\n",
    "cm = confusion_matrix(y_test, y_pred)\n",
    "plt.figure(figsize=(4, 3))\n",
    "sns.heatmap(cm, annot=True, fmt=\"d\", cmap=\"Blues\")\n",
    "plt.title(\"Confusion Matrix (Test Data)\")\n",
    "plt.xlabel(\"Predicted\")\n",
    "plt.ylabel(\"Actual\")\n",
    "plt.show()"
   ]
  },
  {
   "cell_type": "markdown",
   "id": "c92b2a81",
   "metadata": {},
   "source": [
    "### 💾 Step 9: Save the Entire Pipeline\n"
   ]
  },
  {
   "cell_type": "code",
   "execution_count": 151,
   "id": "f8f9a9b1",
   "metadata": {},
   "outputs": [
    {
     "name": "stdout",
     "output_type": "stream",
     "text": [
      "💾 Saved the entire preprocessing + model pipeline to disk.\n"
     ]
    }
   ],
   "source": [
    "joblib.dump(final_pipeline, \"final_model_pipeline.pkl\")\n",
    "print(\"💾 Saved the entire preprocessing + model pipeline to disk.\")"
   ]
  },
  {
   "cell_type": "markdown",
   "id": "91014cf6",
   "metadata": {},
   "source": [
    "### 🧩 Step 10: Load and Predict on a New Row (Production Simulation)"
   ]
  },
  {
   "cell_type": "code",
   "execution_count": 152,
   "id": "e5aa7fd4",
   "metadata": {},
   "outputs": [
    {
     "name": "stdout",
     "output_type": "stream",
     "text": [
      "Predicted Class: [1]\n"
     ]
    }
   ],
   "source": [
    "# Load pipeline\n",
    "loaded_pipeline = joblib.load(\"final_model_pipeline.pkl\")\n",
    "\n",
    "# Example new data (can contain missing values or unseen categories)\n",
    "new_data = pd.DataFrame(\n",
    "    {\n",
    "        \"age\": [33],\n",
    "        \"salary\": [60000],\n",
    "        \"experience_years\": [5],\n",
    "        \"education_level\": [\"master\"],\n",
    "        \"city\": [\"Bangalore\"],\n",
    "        \"owns_car\": [\"yes\"],\n",
    "    }\n",
    ")\n",
    "\n",
    "# Predict\n",
    "new_pred = loaded_pipeline.predict(new_data)\n",
    "print(\"Predicted Class:\", new_pred)"
   ]
  },
  {
   "cell_type": "code",
   "execution_count": null,
   "id": "9d44a5b7",
   "metadata": {},
   "outputs": [],
   "source": []
  }
 ],
 "metadata": {
  "kernelspec": {
   "display_name": "dsai",
   "language": "python",
   "name": "python3"
  },
  "language_info": {
   "codemirror_mode": {
    "name": "ipython",
    "version": 3
   },
   "file_extension": ".py",
   "mimetype": "text/x-python",
   "name": "python",
   "nbconvert_exporter": "python",
   "pygments_lexer": "ipython3",
   "version": "3.10.18"
  }
 },
 "nbformat": 4,
 "nbformat_minor": 5
}
