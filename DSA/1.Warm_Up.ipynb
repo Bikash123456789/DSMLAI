{
 "cells": [
  {
   "cell_type": "markdown",
   "id": "704ff803",
   "metadata": {},
   "source": [
    "# Warm Up Coding Exercises"
   ]
  },
  {
   "cell_type": "code",
   "execution_count": 3,
   "id": "d0388b0e",
   "metadata": {},
   "outputs": [],
   "source": [
    "# Array for the below problems\n",
    "a = [2, -6, -7, 8, 9, 0, -56]"
   ]
  },
  {
   "cell_type": "markdown",
   "id": "4d61ba09",
   "metadata": {},
   "source": [
    "### 1. Count all the negative numbers in an array"
   ]
  },
  {
   "cell_type": "code",
   "execution_count": 4,
   "id": "c9814bc4",
   "metadata": {},
   "outputs": [
    {
     "name": "stdout",
     "output_type": "stream",
     "text": [
      "3\n"
     ]
    }
   ],
   "source": [
    "def countNegativeNumbers(a):\n",
    "    count = 0\n",
    "    for ele in a:\n",
    "        if ele < 0:\n",
    "            count += 1\n",
    "    return count\n",
    "\n",
    "print(countNegativeNumbers(a))"
   ]
  },
  {
   "cell_type": "markdown",
   "id": "b3ee74b0",
   "metadata": {},
   "source": [
    "### 2. Find the maximum number in the array"
   ]
  },
  {
   "cell_type": "code",
   "execution_count": 5,
   "id": "89b0af9a",
   "metadata": {},
   "outputs": [
    {
     "name": "stdout",
     "output_type": "stream",
     "text": [
      "9\n"
     ]
    }
   ],
   "source": [
    "def findMax(a):\n",
    "    max = float('-inf')\n",
    "    for ele in a:\n",
    "        if ele > max:\n",
    "            max = ele\n",
    "    return max\n",
    "\n",
    "print(findMax(a))"
   ]
  },
  {
   "cell_type": "markdown",
   "id": "db7ee7a6",
   "metadata": {},
   "source": [
    "### 3. Find the minimum number in the array"
   ]
  },
  {
   "cell_type": "code",
   "execution_count": 8,
   "id": "d53c3c4e",
   "metadata": {},
   "outputs": [
    {
     "name": "stdout",
     "output_type": "stream",
     "text": [
      "-56\n"
     ]
    }
   ],
   "source": [
    "def findMin(a):\n",
    "    min = float('inf')\n",
    "    for num in a:\n",
    "        if num < min:\n",
    "            min = num\n",
    "    return min\n",
    "\n",
    "print(findMin(a))"
   ]
  },
  {
   "cell_type": "markdown",
   "id": "b6b94ca6",
   "metadata": {},
   "source": [
    "### 4. Find the Second Largest number in the array"
   ]
  },
  {
   "cell_type": "code",
   "execution_count": 9,
   "id": "3884cd07",
   "metadata": {},
   "outputs": [
    {
     "name": "stdout",
     "output_type": "stream",
     "text": [
      "There is no second largest number\n",
      "There should be minimum 2 elements in the array\n",
      "3\n"
     ]
    }
   ],
   "source": [
    "def findSecondLargest(a):\n",
    "    if len(a) < 2:\n",
    "        return \"There should be minimum 2 elements in the array\"\n",
    "    max = float('-inf')\n",
    "    max2 = float('-inf')\n",
    "    for num in a:\n",
    "        if num > max:\n",
    "            max2 = max\n",
    "            max = num\n",
    "        elif num!=max and num > max2:\n",
    "            max2 = num\n",
    "\n",
    "    if max2 == float('-inf'):\n",
    "        return \"There is no second largest number\"\n",
    "    return max2\n",
    "\n",
    "print(findSecondLargest([2,2,2,2]))\n",
    "print(findSecondLargest([2]))\n",
    "print(findSecondLargest([2,3,1,7]))\n",
    "    "
   ]
  },
  {
   "cell_type": "markdown",
   "id": "a17e4b15",
   "metadata": {},
   "source": [
    "### 5. Count the Number of Digits"
   ]
  },
  {
   "cell_type": "code",
   "execution_count": 11,
   "id": "b44f9246",
   "metadata": {},
   "outputs": [
    {
     "name": "stdout",
     "output_type": "stream",
     "text": [
      "1\n",
      "4\n",
      "6\n"
     ]
    }
   ],
   "source": [
    "def countDigits(n):\n",
    "    if n == 0:\n",
    "        return 1\n",
    "    n = abs(n)\n",
    "    count = 0\n",
    "    while n!=0:\n",
    "        n = n//10\n",
    "        count += 1\n",
    "    \n",
    "    return count\n",
    "\n",
    "print(countDigits(0))\n",
    "print(countDigits(2456))\n",
    "print(countDigits(-980788))"
   ]
  },
  {
   "cell_type": "markdown",
   "id": "b7216577",
   "metadata": {},
   "source": [
    "### 6. Reverse an integer"
   ]
  },
  {
   "cell_type": "markdown",
   "id": "02dda942",
   "metadata": {},
   "source": []
  },
  {
   "cell_type": "code",
   "execution_count": 14,
   "id": "21ddd004",
   "metadata": {},
   "outputs": [
    {
     "name": "stdout",
     "output_type": "stream",
     "text": [
      "654\n",
      "-981\n",
      "4\n"
     ]
    }
   ],
   "source": [
    "def reverseInteger(n):\n",
    "    original = n\n",
    "    n = abs(n)\n",
    "    reversed = 0\n",
    "    while n!= 0:\n",
    "        rem = n % 10\n",
    "        reversed = reversed * 10 + rem\n",
    "        n = n//10\n",
    "\n",
    "    if original < 0:\n",
    "        return -1 * reversed\n",
    "    else:\n",
    "        return reversed\n",
    "\n",
    "print(reverseInteger(456))\n",
    "print(reverseInteger(-189))\n",
    "print(reverseInteger(4))"
   ]
  },
  {
   "cell_type": "markdown",
   "id": "d6ca2c1f",
   "metadata": {},
   "source": [
    "### 7. Check if the number is Palindrome"
   ]
  },
  {
   "cell_type": "code",
   "execution_count": 16,
   "id": "107f7fd1",
   "metadata": {},
   "outputs": [
    {
     "name": "stdout",
     "output_type": "stream",
     "text": [
      "True\n",
      "True\n",
      "False\n"
     ]
    }
   ],
   "source": [
    "def checkPalindrome(x):\n",
    "    original = x\n",
    "    rev = 0\n",
    "    while x != 0:\n",
    "        rem = x % 10\n",
    "        rev = rev * 10 + rem\n",
    "        x = x // 10\n",
    "\n",
    "    if rev == original:\n",
    "        return True\n",
    "    else:\n",
    "        return False\n",
    "    \n",
    "print(checkPalindrome(434))\n",
    "print(checkPalindrome(43422434))\n",
    "print(checkPalindrome(478))"
   ]
  },
  {
   "cell_type": "code",
   "execution_count": null,
   "id": "2dbd3798",
   "metadata": {},
   "outputs": [],
   "source": []
  }
 ],
 "metadata": {
  "kernelspec": {
   "display_name": "dsai",
   "language": "python",
   "name": "python3"
  },
  "language_info": {
   "codemirror_mode": {
    "name": "ipython",
    "version": 3
   },
   "file_extension": ".py",
   "mimetype": "text/x-python",
   "name": "python",
   "nbconvert_exporter": "python",
   "pygments_lexer": "ipython3",
   "version": "3.10.18"
  }
 },
 "nbformat": 4,
 "nbformat_minor": 5
}
